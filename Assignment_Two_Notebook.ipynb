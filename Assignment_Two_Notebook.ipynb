{
 "cells": [
  {
   "cell_type": "markdown",
   "metadata": {},
   "source": [
    "## Introduction\n",
    "\n",
    "In this homework we will focus on the training and evaluation for a particular problem and dataset. The dataset in question is the same that was used in homework one, coming form the centers for disease control and prevention (CDC). We will focus on builidng a data analytics soltion for death risk prediction relating to COVID-19. The target feature death_yn is binary where the value \"Yes\" or 1 indicates that a patient died of covid 19. While a vaue of \"no\" or 0 indicates that the patient did not die. By using this target feature and a number of variable features we will try to determine which variables explain the target feature better and consequently build a predictive model around this analysis.\n",
    "\n",
    "This homework will be broken down into 5 main parts:\n",
    "- The dataset from homework one will be prepared again using the data quality plan as provided by the module coordinator.\n",
    "- The dataset from homework one will be reviewed and we will decide on which features to use to build our model\n",
    "- We will create a Linear Regression model and analyse\n",
    "- We will create a Logistical Regression model and analyse\n",
    "- We will create a Random Forest model and analyse\n",
    "- We will then try to optimize each model and find the one which performs best at predicting the target feature.\n",
    "\n",
    "\n",
    "### Import relevant packages & read in data form the CSV"
   ]
  },
  {
   "cell_type": "code",
   "execution_count": 1,
   "metadata": {},
   "outputs": [],
   "source": [
    "import pandas as pd\n",
    "# Import package numpy for numeric computing\n",
    "import numpy as np\n",
    "# Import package matplotlib for visualisation/plotting\n",
    "import matplotlib.pyplot as plt\n",
    "#For showing plots directly in the notebook run the command below\n",
    "%matplotlib inline\n",
    "# hide ipykernel warnings \n",
    "import warnings\n",
    "warnings.filterwarnings('ignore')\n",
    "from matplotlib.backends.backend_pdf import PdfPages\n",
    "from sklearn.model_selection import train_test_split\n",
    "import seaborn as sns\n",
    "from patsy import dmatrices\n",
    "from sklearn.linear_model import LinearRegression\n",
    "from sklearn.model_selection import train_test_split\n",
    "from sklearn import metrics\n",
    "from sklearn.model_selection import cross_validate\n",
    "from sklearn.model_selection import cross_val_score \n",
    "from sklearn.metrics import accuracy_score\n",
    "from sklearn.metrics import confusion_matrix\n",
    "from sklearn.linear_model import LogisticRegression\n",
    "from sklearn.tree import DecisionTreeClassifier\n",
    "from sklearn.ensemble import RandomForestClassifier\n",
    "from sklearn import tree\n",
    "from imblearn.under_sampling import RandomUnderSampler\n",
    "from imblearn.over_sampling import SMOTE"
   ]
  },
  {
   "cell_type": "code",
   "execution_count": 2,
   "metadata": {},
   "outputs": [],
   "source": [
    "# read in data from csv file to pandas dataframe.  \n",
    "df = pd.read_csv('covid19-cdc-20206773.csv')"
   ]
  },
  {
   "cell_type": "markdown",
   "metadata": {},
   "source": [
    "## Data set cleanup \n",
    "\n",
    "Prior to performing any statistical modelling the dataset must be cleaned. After much consideration it was decided to begin from the raw dataset as some steps taken in the first assignment did not line up with the data quality plan as provided by the module coordinator. We will quickly go through this process before we begin looking at the various statistical modelling techniques. "
   ]
  },
  {
   "cell_type": "code",
   "execution_count": 3,
   "metadata": {},
   "outputs": [
    {
     "data": {
      "text/html": [
       "<div>\n",
       "<style scoped>\n",
       "    .dataframe tbody tr th:only-of-type {\n",
       "        vertical-align: middle;\n",
       "    }\n",
       "\n",
       "    .dataframe tbody tr th {\n",
       "        vertical-align: top;\n",
       "    }\n",
       "\n",
       "    .dataframe thead th {\n",
       "        text-align: right;\n",
       "    }\n",
       "</style>\n",
       "<table border=\"1\" class=\"dataframe\">\n",
       "  <thead>\n",
       "    <tr style=\"text-align: right;\">\n",
       "      <th></th>\n",
       "      <th>cdc_case_earliest_dt</th>\n",
       "      <th>cdc_report_dt</th>\n",
       "      <th>pos_spec_dt</th>\n",
       "      <th>onset_dt</th>\n",
       "      <th>current_status</th>\n",
       "      <th>sex</th>\n",
       "      <th>age_group</th>\n",
       "      <th>race_ethnicity_combined</th>\n",
       "      <th>hosp_yn</th>\n",
       "      <th>icu_yn</th>\n",
       "      <th>death_yn</th>\n",
       "      <th>medcond_yn</th>\n",
       "    </tr>\n",
       "  </thead>\n",
       "  <tbody>\n",
       "    <tr>\n",
       "      <th>0</th>\n",
       "      <td>2020/11/15</td>\n",
       "      <td>2020/11/15</td>\n",
       "      <td>NaN</td>\n",
       "      <td>NaN</td>\n",
       "      <td>Laboratory-confirmed case</td>\n",
       "      <td>Male</td>\n",
       "      <td>20 - 29 Years</td>\n",
       "      <td>Unknown</td>\n",
       "      <td>No</td>\n",
       "      <td>Missing</td>\n",
       "      <td>No</td>\n",
       "      <td>Missing</td>\n",
       "    </tr>\n",
       "    <tr>\n",
       "      <th>1</th>\n",
       "      <td>2020/09/02</td>\n",
       "      <td>2020/09/02</td>\n",
       "      <td>NaN</td>\n",
       "      <td>2020/09/02</td>\n",
       "      <td>Laboratory-confirmed case</td>\n",
       "      <td>Male</td>\n",
       "      <td>40 - 49 Years</td>\n",
       "      <td>Unknown</td>\n",
       "      <td>Missing</td>\n",
       "      <td>Missing</td>\n",
       "      <td>No</td>\n",
       "      <td>Missing</td>\n",
       "    </tr>\n",
       "    <tr>\n",
       "      <th>2</th>\n",
       "      <td>2020/03/23</td>\n",
       "      <td>2020/06/10</td>\n",
       "      <td>NaN</td>\n",
       "      <td>2020/03/23</td>\n",
       "      <td>Laboratory-confirmed case</td>\n",
       "      <td>Male</td>\n",
       "      <td>20 - 29 Years</td>\n",
       "      <td>Unknown</td>\n",
       "      <td>No</td>\n",
       "      <td>Unknown</td>\n",
       "      <td>No</td>\n",
       "      <td>Yes</td>\n",
       "    </tr>\n",
       "    <tr>\n",
       "      <th>3</th>\n",
       "      <td>2020/10/05</td>\n",
       "      <td>2020/10/05</td>\n",
       "      <td>2020/10/05</td>\n",
       "      <td>NaN</td>\n",
       "      <td>Laboratory-confirmed case</td>\n",
       "      <td>Male</td>\n",
       "      <td>50 - 59 Years</td>\n",
       "      <td>Black, Non-Hispanic</td>\n",
       "      <td>Unknown</td>\n",
       "      <td>Unknown</td>\n",
       "      <td>No</td>\n",
       "      <td>No</td>\n",
       "    </tr>\n",
       "    <tr>\n",
       "      <th>4</th>\n",
       "      <td>2020/12/01</td>\n",
       "      <td>NaN</td>\n",
       "      <td>NaN</td>\n",
       "      <td>NaN</td>\n",
       "      <td>Laboratory-confirmed case</td>\n",
       "      <td>Female</td>\n",
       "      <td>20 - 29 Years</td>\n",
       "      <td>Unknown</td>\n",
       "      <td>Unknown</td>\n",
       "      <td>Missing</td>\n",
       "      <td>No</td>\n",
       "      <td>Missing</td>\n",
       "    </tr>\n",
       "  </tbody>\n",
       "</table>\n",
       "</div>"
      ],
      "text/plain": [
       "  cdc_case_earliest_dt cdc_report_dt pos_spec_dt    onset_dt  \\\n",
       "0           2020/11/15    2020/11/15         NaN         NaN   \n",
       "1           2020/09/02    2020/09/02         NaN  2020/09/02   \n",
       "2           2020/03/23    2020/06/10         NaN  2020/03/23   \n",
       "3           2020/10/05    2020/10/05  2020/10/05         NaN   \n",
       "4           2020/12/01           NaN         NaN         NaN   \n",
       "\n",
       "              current_status     sex      age_group race_ethnicity_combined  \\\n",
       "0  Laboratory-confirmed case    Male  20 - 29 Years                 Unknown   \n",
       "1  Laboratory-confirmed case    Male  40 - 49 Years                 Unknown   \n",
       "2  Laboratory-confirmed case    Male  20 - 29 Years                 Unknown   \n",
       "3  Laboratory-confirmed case    Male  50 - 59 Years     Black, Non-Hispanic   \n",
       "4  Laboratory-confirmed case  Female  20 - 29 Years                 Unknown   \n",
       "\n",
       "   hosp_yn   icu_yn death_yn medcond_yn  \n",
       "0       No  Missing       No    Missing  \n",
       "1  Missing  Missing       No    Missing  \n",
       "2       No  Unknown       No        Yes  \n",
       "3  Unknown  Unknown       No         No  \n",
       "4  Unknown  Missing       No    Missing  "
      ]
     },
     "execution_count": 3,
     "metadata": {},
     "output_type": "execute_result"
    }
   ],
   "source": [
    "#print the first few rows of the dataframe\n",
    "df.head()"
   ]
  },
  {
   "cell_type": "code",
   "execution_count": 4,
   "metadata": {},
   "outputs": [
    {
     "data": {
      "text/plain": [
       "cdc_case_earliest_dt       object\n",
       "cdc_report_dt              object\n",
       "pos_spec_dt                object\n",
       "onset_dt                   object\n",
       "current_status             object\n",
       "sex                        object\n",
       "age_group                  object\n",
       "race_ethnicity_combined    object\n",
       "hosp_yn                    object\n",
       "icu_yn                     object\n",
       "death_yn                   object\n",
       "medcond_yn                 object\n",
       "dtype: object"
      ]
     },
     "execution_count": 4,
     "metadata": {},
     "output_type": "execute_result"
    }
   ],
   "source": [
    "#print the datatypes in the dataframe\n",
    "df.dtypes"
   ]
  },
  {
   "cell_type": "markdown",
   "metadata": {},
   "source": [
    "Based on the data, it appears that all of the features are of type object. The first four objects in the list are dates, these too will be treated as categorical data as the dates only range over a couple of months. However, in order to conform to the type of data within these four features, they will be converted into datetime data type, but will still be treated as categorical data nonetheless. The rest of the objects in this dataset will be converted to data type 'category' and treated as categorical data. There are no numerical or continuous features in this dataset."
   ]
  },
  {
   "cell_type": "code",
   "execution_count": 5,
   "metadata": {},
   "outputs": [],
   "source": [
    "#converting the features with dates to datetime data types. \n",
    "date_columns = df[['cdc_case_earliest_dt','cdc_report_dt','pos_spec_dt', 'onset_dt']].columns\n",
    "for column in date_columns:\n",
    "    df[column] = pd.to_datetime(df[column])\n"
   ]
  },
  {
   "cell_type": "code",
   "execution_count": 6,
   "metadata": {},
   "outputs": [],
   "source": [
    "#Select all columns of type 'object'\n",
    "object_columns = df.select_dtypes(['object']).columns\n",
    "object_columns\n",
    "\n",
    "#Convert selected columns to type 'category'\n",
    "for column in object_columns:\n",
    "    df[column] = df[column].astype('category')\n"
   ]
  },
  {
   "cell_type": "code",
   "execution_count": 7,
   "metadata": {},
   "outputs": [],
   "source": [
    "#replacing all missing values with NaN\n",
    "df  = df.replace('Missing', np.NaN)"
   ]
  },
  {
   "cell_type": "markdown",
   "metadata": {},
   "source": [
    "## Duplicated data\n",
    "\n",
    "We will first check to see if the dataframe has duplicated data, we will then check how a dataframe with only duplicate rows compares to one without any duplicate rows in terms of percentage of labels in each category. We can see from the results below that the two dataframes are similar, apart form the fact that the duplicated rows dataframe has predominiently unknown values in icu_yn, medcond_yn. Therefore in the grand scheme of things the dataframes are quite similar and so it will be assumed that the duplicate rows are just a result of sampling from a general population where we are bound to find duplicate subjects. Therefore these rows will be kept."
   ]
  },
  {
   "cell_type": "code",
   "execution_count": 8,
   "metadata": {},
   "outputs": [
    {
     "name": "stdout",
     "output_type": "stream",
     "text": [
      "Number of duplicate (excluding first) rows in the table is:  486\n",
      "Number of duplicate rows (including first) in the table is: 855\n"
     ]
    }
   ],
   "source": [
    "#Print the number of duplicates, without the original rows that were duplicated\n",
    "print('Number of duplicate (excluding first) rows in the table is: ', df.duplicated().sum())\n",
    "\n",
    "# Check for duplicate rows. \n",
    "# Use \"keep=False\" to mark all duplicates as true, including the original rows that were duplicated.\n",
    "print('Number of duplicate rows (including first) in the table is:', df[df.duplicated(keep=False)].shape[0])"
   ]
  },
  {
   "cell_type": "code",
   "execution_count": 9,
   "metadata": {},
   "outputs": [],
   "source": [
    "duplicated_df = df[df.duplicated(keep=False)]"
   ]
  },
  {
   "cell_type": "code",
   "execution_count": 10,
   "metadata": {},
   "outputs": [
    {
     "name": "stdout",
     "output_type": "stream",
     "text": [
      "cdc_case_earliest_dt\n",
      "2020-12-30    0.047953\n",
      "2020-12-29    0.043275\n",
      "2021-01-04    0.037427\n",
      "2020-12-21    0.033918\n",
      "2021-01-12    0.029240\n",
      "                ...   \n",
      "2020-07-08    0.002339\n",
      "2020-05-07    0.002339\n",
      "2020-09-22    0.002339\n",
      "2020-06-07    0.002339\n",
      "2020-07-15    0.002339\n",
      "Name: cdc_case_earliest_dt, Length: 101, dtype: float64\n",
      "cdc_report_dt\n",
      "2020-11-25    0.041916\n",
      "2021-01-12    0.041916\n",
      "2020-12-06    0.035928\n",
      "2021-01-10    0.035928\n",
      "2020-11-12    0.035928\n",
      "2021-01-17    0.035928\n",
      "2021-01-06    0.029940\n",
      "2020-07-06    0.029940\n",
      "2021-01-15    0.023952\n",
      "2020-12-21    0.023952\n",
      "2020-11-20    0.023952\n",
      "2020-12-22    0.023952\n",
      "2020-12-14    0.023952\n",
      "2020-12-11    0.023952\n",
      "2021-01-22    0.023952\n",
      "2020-11-15    0.023952\n",
      "2020-11-23    0.023952\n",
      "2020-12-02    0.017964\n",
      "2020-10-31    0.011976\n",
      "2020-09-22    0.011976\n",
      "2020-12-15    0.011976\n",
      "2020-11-28    0.011976\n",
      "2021-01-07    0.011976\n",
      "2020-11-02    0.011976\n",
      "2020-06-07    0.011976\n",
      "2020-12-10    0.011976\n",
      "2020-11-29    0.011976\n",
      "2021-01-08    0.011976\n",
      "2020-11-24    0.011976\n",
      "2020-06-08    0.011976\n",
      "2020-08-09    0.011976\n",
      "2020-06-25    0.011976\n",
      "2020-12-28    0.011976\n",
      "2020-08-25    0.011976\n",
      "2020-10-02    0.011976\n",
      "2020-07-21    0.011976\n",
      "2020-04-20    0.011976\n",
      "2020-04-08    0.011976\n",
      "2020-10-11    0.011976\n",
      "2020-12-12    0.011976\n",
      "2020-12-29    0.011976\n",
      "2020-07-13    0.011976\n",
      "2020-11-14    0.011976\n",
      "2020-12-01    0.011976\n",
      "2021-01-04    0.011976\n",
      "2021-01-21    0.011976\n",
      "2020-11-09    0.011976\n",
      "2020-11-05    0.011976\n",
      "2020-05-24    0.011976\n",
      "2021-01-27    0.011976\n",
      "2020-12-30    0.011976\n",
      "2020-12-19    0.011976\n",
      "2021-01-05    0.011976\n",
      "2021-01-11    0.011976\n",
      "2020-12-31    0.011976\n",
      "2020-12-20    0.011976\n",
      "2020-07-04    0.011976\n",
      "2021-01-14    0.011976\n",
      "Name: cdc_report_dt, dtype: float64\n",
      "pos_spec_dt\n",
      "2021-01-12    0.121951\n",
      "2021-01-05    0.097561\n",
      "2020-11-25    0.048780\n",
      "2021-01-08    0.048780\n",
      "2020-12-22    0.048780\n",
      "2021-01-06    0.048780\n",
      "2020-12-20    0.048780\n",
      "2020-12-14    0.048780\n",
      "2021-01-11    0.048780\n",
      "2021-01-09    0.048780\n",
      "2020-12-30    0.048780\n",
      "2020-04-26    0.048780\n",
      "2021-01-10    0.048780\n",
      "2020-05-07    0.048780\n",
      "2020-05-01    0.048780\n",
      "2020-09-30    0.048780\n",
      "2020-12-29    0.048780\n",
      "2020-12-11    0.048780\n",
      "Name: pos_spec_dt, dtype: float64\n",
      "onset_dt\n",
      "2020-11-12    0.071429\n",
      "2020-11-25    0.059524\n",
      "2020-07-06    0.059524\n",
      "2020-11-23    0.047619\n",
      "2020-12-01    0.047619\n",
      "2020-12-04    0.023810\n",
      "2021-01-07    0.023810\n",
      "2020-06-07    0.023810\n",
      "2020-12-10    0.023810\n",
      "2020-08-25    0.023810\n",
      "2020-12-06    0.023810\n",
      "2020-12-15    0.023810\n",
      "2020-12-22    0.023810\n",
      "2020-06-08    0.023810\n",
      "2020-08-09    0.023810\n",
      "2020-12-11    0.023810\n",
      "2020-06-25    0.023810\n",
      "2020-11-29    0.023810\n",
      "2020-07-21    0.023810\n",
      "2020-11-28    0.023810\n",
      "2020-11-05    0.023810\n",
      "2020-07-04    0.023810\n",
      "2020-12-31    0.023810\n",
      "2020-12-08    0.023810\n",
      "2020-10-29    0.023810\n",
      "2020-05-24    0.023810\n",
      "2021-01-10    0.023810\n",
      "2020-10-23    0.023810\n",
      "2020-04-20    0.023810\n",
      "2020-11-20    0.023810\n",
      "2020-11-14    0.023810\n",
      "2020-12-12    0.023810\n",
      "2020-06-09    0.023810\n",
      "2020-04-08    0.023810\n",
      "2020-12-28    0.023810\n",
      "Name: onset_dt, dtype: float64\n",
      "current_status\n",
      "Laboratory-confirmed case    0.995322\n",
      "Probable Case                0.004678\n",
      "Name: current_status, dtype: float64\n",
      "sex\n",
      "Female     0.513450\n",
      "Male       0.484211\n",
      "Unknown    0.002339\n",
      "Name: sex, dtype: float64\n",
      "age_group\n",
      "20 - 29 Years    0.290058\n",
      "30 - 39 Years    0.208187\n",
      "50 - 59 Years    0.173099\n",
      "40 - 49 Years    0.152047\n",
      "10 - 19 Years    0.083041\n",
      "60 - 69 Years    0.061988\n",
      "0 - 9 Years      0.018713\n",
      "70 - 79 Years    0.010526\n",
      "80+ Years        0.002339\n",
      "Name: age_group, dtype: float64\n",
      "race_ethnicity_combined\n",
      "Unknown                                                 0.912281\n",
      "White, Non-Hispanic                                     0.071345\n",
      "Multiple/Other, Non-Hispanic                            0.009357\n",
      "Hispanic/Latino                                         0.004678\n",
      "Asian, Non-Hispanic                                     0.002339\n",
      "Native Hawaiian/Other Pacific Islander, Non-Hispanic    0.000000\n",
      "Black, Non-Hispanic                                     0.000000\n",
      "American Indian/Alaska Native, Non-Hispanic             0.000000\n",
      "Name: race_ethnicity_combined, dtype: float64\n",
      "hosp_yn\n",
      "Unknown    0.698376\n",
      "No         0.296984\n",
      "Yes        0.004640\n",
      "Name: hosp_yn, dtype: float64\n",
      "icu_yn\n",
      "Unknown    1.0\n",
      "Yes        0.0\n",
      "No         0.0\n",
      "Name: icu_yn, dtype: float64\n",
      "death_yn\n",
      "No     1.0\n",
      "Yes    0.0\n",
      "Name: death_yn, dtype: float64\n",
      "medcond_yn\n",
      "Unknown    1.0\n",
      "Yes        0.0\n",
      "No         0.0\n",
      "Name: medcond_yn, dtype: float64\n"
     ]
    }
   ],
   "source": [
    "#percentage of labels in duplicated row dataframe \n",
    "for col in duplicated_df.columns.tolist():\n",
    "    print(col)\n",
    "    print(duplicated_df[col].value_counts()/duplicated_df[col].value_counts().sum())"
   ]
  },
  {
   "cell_type": "code",
   "execution_count": 11,
   "metadata": {},
   "outputs": [
    {
     "name": "stdout",
     "output_type": "stream",
     "text": [
      "cdc_case_earliest_dt\n",
      "2021-01-04    0.0131\n",
      "2020-12-29    0.0115\n",
      "2021-01-06    0.0106\n",
      "2020-12-22    0.0105\n",
      "2020-12-14    0.0103\n",
      "               ...  \n",
      "2020-03-04    0.0001\n",
      "2020-03-02    0.0001\n",
      "2020-02-25    0.0001\n",
      "2020-02-22    0.0001\n",
      "2020-02-15    0.0001\n",
      "Name: cdc_case_earliest_dt, Length: 325, dtype: float64\n",
      "cdc_report_dt\n",
      "2020-06-10    0.018283\n",
      "2021-01-27    0.011670\n",
      "2020-12-14    0.011540\n",
      "2020-12-29    0.011411\n",
      "2021-01-21    0.010114\n",
      "                ...   \n",
      "2020-03-14    0.000130\n",
      "2020-03-16    0.000130\n",
      "2020-03-09    0.000130\n",
      "2020-03-02    0.000130\n",
      "2020-03-29    0.000130\n",
      "Name: cdc_report_dt, Length: 326, dtype: float64\n",
      "pos_spec_dt\n",
      "2020-11-30    0.012195\n",
      "2020-11-23    0.010801\n",
      "2021-01-06    0.010453\n",
      "2021-01-05    0.010453\n",
      "2020-11-16    0.009756\n",
      "                ...   \n",
      "2020-03-14    0.000348\n",
      "2020-09-27    0.000348\n",
      "2020-05-23    0.000348\n",
      "2020-06-14    0.000348\n",
      "2020-05-02    0.000348\n",
      "Name: pos_spec_dt, Length: 315, dtype: float64\n",
      "onset_dt\n",
      "2020-12-01    0.008877\n",
      "2020-12-11    0.008877\n",
      "2020-12-08    0.008877\n",
      "2020-11-23    0.008680\n",
      "2020-11-02    0.008483\n",
      "                ...   \n",
      "2020-03-07    0.000197\n",
      "2020-02-22    0.000197\n",
      "2020-02-25    0.000197\n",
      "2021-01-20    0.000197\n",
      "2020-02-15    0.000197\n",
      "Name: onset_dt, Length: 325, dtype: float64\n",
      "current_status\n",
      "Laboratory-confirmed case    0.9338\n",
      "Probable Case                0.0662\n",
      "Name: current_status, dtype: float64\n",
      "sex\n",
      "Female     0.520521\n",
      "Male       0.472272\n",
      "Unknown    0.007207\n",
      "Name: sex, dtype: float64\n",
      "age_group\n",
      "20 - 29 Years    0.189728\n",
      "30 - 39 Years    0.162895\n",
      "40 - 49 Years    0.150881\n",
      "50 - 59 Years    0.145875\n",
      "60 - 69 Years    0.105427\n",
      "10 - 19 Years    0.102323\n",
      "70 - 79 Years    0.058570\n",
      "80+ Years        0.042851\n",
      "0 - 9 Years      0.041450\n",
      "Name: age_group, dtype: float64\n",
      "race_ethnicity_combined\n",
      "Unknown                                                 0.408449\n",
      "White, Non-Hispanic                                     0.334140\n",
      "Hispanic/Latino                                         0.098306\n",
      "Black, Non-Hispanic                                     0.072898\n",
      "Multiple/Other, Non-Hispanic                            0.050817\n",
      "Asian, Non-Hispanic                                     0.024602\n",
      "American Indian/Alaska Native, Non-Hispanic             0.007562\n",
      "Native Hawaiian/Other Pacific Islander, Non-Hispanic    0.003226\n",
      "Name: race_ethnicity_combined, dtype: float64\n",
      "hosp_yn\n",
      "No         0.683639\n",
      "Unknown    0.226309\n",
      "Yes        0.090052\n",
      "Name: hosp_yn, dtype: float64\n",
      "icu_yn\n",
      "Unknown    0.550520\n",
      "No         0.417048\n",
      "Yes        0.032432\n",
      "Name: icu_yn, dtype: float64\n",
      "death_yn\n",
      "No     0.9686\n",
      "Yes    0.0314\n",
      "Name: death_yn, dtype: float64\n",
      "medcond_yn\n",
      "No         0.356371\n",
      "Yes        0.348263\n",
      "Unknown    0.295367\n",
      "Name: medcond_yn, dtype: float64\n"
     ]
    }
   ],
   "source": [
    "#percentage of labels in original dataframe \n",
    "for col in df.columns.tolist():\n",
    "    print(col)\n",
    "    print(df[col].value_counts()/df[col].value_counts().sum())"
   ]
  },
  {
   "cell_type": "markdown",
   "metadata": {},
   "source": [
    "## logical Integrity tests \n",
    "\n",
    "A number of logical integrity tests were performed to check the data for any inconsistencies. \n",
    "\n",
    "- Test 1: check for any rows where cdc_case_earliest_dt rows have dates which are later than pos_spec_dt.\n",
    "- Test 2: check for any rows where cdc_case_earliest_dt rows have dates which are later than cdc_report_dt.\n",
    "- Test 3: Check if there are any rows where hosp_yn is no and icu_yn is null.\n",
    "- Test 4: Check if there are any rows where hosp_yn is no and icu_yn is yes.\n",
    "- Test 5: Check if there are any rows where hosp_yn is no and icu_yn is Unknown.\n",
    "- Test 6: Check if there are any rows where onset_dt is later than pos_spec_dt."
   ]
  },
  {
   "cell_type": "code",
   "execution_count": 12,
   "metadata": {},
   "outputs": [
    {
     "name": "stdout",
     "output_type": "stream",
     "text": [
      "Number of rows failing the test:  70\n"
     ]
    }
   ],
   "source": [
    "#integrity check, checking if any rows where cdc_case_earliest_dt is later than pos_spec_dt\n",
    "test_1 = df[df['cdc_case_earliest_dt']>df['pos_spec_dt']]\n",
    "print(\"Number of rows failing the test: \", test_1.shape[0])"
   ]
  },
  {
   "cell_type": "code",
   "execution_count": 13,
   "metadata": {},
   "outputs": [
    {
     "name": "stdout",
     "output_type": "stream",
     "text": [
      "Number of rows failing the test:  27\n"
     ]
    }
   ],
   "source": [
    "#integrity check, checking if any rows where cdc_case_earliest_dt is later than cdc_report_dt\n",
    "test_2 = df[df['cdc_case_earliest_dt']>df['cdc_report_dt']]\n",
    "print(\"Number of rows failing the test: \", test_2.shape[0])"
   ]
  },
  {
   "cell_type": "code",
   "execution_count": 14,
   "metadata": {},
   "outputs": [
    {
     "name": "stdout",
     "output_type": "stream",
     "text": [
      "Number of rows overlapping between test 1 and test 2 :  27\n"
     ]
    }
   ],
   "source": [
    "#checking for overlaps between test 1 and 2\n",
    "test1_test2 = df[df['cdc_case_earliest_dt']>df['cdc_report_dt']][df['cdc_case_earliest_dt']>df['pos_spec_dt']]\n",
    "print(\"Number of rows overlapping between test 1 and test 2 : \", test1_test2.shape[0])"
   ]
  },
  {
   "cell_type": "markdown",
   "metadata": {},
   "source": [
    "As the rows form these two tests overlap we will impute the affected cdc_case_earliest_dt rows with the pos_spec_dt value."
   ]
  },
  {
   "cell_type": "code",
   "execution_count": 15,
   "metadata": {},
   "outputs": [
    {
     "name": "stdout",
     "output_type": "stream",
     "text": [
      "Number of rows failing the test:  0\n"
     ]
    }
   ],
   "source": [
    "#integrity check, seeing if any of anyone who wasnt admitted to hospital has unknwon or missing ICU value\n",
    "test_3 = df[df['hosp_yn']=='no'][df['icu_yn'].isnull()]\n",
    "print(\"Number of rows failing the test: \", test_3.shape[0])"
   ]
  },
  {
   "cell_type": "code",
   "execution_count": 16,
   "metadata": {},
   "outputs": [
    {
     "name": "stdout",
     "output_type": "stream",
     "text": [
      "Number of rows failing the test:  0\n"
     ]
    }
   ],
   "source": [
    "#integrity check, seeing if any of anyone who wasnt admitted to hospital has unknwon or missing ICU value\n",
    "test_4 = df[df['hosp_yn']=='no'][df['icu_yn'] == 'Unknown']\n",
    "print(\"Number of rows failing the test: \", test_4.shape[0])"
   ]
  },
  {
   "cell_type": "code",
   "execution_count": 17,
   "metadata": {},
   "outputs": [
    {
     "name": "stdout",
     "output_type": "stream",
     "text": [
      "Number of rows failing the test:  0\n"
     ]
    }
   ],
   "source": [
    "#integrity check, seeing if any of anyone who wasnt admitted to hospital has unknwon or missing ICU value\n",
    "test_5 = df[df['hosp_yn']=='no'][df['icu_yn'] == 'yes']\n",
    "print(\"Number of rows failing the test: \", test_5.shape[0])"
   ]
  },
  {
   "cell_type": "code",
   "execution_count": 18,
   "metadata": {},
   "outputs": [
    {
     "name": "stdout",
     "output_type": "stream",
     "text": [
      "Number of rows failing the test:  71\n"
     ]
    }
   ],
   "source": [
    "#integrity check, checking rows where onset_dt is later than pos_spec_dt\n",
    "#assume close contact or health worker\n",
    "test_6 = df[df['onset_dt']>df['pos_spec_dt']]\n",
    "print(\"Number of rows failing the test: \", test_6.shape[0])\n"
   ]
  },
  {
   "cell_type": "markdown",
   "metadata": {},
   "source": [
    "We will assume that the rows affected in test 6 are close contacts or health workers who presented symptoms only after testing positive, or asymptomatic. For test 3, 4 and 5 we can see that no values from hosp_yn can be inferred for icu_yn and therefore the missing and unknown values in icu_yn will be combined into a single unkown value and kept."
   ]
  },
  {
   "cell_type": "markdown",
   "metadata": {},
   "source": [
    "## Data imputation\n",
    "\n",
    "- cdc_case_earliest_dt: values where date is later than pos_spec_dt are imputed with the pos_spec_dt values\n",
    "- hosp_yn: unknown and missing values combined into single unknown value \n",
    "- race_ethnicity_combined: unknown and missing values combined into single unknown value \n",
    "- medcond_yn: unknown and missing values combined into single unknown value \n",
    "- icu_yn: unknown and missing values combined into single unknown value "
   ]
  },
  {
   "cell_type": "code",
   "execution_count": 19,
   "metadata": {},
   "outputs": [
    {
     "data": {
      "text/html": [
       "<div>\n",
       "<style scoped>\n",
       "    .dataframe tbody tr th:only-of-type {\n",
       "        vertical-align: middle;\n",
       "    }\n",
       "\n",
       "    .dataframe tbody tr th {\n",
       "        vertical-align: top;\n",
       "    }\n",
       "\n",
       "    .dataframe thead th {\n",
       "        text-align: right;\n",
       "    }\n",
       "</style>\n",
       "<table border=\"1\" class=\"dataframe\">\n",
       "  <thead>\n",
       "    <tr style=\"text-align: right;\">\n",
       "      <th></th>\n",
       "      <th>%missing</th>\n",
       "    </tr>\n",
       "  </thead>\n",
       "  <tbody>\n",
       "    <tr>\n",
       "      <th>cdc_case_earliest_dt</th>\n",
       "      <td>0.00</td>\n",
       "    </tr>\n",
       "    <tr>\n",
       "      <th>cdc_report_dt</th>\n",
       "      <td>22.88</td>\n",
       "    </tr>\n",
       "    <tr>\n",
       "      <th>pos_spec_dt</th>\n",
       "      <td>71.30</td>\n",
       "    </tr>\n",
       "    <tr>\n",
       "      <th>onset_dt</th>\n",
       "      <td>49.31</td>\n",
       "    </tr>\n",
       "    <tr>\n",
       "      <th>current_status</th>\n",
       "      <td>0.00</td>\n",
       "    </tr>\n",
       "    <tr>\n",
       "      <th>sex</th>\n",
       "      <td>0.10</td>\n",
       "    </tr>\n",
       "    <tr>\n",
       "      <th>age_group</th>\n",
       "      <td>0.12</td>\n",
       "    </tr>\n",
       "    <tr>\n",
       "      <th>race_ethnicity_combined</th>\n",
       "      <td>0.82</td>\n",
       "    </tr>\n",
       "    <tr>\n",
       "      <th>hosp_yn</th>\n",
       "      <td>23.60</td>\n",
       "    </tr>\n",
       "    <tr>\n",
       "      <th>icu_yn</th>\n",
       "      <td>75.95</td>\n",
       "    </tr>\n",
       "    <tr>\n",
       "      <th>death_yn</th>\n",
       "      <td>0.00</td>\n",
       "    </tr>\n",
       "    <tr>\n",
       "      <th>medcond_yn</th>\n",
       "      <td>74.10</td>\n",
       "    </tr>\n",
       "  </tbody>\n",
       "</table>\n",
       "</div>"
      ],
      "text/plain": [
       "                         %missing\n",
       "cdc_case_earliest_dt         0.00\n",
       "cdc_report_dt               22.88\n",
       "pos_spec_dt                 71.30\n",
       "onset_dt                    49.31\n",
       "current_status               0.00\n",
       "sex                          0.10\n",
       "age_group                    0.12\n",
       "race_ethnicity_combined      0.82\n",
       "hosp_yn                     23.60\n",
       "icu_yn                      75.95\n",
       "death_yn                     0.00\n",
       "medcond_yn                  74.10"
      ]
     },
     "execution_count": 19,
     "metadata": {},
     "output_type": "execute_result"
    }
   ],
   "source": [
    "# Prepare %missing column\n",
    "missing  = 100 * (df.isnull().sum()/df.shape[0])\n",
    "# store the values in a dataframe\n",
    "missing = pd.DataFrame(missing, columns=['%missing'])\n",
    "missing"
   ]
  },
  {
   "cell_type": "code",
   "execution_count": 20,
   "metadata": {},
   "outputs": [],
   "source": [
    "#imputing rows where test 1 fails \n",
    "#there is an overlap between the cases that failed in test 1 and test 2 \n",
    "#we will replace the cdc_case_earliest _dt with positive specimen date\n",
    "df['cdc_case_earliest_dt'] = np.where(df['cdc_case_earliest_dt'] > df['pos_spec_dt'], df['pos_spec_dt'], df['cdc_case_earliest_dt'])"
   ]
  },
  {
   "cell_type": "code",
   "execution_count": 21,
   "metadata": {},
   "outputs": [],
   "source": [
    "#data imputation - replace all NaN values with 'Unknown'.\n",
    "df['hosp_yn'] = df['hosp_yn'].fillna('Unknown') "
   ]
  },
  {
   "cell_type": "code",
   "execution_count": 22,
   "metadata": {},
   "outputs": [],
   "source": [
    "#data imputation - replace all NaN values with 'Unknown'\n",
    "df['race_ethnicity_combined'] = df['race_ethnicity_combined'].fillna('Unknown') "
   ]
  },
  {
   "cell_type": "code",
   "execution_count": 23,
   "metadata": {},
   "outputs": [],
   "source": [
    "#data imputation - replace all NaN values with 'Unknown'\n",
    "df['medcond_yn'] = df['medcond_yn'].fillna('Unknown') "
   ]
  },
  {
   "cell_type": "code",
   "execution_count": 24,
   "metadata": {},
   "outputs": [],
   "source": [
    "#data imputation - replace all NaN values with 'Unknown'\n",
    "df['icu_yn'] = df['icu_yn'].fillna('Unknown') "
   ]
  },
  {
   "cell_type": "markdown",
   "metadata": {},
   "source": [
    "### Missing Values\n",
    "\n",
    "There is a very low precentge of missing values in sex and age group, these affected rows will be dropped. Over 70% of pos_spec_dt rows are missing, this feature will be dropped. Cdc_report_dt has roughly 20% of missing values, it is stated on the CDC website that \"CDC recommends that researchers use cdc_case_earliest in time series and other time based analysis', due to the fact that in a large number of cases the dates (in months) match those of the corresponding cdc_case_earliest_dt entry, this feature can be dropped and the cdc_case_earliest_dt feature can be used as the sole record of the date the record was available."
   ]
  },
  {
   "cell_type": "code",
   "execution_count": 25,
   "metadata": {},
   "outputs": [
    {
     "data": {
      "text/html": [
       "<div>\n",
       "<style scoped>\n",
       "    .dataframe tbody tr th:only-of-type {\n",
       "        vertical-align: middle;\n",
       "    }\n",
       "\n",
       "    .dataframe tbody tr th {\n",
       "        vertical-align: top;\n",
       "    }\n",
       "\n",
       "    .dataframe thead th {\n",
       "        text-align: right;\n",
       "    }\n",
       "</style>\n",
       "<table border=\"1\" class=\"dataframe\">\n",
       "  <thead>\n",
       "    <tr style=\"text-align: right;\">\n",
       "      <th></th>\n",
       "      <th>%missing</th>\n",
       "    </tr>\n",
       "  </thead>\n",
       "  <tbody>\n",
       "    <tr>\n",
       "      <th>cdc_case_earliest_dt</th>\n",
       "      <td>0.00</td>\n",
       "    </tr>\n",
       "    <tr>\n",
       "      <th>cdc_report_dt</th>\n",
       "      <td>22.88</td>\n",
       "    </tr>\n",
       "    <tr>\n",
       "      <th>pos_spec_dt</th>\n",
       "      <td>71.30</td>\n",
       "    </tr>\n",
       "    <tr>\n",
       "      <th>onset_dt</th>\n",
       "      <td>49.31</td>\n",
       "    </tr>\n",
       "    <tr>\n",
       "      <th>current_status</th>\n",
       "      <td>0.00</td>\n",
       "    </tr>\n",
       "    <tr>\n",
       "      <th>sex</th>\n",
       "      <td>0.10</td>\n",
       "    </tr>\n",
       "    <tr>\n",
       "      <th>age_group</th>\n",
       "      <td>0.12</td>\n",
       "    </tr>\n",
       "    <tr>\n",
       "      <th>race_ethnicity_combined</th>\n",
       "      <td>0.00</td>\n",
       "    </tr>\n",
       "    <tr>\n",
       "      <th>hosp_yn</th>\n",
       "      <td>0.00</td>\n",
       "    </tr>\n",
       "    <tr>\n",
       "      <th>icu_yn</th>\n",
       "      <td>0.00</td>\n",
       "    </tr>\n",
       "    <tr>\n",
       "      <th>death_yn</th>\n",
       "      <td>0.00</td>\n",
       "    </tr>\n",
       "    <tr>\n",
       "      <th>medcond_yn</th>\n",
       "      <td>0.00</td>\n",
       "    </tr>\n",
       "  </tbody>\n",
       "</table>\n",
       "</div>"
      ],
      "text/plain": [
       "                         %missing\n",
       "cdc_case_earliest_dt         0.00\n",
       "cdc_report_dt               22.88\n",
       "pos_spec_dt                 71.30\n",
       "onset_dt                    49.31\n",
       "current_status               0.00\n",
       "sex                          0.10\n",
       "age_group                    0.12\n",
       "race_ethnicity_combined      0.00\n",
       "hosp_yn                      0.00\n",
       "icu_yn                       0.00\n",
       "death_yn                     0.00\n",
       "medcond_yn                   0.00"
      ]
     },
     "execution_count": 25,
     "metadata": {},
     "output_type": "execute_result"
    }
   ],
   "source": [
    "# Prepare %missing column\n",
    "missing  = 100 * (df.isnull().sum()/df.shape[0])\n",
    "# store the values in a dataframe\n",
    "missing = pd.DataFrame(missing, columns=['%missing'])\n",
    "missing"
   ]
  },
  {
   "cell_type": "code",
   "execution_count": 26,
   "metadata": {},
   "outputs": [],
   "source": [
    "#drop features with large percentage of missing values \n",
    "df = df.drop(['cdc_report_dt','pos_spec_dt'], axis = 1) "
   ]
  },
  {
   "cell_type": "markdown",
   "metadata": {},
   "source": [
    "As we do not want to skew results in favour of any particular age group or sex we will drop these missing values rather than imputing them with a modal or unknown value."
   ]
  },
  {
   "cell_type": "code",
   "execution_count": 27,
   "metadata": {},
   "outputs": [],
   "source": [
    "#drop rows with missing values in sex and age group \n",
    "df = df[df['sex'].notna()]\n",
    "df = df[df['age_group'].notna()]"
   ]
  },
  {
   "cell_type": "code",
   "execution_count": 28,
   "metadata": {},
   "outputs": [
    {
     "data": {
      "text/html": [
       "<div>\n",
       "<style scoped>\n",
       "    .dataframe tbody tr th:only-of-type {\n",
       "        vertical-align: middle;\n",
       "    }\n",
       "\n",
       "    .dataframe tbody tr th {\n",
       "        vertical-align: top;\n",
       "    }\n",
       "\n",
       "    .dataframe thead th {\n",
       "        text-align: right;\n",
       "    }\n",
       "</style>\n",
       "<table border=\"1\" class=\"dataframe\">\n",
       "  <thead>\n",
       "    <tr style=\"text-align: right;\">\n",
       "      <th></th>\n",
       "      <th>%missing</th>\n",
       "    </tr>\n",
       "  </thead>\n",
       "  <tbody>\n",
       "    <tr>\n",
       "      <th>cdc_case_earliest_dt</th>\n",
       "      <td>0.00000</td>\n",
       "    </tr>\n",
       "    <tr>\n",
       "      <th>onset_dt</th>\n",
       "      <td>49.32358</td>\n",
       "    </tr>\n",
       "    <tr>\n",
       "      <th>current_status</th>\n",
       "      <td>0.00000</td>\n",
       "    </tr>\n",
       "    <tr>\n",
       "      <th>sex</th>\n",
       "      <td>0.00000</td>\n",
       "    </tr>\n",
       "    <tr>\n",
       "      <th>age_group</th>\n",
       "      <td>0.00000</td>\n",
       "    </tr>\n",
       "    <tr>\n",
       "      <th>race_ethnicity_combined</th>\n",
       "      <td>0.00000</td>\n",
       "    </tr>\n",
       "    <tr>\n",
       "      <th>hosp_yn</th>\n",
       "      <td>0.00000</td>\n",
       "    </tr>\n",
       "    <tr>\n",
       "      <th>icu_yn</th>\n",
       "      <td>0.00000</td>\n",
       "    </tr>\n",
       "    <tr>\n",
       "      <th>death_yn</th>\n",
       "      <td>0.00000</td>\n",
       "    </tr>\n",
       "    <tr>\n",
       "      <th>medcond_yn</th>\n",
       "      <td>0.00000</td>\n",
       "    </tr>\n",
       "  </tbody>\n",
       "</table>\n",
       "</div>"
      ],
      "text/plain": [
       "                         %missing\n",
       "cdc_case_earliest_dt      0.00000\n",
       "onset_dt                 49.32358\n",
       "current_status            0.00000\n",
       "sex                       0.00000\n",
       "age_group                 0.00000\n",
       "race_ethnicity_combined   0.00000\n",
       "hosp_yn                   0.00000\n",
       "icu_yn                    0.00000\n",
       "death_yn                  0.00000\n",
       "medcond_yn                0.00000"
      ]
     },
     "execution_count": 28,
     "metadata": {},
     "output_type": "execute_result"
    }
   ],
   "source": [
    "# Prepare %missing column\n",
    "missing  = 100 * (df.isnull().sum()/df.shape[0])\n",
    "# store the values in a dataframe\n",
    "missing = pd.DataFrame(missing, columns=['%missing'])\n",
    "missing"
   ]
  },
  {
   "cell_type": "markdown",
   "metadata": {},
   "source": [
    "While onset_dt does still have a large number of missing values, it will not be dropped even though it has nearly 50% missing values, this is due to the fact that this feature records the date of onset of symptoms, if symptomatic. Therefore it can be assumed that the large proportion of missing values are due to assymptomatic patients who showed no symptoms and therefore this value could not be filled. These misssing values will be left as NaT. We can first check how it is related to the target class and then drop if neccessary. "
   ]
  },
  {
   "cell_type": "markdown",
   "metadata": {},
   "source": [
    "### Converting datetime datatype to Quarterly \n",
    "\n",
    "The first two features use datetime data type by day which results in a very high cardinality for these features, which is redundant and will lead to messy visualizations down the line. Therefore it made sense to categorize these features by quarters in order to reduce the cardinality and make the data more readable and easier to analyse\n"
   ]
  },
  {
   "cell_type": "code",
   "execution_count": 29,
   "metadata": {},
   "outputs": [],
   "source": [
    "#converting the features with dates to datetime data types. \n",
    "date_columns = df[['cdc_case_earliest_dt','onset_dt']].columns\n",
    "for column in date_columns:\n",
    "    df[column] = pd.to_datetime(df[column]).dt.to_period('Q')"
   ]
  },
  {
   "cell_type": "markdown",
   "metadata": {},
   "source": [
    "# 1. Data Understanding and Preparation"
   ]
  },
  {
   "cell_type": "code",
   "execution_count": 30,
   "metadata": {},
   "outputs": [
    {
     "data": {
      "text/plain": [
       "(9979, 10)"
      ]
     },
     "execution_count": 30,
     "metadata": {},
     "output_type": "execute_result"
    }
   ],
   "source": [
    "#printing dataframe shape\n",
    "df.shape"
   ]
  },
  {
   "cell_type": "markdown",
   "metadata": {},
   "source": [
    "After cleaning the datatset we are left with a dataframe containig a total of 9979 rows and 10 columns."
   ]
  },
  {
   "cell_type": "markdown",
   "metadata": {},
   "source": [
    "## 1.1 Shuffling and Splitting the dataset\n",
    "\n",
    "Firstly the cleaned dataset is shuffled randomly and then split into two datasets using the sklearn *train_test_split* module. The train test split is 70:30 and the random state is kept constant throughout the rest of this report in order to produce reproducable and verifiable results."
   ]
  },
  {
   "cell_type": "code",
   "execution_count": 31,
   "metadata": {},
   "outputs": [],
   "source": [
    "#suhffling the dataset\n",
    "# randomly generate sequence based on dataframe index and set to be new index\n",
    "df.set_index(np.random.permutation(df.index))\n",
    "# sort the resulting random index\n",
    "df.sort_index(inplace=True)"
   ]
  },
  {
   "cell_type": "code",
   "execution_count": 32,
   "metadata": {},
   "outputs": [],
   "source": [
    "#creating variables and target feature \n",
    "x = df.drop('death_yn',axis=1)\n",
    "y = df['death_yn']"
   ]
  },
  {
   "cell_type": "code",
   "execution_count": 33,
   "metadata": {},
   "outputs": [
    {
     "name": "stdout",
     "output_type": "stream",
     "text": [
      "original range is:  9979\n",
      "training range (70%):\t rows 0 to 6985\n",
      "test range (30%): \t rows 6985 to 9979\n"
     ]
    }
   ],
   "source": [
    "# Split the dataset into two datasets: 70% training and 30% test\n",
    "x_train, x_test, y_train, y_test = train_test_split(x, y, test_size=0.3,random_state=5)\n",
    "\n",
    "print(\"original range is: \",df.shape[0])\n",
    "print(\"training range (70%):\\t rows 0 to\", round(x_train.shape[0]))\n",
    "print(\"test range (30%): \\t rows\", round(x_train.shape[0]), \"to\", round(x_train.shape[0]) + x_test.shape[0])"
   ]
  },
  {
   "cell_type": "markdown",
   "metadata": {},
   "source": [
    "## 1.2 Plotting pairwise interactions \n",
    "\n",
    "In order to get a better understanding of how each of the features affects the target feature we will produce a number of plots in order to visualize the relationship between feature-pairs. The target feature of interest for this report is death_yn, this is a categorical feature with two categories (yes or no). The remainig 9 features are all categorical features as explained earlier, therefore we will produce a number of catgeoriclal vs categorical plots. This will be done with the use of a collection of both stacked bar plots and small multiple bar plots. The results are as outlined below."
   ]
  },
  {
   "cell_type": "code",
   "execution_count": 34,
   "metadata": {},
   "outputs": [],
   "source": [
    "#temporary dataframe for plotting of pairwise interactions\n",
    "df_train = pd.concat([x_train, y_train], axis=1)"
   ]
  },
  {
   "cell_type": "code",
   "execution_count": 35,
   "metadata": {},
   "outputs": [
    {
     "name": "stdout",
     "output_type": "stream",
     "text": [
      "\n",
      " cdc_case_earliest_dt\n",
      "Index \t Count\n",
      "2020Q3 \t 1441\n",
      "2020Q2 \t 1111\n",
      "2020Q4 \t 3455\n",
      "2021Q1 \t 803\n",
      "2020Q1 \t 175\n",
      "\n",
      " onset_dt\n",
      "Index \t Count\n",
      "NaT \t 0\n",
      "2020Q3 \t 823\n",
      "2020Q4 \t 1696\n",
      "2020Q2 \t 670\n",
      "2021Q1 \t 243\n",
      "2020Q1 \t 124\n",
      "\n",
      " current_status\n",
      "Index \t Count\n",
      "Laboratory-confirmed case \t 6520\n",
      "Probable Case \t 465\n",
      "\n",
      " sex\n",
      "Index \t Count\n",
      "Male \t 3281\n",
      "Female \t 3648\n",
      "Unknown \t 56\n",
      "\n",
      " age_group\n",
      "Index \t Count\n",
      "40 - 49 Years \t 1057\n",
      "20 - 29 Years \t 1316\n",
      "30 - 39 Years \t 1143\n",
      "70 - 79 Years \t 408\n",
      "50 - 59 Years \t 1027\n",
      "10 - 19 Years \t 718\n",
      "0 - 9 Years \t 287\n",
      "80+ Years \t 289\n",
      "60 - 69 Years \t 740\n",
      "\n",
      " race_ethnicity_combined\n",
      "Index \t Count\n",
      "Hispanic/Latino \t 667\n",
      "Unknown \t 2879\n",
      "White, Non-Hispanic \t 2336\n",
      "Black, Non-Hispanic \t 501\n",
      "Asian, Non-Hispanic \t 171\n",
      "Multiple/Other, Non-Hispanic \t 359\n",
      "American Indian/Alaska Native, Non-Hispanic \t 48\n",
      "Native Hawaiian/Other Pacific Islander, Non-Hispanic \t 24\n",
      "\n",
      " hosp_yn\n",
      "Index \t Count\n",
      "Unknown \t 2830\n",
      "No \t 3677\n",
      "Yes \t 478\n",
      "\n",
      " icu_yn\n",
      "Index \t Count\n",
      "Unknown \t 6220\n",
      "No \t 708\n",
      "Yes \t 57\n",
      "\n",
      " medcond_yn\n",
      "Index \t Count\n",
      "Unknown \t 5700\n",
      "Yes \t 649\n",
      "No \t 636\n"
     ]
    },
    {
     "data": {
      "image/png": "[encoded data removed]",
      "text/plain": [
       "<Figure size 1080x504 with 1 Axes>"
      ]
     },
     "metadata": {
      "needs_background": "light"
     },
     "output_type": "display_data"
    },
    {
     "data": {
      "image/png": "[encoded data removed]",
      "text/plain": [
       "<Figure size 1080x504 with 1 Axes>"
      ]
     },
     "metadata": {
      "needs_background": "light"
     },
     "output_type": "display_data"
    },
    {
     "data": {
      "image/png": "[encoded data removed]",
      "text/plain": [
       "<Figure size 1080x504 with 1 Axes>"
      ]
     },
     "metadata": {
      "needs_background": "light"
     },
     "output_type": "display_data"
    },
    {
     "data": {
      "image/png": "[encoded data removed]",
      "text/plain": [
       "<Figure size 1080x504 with 1 Axes>"
      ]
     },
     "metadata": {
      "needs_background": "light"
     },
     "output_type": "display_data"
    },
    {
     "data": {
      "image/png": "[encoded data removed]",
      "text/plain": [
       "<Figure size 1080x504 with 1 Axes>"
      ]
     },
     "metadata": {
      "needs_background": "light"
     },
     "output_type": "display_data"
    },
    {
     "data": {
      "image/png": "[encoded data removed]",
      "text/plain": [
       "<Figure size 1080x504 with 1 Axes>"
      ]
     },
     "metadata": {
      "needs_background": "light"
     },
     "output_type": "display_data"
    },
    {
     "data": {
      "image/png": "[encoded data removed]",
      "text/plain": [
       "<Figure size 1080x504 with 1 Axes>"
      ]
     },
     "metadata": {
      "needs_background": "light"
     },
     "output_type": "display_data"
    },
    {
     "data": {
      "image/png": "[encoded data removed]",
      "text/plain": [
       "<Figure size 1080x504 with 1 Axes>"
      ]
     },
     "metadata": {
      "needs_background": "light"
     },
     "output_type": "display_data"
    },
    {
     "data": {
      "image/png": "[encoded data removed]",
      "text/plain": [
       "<Figure size 1080x504 with 1 Axes>"
      ]
     },
     "metadata": {
      "needs_background": "light"
     },
     "output_type": "display_data"
    }
   ],
   "source": [
    "\n",
    "categorical_columns = x.columns.values.tolist()\n",
    "# for the comparison we will convert the target back to categorical\n",
    "y_train = y_train.astype(\"category\")\n",
    "#X_train[categorical_columns].columns\n",
    "# we will create temp dataframe for these plots, mergeing X_train and y_train\n",
    "df_temp= pd.concat([x_train, y_train], axis=1)\n",
    "# for each categorical feature create a stacked bar plot\n",
    "\n",
    "pp = PdfPages('Stacked_Bar_plots_categorical_vs_catgeorical.pdf')\n",
    "for categorical_feature in categorical_columns:\n",
    "    # Using code from the module lab \n",
    "    features = pd.unique(df_temp[categorical_feature].ravel())\n",
    "    # add new column and set values to zero\n",
    "    df_temp['percent'] = 0\n",
    "    #print header\n",
    "    print(\"\\n\", categorical_feature)\n",
    "    print(\"Index \\t Count\")\n",
    "    # for each delinquency category\n",
    "    for i in features:\n",
    "        count = df_temp[df_temp[categorical_feature] == i].count()['death_yn']\n",
    "        count_percentage = (1 / count) * 100\n",
    "        # print out index vs count\n",
    "        print(i, \"\\t\", count)\n",
    "        index_list = df_temp[df_temp[categorical_feature] == i].index.tolist()\n",
    "        for ind in index_list:\n",
    "            df_temp.loc[ind, 'percent'] = count_percentage\n",
    "            \n",
    "    group = df_temp[['percent',categorical_feature,'death_yn']].groupby([categorical_feature,'death_yn']).sum()\n",
    "    \n",
    "    \n",
    "    my_plot = group.unstack().plot(kind='bar', stacked=True, title=f\" death_yn vs {categorical_feature}\", figsize=(15,7), grid=True)\n",
    "    my_plot.legend([\"No\", \"Yes\"])\n",
    "    # add gridlines\n",
    "    plt.grid(b=True, which='major', color='#666666', linestyle='-')\n",
    "    plt.minorticks_on()\n",
    "    plt.grid(b=True, which='minor', color='#999999', linestyle='-', alpha=0.2)\n",
    "    # add labels\n",
    "    my_plot.set_xlabel(categorical_feature)\n",
    "    my_plot.set_ylabel(\"Death_yn (% of sample)\")\n",
    "    my_plot.set_ylim([0,100])  \n",
    "# drop 'percent' that was used only for stacked bar plot\n",
    "df_temp = df_temp.drop(\"percent\", 1)\n",
    "pp.close()"
   ]
  },
  {
   "cell_type": "markdown",
   "metadata": {},
   "source": [
    "These stacked bar plots give us a good indication of the ratio of the target feature values for each category, below are small multiple bar plots for each feature to help us get an even better understanding of these features and how they relate to the target features. Below each plot is a quick summary detailing the results and what they mean for our model."
   ]
  },
  {
   "cell_type": "markdown",
   "metadata": {},
   "source": [
    "### Sex vs. Death"
   ]
  },
  {
   "cell_type": "code",
   "execution_count": 36,
   "metadata": {},
   "outputs": [
    {
     "data": {
      "image/png": "[encoded data removed]",
      "text/plain": [
       "<Figure size 720x360 with 2 Axes>"
      ]
     },
     "metadata": {
      "needs_background": "light"
     },
     "output_type": "display_data"
    }
   ],
   "source": [
    "sex = pd.unique(df[\"sex\"].ravel())\n",
    "for i in range(0,2):\n",
    "\n",
    "    plt.subplot(1, 2, i+1) # row 1, col 2 index 1\n",
    "    group1 = df_train[df_train[\"sex\"]==sex[i]]\n",
    "    f = group1[\"death_yn\"].value_counts().plot(kind='bar', figsize=(10,5))\n",
    "    plt.title(\"sex  = {}\".format(sex[i]))\n",
    "    plt.ylabel('number of Deaths')\n",
    "    plt.xlabel('Death')\n",
    "plt.tight_layout()\n",
    "plt.savefig('1.png')\n",
    "plt.show()"
   ]
  },
  {
   "cell_type": "markdown",
   "metadata": {},
   "source": [
    "Above we can see the bar plots for number of deaths of those who are Male and those who are female. The two plots are very similar with almost equal levels of deaths, however males mortality rates are marginally higher than females. Global data indicate higher COVID-19 case fatality rates among men than women. Most countries with available data indicate a male to female case fatality ratio higher than 1:0, ranging up to 3:5 in some cases. Therefore this feature will be kept in the model.\n"
   ]
  },
  {
   "cell_type": "markdown",
   "metadata": {},
   "source": [
    "### Age group vs. Death"
   ]
  },
  {
   "cell_type": "code",
   "execution_count": 37,
   "metadata": {},
   "outputs": [
    {
     "data": {
      "image/png": "[encoded data removed]",
      "text/plain": [
       "<Figure size 648x648 with 9 Axes>"
      ]
     },
     "metadata": {
      "needs_background": "light"
     },
     "output_type": "display_data"
    }
   ],
   "source": [
    "age_group = pd.unique(df[\"age_group\"].ravel())\n",
    "for i in range(0,9):\n",
    "\n",
    "    plt.subplot(3, 3, i+1) # row 1, col 2 index 1\n",
    "    group1 = df_train[df_train[\"age_group\"]==age_group[i]]\n",
    "    f = group1[\"death_yn\"].value_counts().plot(kind='bar', figsize=(9,9))\n",
    "    plt.title(\"Age Group = {}\".format(age_group[i]))\n",
    "    plt.ylabel('number of Deaths')\n",
    "    plt.xlabel('Death')\n",
    "plt.tight_layout()\n",
    "plt.savefig('2.png')\n",
    "plt.show()"
   ]
  },
  {
   "cell_type": "markdown",
   "metadata": {},
   "source": [
    "Plot summary:\n",
    "\n",
    "- The data is as expected, with death rates increasing as age increases from 0-9 years up to 80+ years.\n",
    "- This trend begins at 40-49  years and then almost doubles for each subsequent age grouping.\n",
    "- from this plot we can be assured that the age and death data is correct as this increasing trend in death rates is as expected \n",
    "- This feature will be kept in our model."
   ]
  },
  {
   "cell_type": "markdown",
   "metadata": {},
   "source": [
    "## hospital vs. death "
   ]
  },
  {
   "cell_type": "code",
   "execution_count": 38,
   "metadata": {},
   "outputs": [
    {
     "data": {
      "image/png": "[encoded data removed]",
      "text/plain": [
       "<Figure size 720x288 with 3 Axes>"
      ]
     },
     "metadata": {
      "needs_background": "light"
     },
     "output_type": "display_data"
    }
   ],
   "source": [
    "hosp_yn = pd.unique(df[\"hosp_yn\"].ravel())\n",
    "for i in range(0,3):\n",
    "\n",
    "    plt.subplot(1, 3, i+1) # row 1, col 2 index 1\n",
    "    group1 = df_train[df_train[\"hosp_yn\"]==hosp_yn[i]]\n",
    "    f = group1[\"death_yn\"].value_counts().plot(kind='bar', figsize=(10,4))\n",
    "    plt.title(\"hosp_yn = {}\".format(hosp_yn[i]))\n",
    "    plt.ylabel('number of Deaths')\n",
    "    plt.xlabel('Death')\n",
    "    plt.tight_layout()\n",
    "plt.tight_layout()    \n",
    "plt.savefig('3.png')\n",
    "plt.show()"
   ]
  },
  {
   "cell_type": "markdown",
   "metadata": {},
   "source": [
    "Plot summary:\n",
    "\n",
    "- The figures are as expected. relative to the number of people who did not die in that category the number of deaths of those who have been hospitalized is much greater than those who have not.\n",
    "\n",
    "- We must also take account for the fact that in total the number of people not hospitalized is far greater than the number of those who were and this therefore leads to different scales used on the axis of these plot. While the plots would lead you to believe that the total number of people who died who were hospitalized is far greater, they are actually roughly the same in both plots (~200).\n",
    "- This is evidently a very strong risk factor and as such will be kept in our model."
   ]
  },
  {
   "cell_type": "markdown",
   "metadata": {},
   "source": [
    "## ICU vs. death "
   ]
  },
  {
   "cell_type": "code",
   "execution_count": 39,
   "metadata": {},
   "outputs": [
    {
     "data": {
      "image/png": "[encoded data removed]",
      "text/plain": [
       "<Figure size 720x288 with 3 Axes>"
      ]
     },
     "metadata": {
      "needs_background": "light"
     },
     "output_type": "display_data"
    }
   ],
   "source": [
    "icu_yn = pd.unique(df[\"icu_yn\"].ravel())\n",
    "for i in range(0,3):\n",
    "\n",
    "    plt.subplot(1, 3, i+1) # row 1, col 2 index 1\n",
    "    group1 = df_train[df_train[\"icu_yn\"]==icu_yn[i]]\n",
    "    f = group1[\"death_yn\"].value_counts().plot(kind='bar', figsize=(10,4))\n",
    "    plt.title(\"icu_yn = {}\".format(icu_yn[i]))\n",
    "    plt.ylabel('number of Deaths')\n",
    "    plt.xlabel('Death')\n",
    "    plt.tight_layout()\n",
    "plt.tight_layout() \n",
    "plt.savefig('4.png')\n",
    "plt.show()"
   ]
  },
  {
   "cell_type": "markdown",
   "metadata": {},
   "source": [
    "Plot summary:\n",
    "\n",
    "- The figures are as expected. relative to the number of people who did not die in that category the number of deaths of those who have been to admitted to ICU is much greater than those who have not. There is roughly a 50:50 split in mortality for those who are admitted to ICU. \n",
    "\n",
    "- While a very large proprtion of rows of this feature were missing and imputed with an unknown value, we can still see the risk factor associated with ICU admission. This feature will therefore be kept in our model."
   ]
  },
  {
   "cell_type": "markdown",
   "metadata": {},
   "source": [
    "## Medical Condition vs. death "
   ]
  },
  {
   "cell_type": "code",
   "execution_count": 40,
   "metadata": {},
   "outputs": [
    {
     "data": {
      "image/png": "[encoded data removed]",
      "text/plain": [
       "<Figure size 864x288 with 3 Axes>"
      ]
     },
     "metadata": {
      "needs_background": "light"
     },
     "output_type": "display_data"
    }
   ],
   "source": [
    "medcond_yn = pd.unique(df[\"medcond_yn\"].ravel())\n",
    "for i in range(0,3):\n",
    "\n",
    "    plt.subplot(1, 3, i+1) # row 1, col 2 index 1\n",
    "    group1 = df_train[df_train[\"medcond_yn\"]==medcond_yn[i]]\n",
    "    f = group1[\"death_yn\"].value_counts().plot(kind='bar', figsize=(12,4))\n",
    "    plt.title(\"medcond_yn = {}\".format(medcond_yn[i]))\n",
    "    plt.ylabel('number of Deaths')\n",
    "    plt.xlabel('Death')\n",
    "    plt.tight_layout()\n",
    "    \n",
    "plt.tight_layout()  \n",
    "plt.savefig('5.png')\n",
    "plt.show()"
   ]
  },
  {
   "cell_type": "markdown",
   "metadata": {},
   "source": [
    "Plot summary:\n",
    "\n",
    "- Similarly to icu_yn, a large number of the missing values were imputed with an unknown value and therefore this category takes up the large majority of this features values. \n",
    "- Roughly the same amount of people (~600) both with and without underlying medical conditions did not die. However the mortality rate among those with underlying medical conditions is far greater than those without.\n",
    "- It is well documented that underlying medical conditions are a determining factor when it comes to covid related mortality, and therefore we will be keeping this feature in our model."
   ]
  },
  {
   "cell_type": "markdown",
   "metadata": {},
   "source": [
    "## race/ethnicity vs. death "
   ]
  },
  {
   "cell_type": "code",
   "execution_count": 41,
   "metadata": {},
   "outputs": [
    {
     "name": "stdout",
     "output_type": "stream",
     "text": [
      "Unknown                                                 0.412169\n",
      "White, Non-Hispanic                                     0.334431\n",
      "Hispanic/Latino                                         0.095490\n",
      "Black, Non-Hispanic                                     0.071725\n",
      "Multiple/Other, Non-Hispanic                            0.051396\n",
      "Asian, Non-Hispanic                                     0.024481\n",
      "American Indian/Alaska Native, Non-Hispanic             0.006872\n",
      "Native Hawaiian/Other Pacific Islander, Non-Hispanic    0.003436\n",
      "Name: race_ethnicity_combined, dtype: float64\n"
     ]
    }
   ],
   "source": [
    "#percentage of labels in original dataframe \n",
    "print(df_train[\"race_ethnicity_combined\"].value_counts()/df_train[\"race_ethnicity_combined\"].value_counts().sum())"
   ]
  },
  {
   "cell_type": "code",
   "execution_count": 42,
   "metadata": {},
   "outputs": [
    {
     "data": {
      "image/png": "[encoded data removed]",
      "text/plain": [
       "<Figure size 720x864 with 8 Axes>"
      ]
     },
     "metadata": {
      "needs_background": "light"
     },
     "output_type": "display_data"
    }
   ],
   "source": [
    "race_ethnicity_combined = pd.unique(df[\"race_ethnicity_combined\"].ravel())\n",
    "for i in range(0,8):\n",
    "    plt.subplot(4,2, i+1) # row 1, col 2 index 1\n",
    "    group1 = df_train[df_train[\"race_ethnicity_combined\"]==race_ethnicity_combined[i]]\n",
    "    f = group1[\"death_yn\"].value_counts().plot(kind='bar', figsize=(10,12))\n",
    "    plt.title(\"{}\".format(race_ethnicity_combined[i]))\n",
    "    plt.ylabel('number of Deaths')\n",
    "    plt.xlabel('Death')\n",
    "    plt.tight_layout()\n",
    "plt.tight_layout()  \n",
    "plt.savefig('6.png')\n",
    "plt.show()"
   ]
  },
  {
   "cell_type": "markdown",
   "metadata": {},
   "source": [
    "Plot summary:\n",
    "\n",
    "- If we look back at the stacked bar plot we can see that the death rate does not vary significantly from one race to another.\n",
    "- The death rate variation among different race/ ethnicities seems quite low.\n",
    "- while they are all relatively low it would seem that 'black, Non-Hispanic' and 'White, non-Hispanic' have the highest amount of deaths.\n",
    "- while 'Multiple/Other, Non Hispanic' has the lowest percentage of deaths. "
   ]
  },
  {
   "cell_type": "markdown",
   "metadata": {},
   "source": [
    "## current_status vs. death "
   ]
  },
  {
   "cell_type": "code",
   "execution_count": 43,
   "metadata": {},
   "outputs": [
    {
     "data": {
      "image/png": "[encoded data removed]",
      "text/plain": [
       "<Figure size 720x360 with 2 Axes>"
      ]
     },
     "metadata": {
      "needs_background": "light"
     },
     "output_type": "display_data"
    }
   ],
   "source": [
    "current_status = pd.unique(df[\"current_status\"].ravel())\n",
    "for i in range(0,2):\n",
    "    plt.subplot(1,2, i+1) # row 1, col 2 index 1\n",
    "    group1 = df_train[df_train[\"current_status\"]==current_status[i]]\n",
    "    f = group1[\"death_yn\"].value_counts().plot(kind='bar', figsize=(10,5))\n",
    "    plt.title(\"current_status={}\".format(current_status[i]))\n",
    "    plt.ylabel('number of Deaths')\n",
    "    plt.xlabel('Death')\n",
    "\n",
    "plt.tight_layout() \n",
    "plt.savefig('7.png')\n",
    "plt.show()"
   ]
  },
  {
   "cell_type": "markdown",
   "metadata": {},
   "source": [
    "Plot summary:\n",
    "\n",
    "- We can see the the majority of laboratory confirmed cases do not result in death, this is as expected as the the mortality rate in most countries remains below 5%. In Ireland for example the mortality rate sits at around 2% of confirmed cases. \n",
    "- Therefore this feature does provide some useful information, but it would not add much to a predictive model. For the most part the predicitve model will be used to predict the risk factor for confirmed cases and therefore current_status would not be variable. \n"
   ]
  },
  {
   "cell_type": "markdown",
   "metadata": {},
   "source": [
    "## cdc_case_earliest_dt vs death  "
   ]
  },
  {
   "cell_type": "code",
   "execution_count": 44,
   "metadata": {},
   "outputs": [
    {
     "data": {
      "image/png": "[encoded data removed]",
      "text/plain": [
       "<Figure size 864x1080 with 5 Axes>"
      ]
     },
     "metadata": {
      "needs_background": "light"
     },
     "output_type": "display_data"
    }
   ],
   "source": [
    "cdc_case_earliest_dt = pd.unique(df[\"cdc_case_earliest_dt\"].ravel())\n",
    "\n",
    "for i in range(0,5):\n",
    "    plt.subplot(5,3, i+1) # row 1, col 2 index 1\n",
    "    group1 = df_train[df_train[\"cdc_case_earliest_dt\"]==cdc_case_earliest_dt[i]]\n",
    "    f = group1[\"death_yn\"].value_counts().plot(kind='bar', figsize=(12,15), ylim=(0,4000))\n",
    "    plt.title(\"date={}\".format(cdc_case_earliest_dt[i]))\n",
    "\n",
    "    plt.ylabel('number of Deaths')\n",
    "    plt.xlabel('Death')\n",
    "\n",
    "plt.tight_layout()  \n",
    "plt.savefig('8.png')\n",
    "plt.show()"
   ]
  },
  {
   "cell_type": "markdown",
   "metadata": {},
   "source": [
    "Plot summary: \n",
    "\n",
    "- These plots serve as an indication of how many cases occured over the year period that this data was collected. As we can see the mortality rate for each quarter is very low and it would seem that the quarter in which the cases were infected with the virus has very little affect on the target feature. Even in quarters where case level was at its highest (2020Q4), the mortality rate remains relatively the same as other months where case level wasn't near as high. \n",
    "- This feature will not be used in the initial statistical model as it is not a high risk factor. Based on these plots it would seem that it has very little afect on the target feature. In countries with very little medical resources this may be a risk factor as hospitals would be overworked in the winter which could result in more deaths. In america they have a sophisticated (but expensive!) medical system that can withstand high levels of patient admittance. \n",
    "- if we look at the stacked bar plots for this feature we can see that there was a surge in cases and deaths in the first quarter of 2020 due to the fact that the pandemic had just begun, as the year moves on the death rate lowers and levels out significanlty. Even through the winter quarter of the year the death rates remain quite low."
   ]
  },
  {
   "cell_type": "markdown",
   "metadata": {},
   "source": [
    "## Onset_dt vs Death"
   ]
  },
  {
   "cell_type": "code",
   "execution_count": 45,
   "metadata": {},
   "outputs": [
    {
     "data": {
      "image/png": "[encoded data removed]",
      "text/plain": [
       "<Figure size 864x1152 with 5 Axes>"
      ]
     },
     "metadata": {
      "needs_background": "light"
     },
     "output_type": "display_data"
    }
   ],
   "source": [
    "onset_dt = pd.unique(df[\"onset_dt\"].ravel())\n",
    "plt.subplot(5,3,1)\n",
    "NAT_group = df_train[df_train[\"onset_dt\"].isna()]\n",
    "f = NAT_group[\"death_yn\"].value_counts().plot(kind='bar', figsize=(12,12))\n",
    "plt.title(\"date=NA\")\n",
    "plt.ylabel('number of Deaths')\n",
    "plt.xlabel('Death')\n",
    "\n",
    "\n",
    "for i in range(1,5):\n",
    "    plt.subplot(5,3, i+1) # row 1, col 2 index 1\n",
    "    group1 = df_train[df_train[\"onset_dt\"]==onset_dt[i]]\n",
    "    f = group1[\"death_yn\"].value_counts().plot(kind='bar', figsize=(12,16), ylim=(0,2000))\n",
    "    plt.title(\"date={}\".format(onset_dt[i]))\n",
    "    plt.ylabel('number of Deaths')\n",
    "    plt.xlabel('Death')\n",
    "\n",
    "plt.tight_layout() \n",
    "plt.savefig('9.png')\n",
    "plt.show()"
   ]
  },
  {
   "cell_type": "markdown",
   "metadata": {},
   "source": [
    "Plot summary: \n",
    "\n",
    "- These plots provide similar results to cdc_case_earliest_dt. For the same reasons as cdc_case_earliest_dt they will not be included in the statistical model. Not only are over half of the dates missing, but the quarter in which symptoms begin to show is simply not a risk factor that would need to be accounted for in our predictive model. cdc_case_earliest could be use as the sole indicator of datetime of the deaths, this will be looked at in more detail in section 5. But for now, these two datetime features will not be included in our initial predictive model."
   ]
  },
  {
   "cell_type": "markdown",
   "metadata": {},
   "source": [
    "### Summary of findings\n",
    "\n",
    "- **Categorical vs Categorical features:**\n",
    "   - From the bar plot it is clear that roughly the same amount of males and females died as a result of covid-19, with males having a marginally higher death rate. Global data indicate higher COVID-19 case fatality rates among men than women. Therefore this feature will be kept in the model.\n",
    "   \n",
    "   - We see a strong link between increasing age and death rate as is expected. This feature will be kept in the model.\n",
    "   \n",
    "   - The pairwise analysis of hospilization vs. death rate is as expected, in general those who were hospitalized have a higher chance of dying from covid-19. The large majority of this sample were not hospitalized. roughly 700 people were, and of those 700 approximately 200 died, as is evident from the bar plot above. This feature will be kept in the model.\n",
    "   \n",
    "  - There is roughly a 50:50 split in mortality for those who are admitted to ICU. This feature is a high risk factor and will therefore be kept in the model.\n",
    "   \n",
    "  - The number of deaths of those with an underlying medical condition is far higher than those without, it is well documented that this is a high risk factor and therefore it will be included in our model. \n",
    "   \n",
    "  - There are no evident links between race/ethnicity and death rate, it would seem that the death rate percentage across the groupings of ethnicities is quite similar. It was pointed out above how two of these groups have a marginally higher percentage of deaths, but this could be due to the fact that 'white, non hispanic' and 'black, non hispanic' make up a large proportion of the data set, in particular 'white, non hispanic' which is the modal value of *race_ethnicity_combined* in our most up to date dataframe. We will look at this feature again in section 5.\n",
    "  \n",
    "  - There is no evident link between current_status and death rate. \n",
    "  \n",
    "  - There is no evident link between onset_dt and death rate for the reasons explained above.\n",
    "  \n",
    "  - There is no evident link between cdc_case_earliest_dt and death rate for the reasons explained above.  We will look at this feature again in section 5.\n",
    "  \n",
    "\n",
    "  \n",
    "  \n",
    "- **Subset of Categorical variables for predictive model:**\n",
    "    - Based on this analysis, the variables that seem better at predicting the target feature and that will will be used in our predictive model are:\n",
    "        - sex \n",
    "        - age_group\n",
    "        - hosp_yn\n",
    "        - icu_yn\n",
    "        - medcond_yn"
   ]
  },
  {
   "cell_type": "markdown",
   "metadata": {},
   "source": [
    "## 1.3 Prepare dataset for modeling\n",
    "Now we have picked our descriptive features for the whole dataset, a number of additional steps will need to be taken to prepare the dataset for modeling \n",
    "- We will drop those features that we did not deem suitable for predicting the target feature.\n",
    "- We will convert the categorical variables into indicator variables such that modelling can be done\n",
    "- We will then remove the redundant dummies which contain no additional information\n",
    "- We will then set up the train test split again based on the dataset with the dummies included\n",
    "- model training can then begin \n"
   ]
  },
  {
   "cell_type": "code",
   "execution_count": 46,
   "metadata": {},
   "outputs": [],
   "source": [
    "#making a copy of original dataframe\n",
    "df_reduced = df.copy()"
   ]
  },
  {
   "cell_type": "code",
   "execution_count": 47,
   "metadata": {},
   "outputs": [],
   "source": [
    "#drom features that were deemed unsuitable for predictions \n",
    "df_reduced = df.drop(['cdc_case_earliest_dt','onset_dt','current_status','race_ethnicity_combined'],axis=1)"
   ]
  },
  {
   "cell_type": "markdown",
   "metadata": {},
   "source": [
    "Our data is made up of only categorical features and therefore we must deal with this as linear regression expects numerical features. This is done through dummy encoding which can be seen below, we turn each categorical feature into many binary continuous features that encode the levels of the categorical feature. "
   ]
  },
  {
   "cell_type": "code",
   "execution_count": 48,
   "metadata": {},
   "outputs": [],
   "source": [
    "#converting categorical data into dummy or indicator variables \n",
    "variables = ['age_group','hosp_yn','icu_yn','medcond_yn','sex']\n",
    "for col in variables:\n",
    "    dummies = pd.get_dummies(df_reduced[col],prefix = col, drop_first=True)\n",
    "    df_reduced = pd.concat([df_reduced,dummies], axis = 1)"
   ]
  },
  {
   "cell_type": "code",
   "execution_count": 49,
   "metadata": {},
   "outputs": [],
   "source": [
    "#dropping unused columns\n",
    "df_reduced = df_reduced.drop(variables, axis=1)"
   ]
  },
  {
   "cell_type": "code",
   "execution_count": 50,
   "metadata": {},
   "outputs": [],
   "source": [
    "#mapping the target feature to binary digits, 1 for yes and 0 for no. \n",
    "df_reduced['death_yn'] = df_reduced['death_yn'].map({'Yes': 1, 'No': 0})"
   ]
  },
  {
   "cell_type": "markdown",
   "metadata": {},
   "source": [
    "### Setting up the train/test split\n",
    "- This is based on the dataset with dummy values\n",
    "- The Target is stored in dataframe \"y\"\n",
    "- The remaining features are stored in dataframe \"X\"\n",
    "- Both are split into training and test subsets"
   ]
  },
  {
   "cell_type": "code",
   "execution_count": 51,
   "metadata": {},
   "outputs": [],
   "source": [
    "#creating variables and target feature \n",
    "x = df_reduced.drop('death_yn',axis=1)\n",
    "y = df_reduced['death_yn']"
   ]
  },
  {
   "cell_type": "code",
   "execution_count": 52,
   "metadata": {},
   "outputs": [
    {
     "name": "stdout",
     "output_type": "stream",
     "text": [
      "The variables of our model are: \n"
     ]
    },
    {
     "data": {
      "text/plain": [
       "['age_group_10 - 19 Years',\n",
       " 'age_group_20 - 29 Years',\n",
       " 'age_group_30 - 39 Years',\n",
       " 'age_group_40 - 49 Years',\n",
       " 'age_group_50 - 59 Years',\n",
       " 'age_group_60 - 69 Years',\n",
       " 'age_group_70 - 79 Years',\n",
       " 'age_group_80+ Years',\n",
       " 'hosp_yn_Unknown',\n",
       " 'hosp_yn_Yes',\n",
       " 'icu_yn_Unknown',\n",
       " 'icu_yn_Yes',\n",
       " 'medcond_yn_Unknown',\n",
       " 'medcond_yn_Yes',\n",
       " 'sex_Male',\n",
       " 'sex_Unknown']"
      ]
     },
     "execution_count": 52,
     "metadata": {},
     "output_type": "execute_result"
    }
   ],
   "source": [
    "#print the categorical feature\n",
    "categ_features = x.columns.values.tolist()\n",
    "print(\"The variables of our model are: \")\n",
    "categ_features"
   ]
  },
  {
   "cell_type": "code",
   "execution_count": 53,
   "metadata": {},
   "outputs": [
    {
     "name": "stdout",
     "output_type": "stream",
     "text": [
      "original range is:  9979\n",
      "training range (70%):\t rows 0 to 6985\n",
      "test range (30%): \t rows 6985 to 9979\n"
     ]
    }
   ],
   "source": [
    "#splitting the dataset\n",
    "#random state of train test split will remain at 5 for duration of this assignment to create reproducable results\n",
    "x_train, x_test, y_train, y_test = train_test_split(x, y, test_size=0.3, random_state=5)\n",
    "print(\"original range is: \",df_reduced.shape[0])\n",
    "print(\"training range (70%):\\t rows 0 to\", round(x_train.shape[0]))\n",
    "print(\"test range (30%): \\t rows\", round(x_train.shape[0]), \"to\", round(x_train.shape[0]) + x_test.shape[0])"
   ]
  },
  {
   "cell_type": "markdown",
   "metadata": {},
   "source": [
    "#### Reset the indexes of the training and test splits\n",
    "\n",
    "- When the train_test_split library is used it shuffles the index of the dataframe, therefore we will reset the index to its original order.\n",
    "- This must be dealt with as it will effect merging of dataframes in the coming sections"
   ]
  },
  {
   "cell_type": "code",
   "execution_count": 54,
   "metadata": {},
   "outputs": [],
   "source": [
    "# need to reset the index to allow concatenation with predicted values\n",
    "x_train.reset_index(drop=True, inplace=True)\n",
    "y_train.reset_index(drop=True, inplace=True)\n",
    "x_test.reset_index(drop=True, inplace=True)\n",
    "y_test.reset_index(drop=True, inplace=True)"
   ]
  },
  {
   "cell_type": "markdown",
   "metadata": {},
   "source": [
    "# 2. Predictive modelling: Linear Regression\n",
    "\n",
    "## 2.1 Training the model \n",
    " \n",
    "The linear regression model will now be trained using the training data from above."
   ]
  },
  {
   "cell_type": "code",
   "execution_count": 55,
   "metadata": {},
   "outputs": [],
   "source": [
    "# Train on the training sample and test on the test sample.\n",
    "linreg = LinearRegression().fit(x_train, y_train)"
   ]
  },
  {
   "cell_type": "markdown",
   "metadata": {},
   "source": [
    "## 2.2 Interpreting the model\n",
    "\n",
    "Below are the intercept and model coefficients of the linear regression model, this model will be discussed in more detail now. "
   ]
  },
  {
   "cell_type": "code",
   "execution_count": 56,
   "metadata": {},
   "outputs": [
    {
     "name": "stdout",
     "output_type": "stream",
     "text": [
      "Model Intercept: -0.03254920471241114\n"
     ]
    }
   ],
   "source": [
    "#print the model intercept\n",
    "print(\"Model Intercept:\",linreg.intercept_)"
   ]
  },
  {
   "cell_type": "code",
   "execution_count": 57,
   "metadata": {},
   "outputs": [
    {
     "name": "stdout",
     "output_type": "stream",
     "text": [
      "Features and coeficients:\n"
     ]
    },
    {
     "data": {
      "text/plain": [
       "[('age_group_10 - 19 Years', 0.0025093512061439135),\n",
       " ('age_group_20 - 29 Years', 0.0018031365877110254),\n",
       " ('age_group_30 - 39 Years', 5.151296513474523e-05),\n",
       " ('age_group_40 - 49 Years', 0.0004953404065557065),\n",
       " ('age_group_50 - 59 Years', 0.00797735229485094),\n",
       " ('age_group_60 - 69 Years', 0.02316281527258219),\n",
       " ('age_group_70 - 79 Years', 0.06428348119740449),\n",
       " ('age_group_80+ Years', 0.27165925542818103),\n",
       " ('hosp_yn_Unknown', 0.012290424236981061),\n",
       " ('hosp_yn_Yes', 0.16418798057577053),\n",
       " ('icu_yn_Unknown', 0.030955100290881568),\n",
       " ('icu_yn_Yes', 0.2546350452469216),\n",
       " ('medcond_yn_Unknown', -0.013094233192064273),\n",
       " ('medcond_yn_Yes', 0.027408773626882398),\n",
       " ('sex_Male', 0.01171798956236739),\n",
       " ('sex_Unknown', -0.006926352167393863)]"
      ]
     },
     "execution_count": 57,
     "metadata": {},
     "output_type": "execute_result"
    }
   ],
   "source": [
    "# Print the weights learned for each feature.\n",
    "#print(linreg_train.coef_)\n",
    "print(\"Features and coeficients:\")\n",
    "list(zip(categ_features, linreg.coef_))"
   ]
  },
  {
   "cell_type": "markdown",
   "metadata": {},
   "source": [
    "**Interpreting the model:**\n",
    "\n",
    "Multiple linear regression attempts to model the relationship between two or more explanatory variables and a response variable by fitting a linear equation to the observed data. Every value of the independent variable x is associated with a value of the dependent variable y.\n",
    "\n",
    "The linear regression formula takes the following form:\n",
    "\n",
    "- $y = x0 + B1 * x1 + B2*x2 + ...+ Bn*xn $\n",
    "    - where y represents the target feature of interest .\n",
    "    - B represents the model coefficents. \n",
    "    - x represents the model variables.\n",
    "\n",
    "As this is a multiple linear regression model consisting of all categorical features, the different levels of the variables of the model can be thought of as switches where they are labelled 1 if they are 'on' and 0 if they are 'off'. The reference level of the each feature is then 'on' when all of the other levels are turned 'off' or 0. Therefore the model coefficients seen above can be thought of as a resulting change of the feature when compared to the reference level. The intercept value -0.0325 indicates the base value of the model. This is the model in which all of the reference levels are turned on i.e all variables are 0.\n",
    "\n",
    "It is important to note that the output from a linear regression model is not suited to the classification problem that we are trying to solve.\n",
    "- The output is not a probability and an additional thresholding step is necessary to convert the output into a binary classification\n",
    "- We will threshold the output so that any values >=0.5 will be cast to 1, any values <0.5 will be cast to 0\n",
    "\n",
    "The coefficicents above can be interpreted as follows:\n",
    "\n",
    "- if we look firstly at the various levels of the age group category, there are a total of 9 different levels with 0 - 9 Years being the reference level. The reference level of age_group is 'on' when all of the other levels are 0 or turned off. Therefore we interpret the model as follows, a change from the reference level 0-9 years to level 80+ years results in a 0.27 change in the target feature (risk of death). \n",
    "\n",
    "- If we move down the list to hosp_yn we can see that the reference level of hosp_yn is set to no, therefore a change from the reference level no to yes results in a 0.164 change in the risk of death. these coeffiecents are as expected, as we would expect an increase in risk of death for a patient who must be hospitalized after contracting covid-19.\n",
    "\n",
    "- Form this analysis we can see that those with medical conditions will have a resulting change of 0.027 in risk level  than those without and that men will have an increase of 0.012 in risk level when compared to women."
   ]
  },
  {
   "cell_type": "markdown",
   "metadata": {},
   "source": [
    "## 2.3 Model predictions and metrics \n",
    "\n",
    "We will print the predicted target feature value and the predicted class for the first 10 training examples based on training data."
   ]
  },
  {
   "cell_type": "code",
   "execution_count": 58,
   "metadata": {},
   "outputs": [
    {
     "name": "stdout",
     "output_type": "stream",
     "text": [
      "prediction 1:  0.009815416592310312\n",
      "prediction 2:  0.009815416592310312\n",
      "prediction 3:  0.009815416592310312\n",
      "prediction 4:  0.011123212773465625\n",
      "prediction 5:  0.00937158915088935\n",
      "prediction 6:  -0.012885201025882823\n",
      "prediction 7:  0.0618855678207917\n",
      "prediction 8:  -0.014192997207038135\n",
      "prediction 9:  0.005007004243624477\n",
      "prediction 10:  0.06131313314617802\n"
     ]
    }
   ],
   "source": [
    "#predicted target feature for first 10 training examples \n",
    "train_predictions = linreg.predict(x_train)\n",
    "for i in range(0,10):\n",
    "    print(\"prediction {}: \".format(i+1), train_predictions[i])"
   ]
  },
  {
   "cell_type": "markdown",
   "metadata": {},
   "source": [
    "As we can see above, the predicitons produced are continuous due to the fact that we have fitted a linear model, this is why we must use a threshold value to classify these results. For this assignment this threshold value will be taken as 0.5 i.e if the predicted value is greater than 0.5 then the target feature will be classified as 1 (death_yn = yes), otherwise if it is below it will be classified as 0."
   ]
  },
  {
   "cell_type": "code",
   "execution_count": 59,
   "metadata": {},
   "outputs": [
    {
     "name": "stdout",
     "output_type": "stream",
     "text": [
      "\n",
      "Predictions with multiple linear regression: \n",
      "\n",
      "  Actual Class  Predicted Class\n",
      "0            0              0.0\n",
      "1            0              0.0\n",
      "2            0              0.0\n",
      "3            0              0.0\n",
      "4            0              0.0\n",
      "5            0              0.0\n",
      "6            1              0.0\n",
      "7            0              0.0\n",
      "8            0              0.0\n",
      "9            0              0.0\n"
     ]
    }
   ],
   "source": [
    "# Threshod the predicted probs for all trainig examples and store them.\n",
    "linreg_predicted_class = (linreg.predict(x_train) >= 0.5) * 1.0\n",
    "print(\"\\nPredictions with multiple linear regression: \\n\")\n",
    "actual_vs_predicted_multiplelinreg = pd.DataFrame({'Actual Class': y_train, 'Predicted Class': linreg_predicted_class})\n",
    "\n",
    "#print the actual class and the predicted class\n",
    "print(actual_vs_predicted_multiplelinreg.head(10))"
   ]
  },
  {
   "cell_type": "markdown",
   "metadata": {},
   "source": [
    "### Evaluation metrics on training set.\n",
    "\n",
    "We will print the classification evaluation measures computed on the training set (e.g. Accuracy, Confusion matrix, Precision, Recall, F1)"
   ]
  },
  {
   "cell_type": "code",
   "execution_count": 60,
   "metadata": {},
   "outputs": [
    {
     "name": "stdout",
     "output_type": "stream",
     "text": [
      "==================== Train Data =======================\n",
      "Accuracy:  0.9715103793843951 \n",
      "\n",
      "Confusion matrix: \n",
      " [[6775    1]\n",
      " [ 198   11]] \n",
      "\n",
      "Classification report:\n",
      "                precision    recall  f1-score   support\n",
      "\n",
      "           0       0.97      1.00      0.99      6776\n",
      "           1       0.92      0.05      0.10       209\n",
      "\n",
      "    accuracy                           0.97      6985\n",
      "   macro avg       0.94      0.53      0.54      6985\n",
      "weighted avg       0.97      0.97      0.96      6985\n",
      "\n",
      "======================================================\n"
     ]
    }
   ],
   "source": [
    "#printing the evaluation metrics for training set\n",
    "print(\"==================== Train Data =======================\")\n",
    "print(\"Accuracy: \", metrics.accuracy_score(y_train, linreg_predicted_class), \"\\n\")\n",
    "print(\"Confusion matrix: \\n\", metrics.confusion_matrix(y_train, linreg_predicted_class), \"\\n\")\n",
    "print(\"Classification report:\\n \", metrics.classification_report(y_train, linreg_predicted_class))\n",
    "print(\"======================================================\")"
   ]
  },
  {
   "cell_type": "markdown",
   "metadata": {},
   "source": [
    "Discussion of evaluation metrics on training set:\n",
    "\n",
    "- Accuracy\n",
    "    - this is an indication of how often the model is correct, we have an accuracy of 97%. \n",
    "- Confusion Matrix \n",
    "    - 6775 represents the true negative - The number that is predicted 0 that was actually 0, \n",
    "    - 1 represents the false positive - The number that is predicted 1 that is actually 0\n",
    "    - 198 represents the false negative - The number that is predicted 0 that is actually 1\n",
    "    - 11 represents the true positive - The number that is predicted 1 that is actually 1\n",
    "- Precision \n",
    "    - this is an indication of how good the model is at predicting the positive class \n",
    "    - precision for predicting postive class is 0.92\n",
    "    - precision for predicitng negative class is 0.97\n",
    "- Recall\n",
    "    - this indicates the percentage of the positive class values that we predicted\n",
    "    - recall for positive class is 0.05 - this is quite low.\n",
    "    - recall for negative class is 1\n",
    "- F1 \n",
    "    - this is a weighted average of precision and recall\n",
    "    - positive class f1 score is 0.1\n",
    "    - negative class f1 score is 0.99\n",
    "\n",
    "Summary \n",
    "\n",
    "It is evident that the model predicts the negative class better than the positive class, we must however take into consideration that this is a heavily imbalanced classification problem and therefore this result reflects the fact that the model has far more negative class data to learn from as it is the majority class. We can see from the confusion matrix that 198 cases were predicted as 0 when they were actually 1. This is a significant error considering the fact that this model is trying to determine the death risk factor. The high precision and low recall for the positive class indicates that the class is well detected but the model also include points of other classes in it."
   ]
  },
  {
   "cell_type": "markdown",
   "metadata": {},
   "source": [
    "## 2.4 Model evaluation\n",
    "\n",
    "### Evaluation of model on hold out test set\n",
    "\n",
    "We will now do the same evaluation using the test set, these results are printed below along with the training set results for comparison."
   ]
  },
  {
   "cell_type": "code",
   "execution_count": 61,
   "metadata": {},
   "outputs": [
    {
     "name": "stdout",
     "output_type": "stream",
     "text": [
      "\n",
      "Predictions with multiple linear regression: \n",
      "\n",
      "  Actual Class  Predicted Class\n",
      "0            0              0.0\n",
      "1            0              0.0\n",
      "2            1              0.0\n",
      "3            0              0.0\n",
      "4            0              0.0\n",
      "5            0              0.0\n",
      "6            0              0.0\n",
      "7            0              0.0\n",
      "8            0              0.0\n",
      "9            0              0.0\n"
     ]
    }
   ],
   "source": [
    "# Threshod the predicted probs for all the 10 examples and store them.\n",
    "linreg_predicted_class_testset = (linreg.predict(x_test) >= 0.5) * 1.0\n",
    "print(\"\\nPredictions with multiple linear regression: \\n\")\n",
    "actual_vs_predicted_multiplelinreg = pd.DataFrame({'Actual Class': y_test, 'Predicted Class': linreg_predicted_class_testset})\n",
    "print(actual_vs_predicted_multiplelinreg.head(10))"
   ]
  },
  {
   "cell_type": "code",
   "execution_count": 62,
   "metadata": {},
   "outputs": [
    {
     "name": "stdout",
     "output_type": "stream",
     "text": [
      "==================== Train Data =======================\n",
      "Accuracy:  0.9715103793843951 \n",
      "\n",
      "Confusion matrix: \n",
      " [[6775    1]\n",
      " [ 198   11]] \n",
      "\n",
      "Classification report:\n",
      "                precision    recall  f1-score   support\n",
      "\n",
      "           0       0.97      1.00      0.99      6776\n",
      "           1       0.92      0.05      0.10       209\n",
      "\n",
      "    accuracy                           0.97      6985\n",
      "   macro avg       0.94      0.53      0.54      6985\n",
      "weighted avg       0.97      0.97      0.96      6985\n",
      "\n",
      "==================== Test Data =======================\n",
      "Accuracy:  0.9645958583834335\n",
      "Confusion matrix: \n",
      " [[2887    2]\n",
      " [ 104    1]]\n",
      "Classification report:\n",
      "                precision    recall  f1-score   support\n",
      "\n",
      "           0       0.97      1.00      0.98      2889\n",
      "           1       0.33      0.01      0.02       105\n",
      "\n",
      "    accuracy                           0.96      2994\n",
      "   macro avg       0.65      0.50      0.50      2994\n",
      "weighted avg       0.94      0.96      0.95      2994\n",
      "\n",
      "======================================================\n"
     ]
    }
   ],
   "source": [
    "#printing evaluation metrics for train and test data \n",
    "print(\"==================== Train Data =======================\")\n",
    "print(\"Accuracy: \", metrics.accuracy_score(y_train, linreg_predicted_class), \"\\n\")\n",
    "print(\"Confusion matrix: \\n\", metrics.confusion_matrix(y_train, linreg_predicted_class), \"\\n\")\n",
    "print(\"Classification report:\\n \", metrics.classification_report(y_train, linreg_predicted_class))\n",
    "print(\"==================== Test Data =======================\")\n",
    "print(\"Accuracy: \", metrics.accuracy_score(y_test, linreg_predicted_class_testset))\n",
    "print(\"Confusion matrix: \\n\", metrics.confusion_matrix(y_test, linreg_predicted_class_testset))\n",
    "print(\"Classification report:\\n \", metrics.classification_report(y_test, linreg_predicted_class_testset))\n",
    "print(\"======================================================\")"
   ]
  },
  {
   "cell_type": "markdown",
   "metadata": {},
   "source": [
    "Discussion of evaluation metrics on training set:\n",
    "\n",
    "- Accuracy\n",
    "    - Accuracy of the test data is marginally lower at 0.96\n",
    "\n",
    "- Precision \n",
    "    - precision for predicting postive class reduced significantly from 0.92 to 0.33\n",
    "    - precision for predicitng negative class stayed the same \n",
    "    - we can see from the confusion matrix that the number of true positives is very low\n",
    "    - this indicates that the model may not be predicting the positive class as well as we would like\n",
    "    \n",
    "- Recall\n",
    "    - recall for prediciting negative case remained at 1\n",
    "    - recall for predicting positive case dropped from 0.05 to 0.01\n",
    "     \n",
    "- F1 \n",
    "    - The f1 score for predicting the positive case has marginally decreased from 0.99 to 0.98\n",
    "    - The f1 score for predicting the negative case has decreased from 0.1 to 0.2\n",
    "\n",
    "Summary \n",
    "\n",
    "While the accuracy of the model stays quite high, the drop in precision is cause for concern as it shows that the model is not predicting the positive class very well. this could be due to the fact that the model is overfitted or that linear regression is not a suitable method for this classification problem. We will now make some more comparisons using cross validation. "
   ]
  },
  {
   "cell_type": "markdown",
   "metadata": {},
   "source": [
    "### Cross Validation \n",
    "\n",
    "In order to put the model to the test a number of times we use cross validation. It is the same evaluation as above, except it is performed a number of times on different shuffled data sets which are then split into train and test sets. Due to the fact that Sklearn does not provide a function to perform cross validation for linear regression, we have to produce this function ourselves. This is achieved by creating a wrapper function for the linear regression package that turns the results into classification results, and then these can be passed to another function that performs the cross validation as normal.\n"
   ]
  },
  {
   "cell_type": "code",
   "execution_count": 63,
   "metadata": {},
   "outputs": [],
   "source": [
    "#function to perform cross validation on the linear regression model \n",
    "def cross_val_LinReg(X, y, cv=3, scoring='accuracy'): \n",
    "    results = []\n",
    "    \n",
    "    # iterating over i such that random state can be changed for each iteration\n",
    "    for i in range(cv):\n",
    "        #train test split\n",
    "        X_train, X_test, y_train, y_test = train_test_split(X, y, random_state=i , test_size=0.3)\n",
    "        #training model \n",
    "        multiple_linreg = LinearRegression().fit(X_train, y_train)\n",
    "        multiple_linreg_predictions = (multiple_linreg.predict(X_test) >= 0.5) * 1.0\n",
    "        #calculating the score for varying metrics \n",
    "        if scoring=='accuracy':\n",
    "            score = metrics.accuracy_score(y_test, multiple_linreg_predictions)\n",
    "        elif scoring=='precision':\n",
    "            score = metrics.precision_score(y_test, multiple_linreg_predictions)\n",
    "        elif scoring=='f1':\n",
    "            score = metrics.f1_score(y_test, multiple_linreg_predictions)\n",
    "        elif scoring=='recall':\n",
    "            score = metrics.recall_score(y_test, multiple_linreg_predictions)\n",
    "        #append results\n",
    "        results.append(score)\n",
    "    return results"
   ]
  },
  {
   "cell_type": "code",
   "execution_count": 64,
   "metadata": {},
   "outputs": [],
   "source": [
    "#function to perform 10 fold cross validation and store results in a dataframe \n",
    "def cross_val_LinReg_DF(X,y):\n",
    "    #results stored in a dict \n",
    "    linRegResults = {}\n",
    "    #metrics to be calculated\n",
    "    test_metrics = ['accuracy','precision','recall', 'f1']  \n",
    "    #perorm cross validation for each metric \n",
    "    for metric in test_metrics:\n",
    "        result = cross_val_LinReg(X, y, cv=10, scoring=metric)\n",
    "        length = len(result)\n",
    "        #get the average result \n",
    "        linRegResults[metric] = sum(result)/length\n",
    "    #vretae dataframe to be returned\n",
    "    LinRegDF = pd.DataFrame.from_dict(linRegResults, orient='index', columns=['Linear_Regression'])\n",
    "    return LinRegDF"
   ]
  },
  {
   "cell_type": "code",
   "execution_count": 65,
   "metadata": {},
   "outputs": [
    {
     "name": "stdout",
     "output_type": "stream",
     "text": [
      "Mean results from 10 fold cross validation are:\n"
     ]
    },
    {
     "data": {
      "text/html": [
       "<div>\n",
       "<style scoped>\n",
       "    .dataframe tbody tr th:only-of-type {\n",
       "        vertical-align: middle;\n",
       "    }\n",
       "\n",
       "    .dataframe tbody tr th {\n",
       "        vertical-align: top;\n",
       "    }\n",
       "\n",
       "    .dataframe thead th {\n",
       "        text-align: right;\n",
       "    }\n",
       "</style>\n",
       "<table border=\"1\" class=\"dataframe\">\n",
       "  <thead>\n",
       "    <tr style=\"text-align: right;\">\n",
       "      <th></th>\n",
       "      <th>Linear_Regression</th>\n",
       "    </tr>\n",
       "  </thead>\n",
       "  <tbody>\n",
       "    <tr>\n",
       "      <th>accuracy</th>\n",
       "      <td>0.968470</td>\n",
       "    </tr>\n",
       "    <tr>\n",
       "      <th>precision</th>\n",
       "      <td>0.773333</td>\n",
       "    </tr>\n",
       "    <tr>\n",
       "      <th>recall</th>\n",
       "      <td>0.031295</td>\n",
       "    </tr>\n",
       "    <tr>\n",
       "      <th>f1</th>\n",
       "      <td>0.060018</td>\n",
       "    </tr>\n",
       "  </tbody>\n",
       "</table>\n",
       "</div>"
      ],
      "text/plain": [
       "           Linear_Regression\n",
       "accuracy            0.968470\n",
       "precision           0.773333\n",
       "recall              0.031295\n",
       "f1                  0.060018"
      ]
     },
     "execution_count": 65,
     "metadata": {},
     "output_type": "execute_result"
    }
   ],
   "source": [
    "#performing cross validation on the linear model \n",
    "linreg_crossval_df = cross_val_LinReg_DF(x,y)\n",
    "print(f\"Mean results from 10 fold cross validation are:\")\n",
    "linreg_crossval_df"
   ]
  },
  {
   "cell_type": "markdown",
   "metadata": {},
   "source": [
    "Summary of findings:\n",
    "\n",
    "- accuracy remains very high, this is representative of the fact that the dataset is highly imbalanced and therefore there is only a small number of positive cases in the dataset.\n",
    "- while the precision is relatively high at 77%, recall remains very low, and thus drags down the f1 value of the model.\n",
    "- It would seem that the linear regression model is not performing very well with this classification problem, in section 5 we will attempt to improve this model with a number of modelling techniques.\n"
   ]
  },
  {
   "cell_type": "markdown",
   "metadata": {},
   "source": [
    "# 3. Predictive Modelling: Logistic regression \n",
    "\n",
    "## 3.1 Training the model \n",
    "\n",
    "The logistic regression model will now be trained using the same training data."
   ]
  },
  {
   "cell_type": "code",
   "execution_count": 66,
   "metadata": {},
   "outputs": [],
   "source": [
    "# Train on the training sample and test on the test sample.\n",
    "LogReg = LogisticRegression().fit(x_train, y_train)"
   ]
  },
  {
   "cell_type": "markdown",
   "metadata": {},
   "source": [
    "## 3.2 Interpreting the model\n",
    "\n",
    "Below are the intercept and model coefficients of the logistic regression model, this model will be discussed in more detail now. "
   ]
  },
  {
   "cell_type": "code",
   "execution_count": 67,
   "metadata": {},
   "outputs": [
    {
     "name": "stdout",
     "output_type": "stream",
     "text": [
      "Model Intercept: [-6.68477283]\n"
     ]
    }
   ],
   "source": [
    "#printing the model intercept \n",
    "print(\"Model Intercept:\",LogReg.intercept_)"
   ]
  },
  {
   "cell_type": "code",
   "execution_count": 68,
   "metadata": {},
   "outputs": [
    {
     "name": "stdout",
     "output_type": "stream",
     "text": [
      "Features and coeficients:\n"
     ]
    },
    {
     "data": {
      "text/plain": [
       "[('age_group_10 - 19 Years', -1.3451698092791429),\n",
       " ('age_group_20 - 29 Years', -0.9901127349096263),\n",
       " ('age_group_30 - 39 Years', -1.706301115167833),\n",
       " ('age_group_40 - 49 Years', -0.3901882231007805),\n",
       " ('age_group_50 - 59 Years', 0.4923190341673999),\n",
       " ('age_group_60 - 69 Years', 1.1585652326612952),\n",
       " ('age_group_70 - 79 Years', 1.8075600757064978),\n",
       " ('age_group_80+ Years', 3.3196408287695607),\n",
       " ('hosp_yn_Unknown', 0.9755475255646212),\n",
       " ('hosp_yn_Yes', 2.5390528379981894),\n",
       " ('icu_yn_Unknown', 0.9189440708946183),\n",
       " ('icu_yn_Yes', 1.7614524411178987),\n",
       " ('medcond_yn_Unknown', -0.01588289745703596),\n",
       " ('medcond_yn_Yes', 0.9814305763418204),\n",
       " ('sex_Male', 0.5459159735859938),\n",
       " ('sex_Unknown', -0.2596739145002049)]"
      ]
     },
     "execution_count": 68,
     "metadata": {},
     "output_type": "execute_result"
    }
   ],
   "source": [
    "#printing the model coefficients\n",
    "print(\"Features and coeficients:\")\n",
    "list(zip(categ_features, LogReg.coef_[0]))"
   ]
  },
  {
   "cell_type": "markdown",
   "metadata": {},
   "source": [
    "Logistic regression is quite simialr to linear regression, however with logistic regression the relationship between the categorical dependent variable and one or more independent variables is measured by estimating probabilities using a logistic function, which is the cumulative distribution function of logistic distribution. Unlike linear regression, logistic regression is to be used when the dependant variable is binary in nature and outputs a probability between 0 and 1. The logistic regression model automatically applies a threshold to the outputted probability such that values which are greater than or equal to 0.5 are cast to 1 and those less than 0.5 are cast to 0. \n",
    "\n",
    "The model estimated in logistic regression is given by the logistic function: <br>\n",
    "\n",
    "$p(target=1|descriptive\\_features)=log(x0 + B1 * x1 + B2*x2 + ...+ Bn*xn) $ <br>\n",
    "\n",
    "\n",
    "where $log(x)$ is defined as: $log(x) = \\frac{e ^ x}{1 + e ^ x} = \\frac{1}{1+e^{-x}}$\n",
    "\n",
    "- From the values above can see the calculated intercept is -6.68\n",
    "    - This is the reference level i.e. if all other coefficients were zero then the value for 'x' would be -6.68\n",
    "    - This value represents a person in the 0-9 year age group, who has not been hospitalized or admitted to ICU, who has no underlying medical conditions and is female. Thus why the value is so low, this person has a very low risk of death if they contract covid. \n",
    "\n",
    "    \n",
    "The coefficients above can be interpreted in the same way that the linear regression coefficients were:\n",
    "\n",
    "- The effect of these on the value 'x' is the same as for linear regression\n",
    "- if we look firstly at the various levels of the age group category, there are a total of 9 different levels with 0 - 9 Years being the reference level. The reference level of age_group is 'on' when all of the other levels are 0 or turned off. Therefore we interpret the model as follows, a change from the reference level 0-9 years to level 80+ years reults in a 3.32 change in the target feature (risk of death). \n",
    "\n",
    "- If we move down the list to hosp_yn we can see that the reference level of hosp_yn is set to no, therefore a change from the reference level no to yes results in a 2.54 change in the risk of death. these coeffiecents are as expected.\n",
    "\n",
    "- Form this analysis we can see that those with medical conditions have a 0.98 increase in risk level when compared to  those without, and that men have a 0.54 increase in risk level compared to females. "
   ]
  },
  {
   "cell_type": "markdown",
   "metadata": {},
   "source": [
    "## 3.3 Model predictions and metrics \n",
    "\n",
    "We will print the predicted target feature value and the predicted class for the first 10 training examples based on training data."
   ]
  },
  {
   "cell_type": "code",
   "execution_count": 69,
   "metadata": {},
   "outputs": [
    {
     "name": "stdout",
     "output_type": "stream",
     "text": [
      "\n",
      "Predictions with multiple logistic regression: \n",
      "\n",
      "  Actual Class  Predicted Class\n",
      "0            0                0\n",
      "1            0                0\n",
      "2            0                0\n",
      "3            0                0\n",
      "4            0                0\n",
      "5            0                0\n",
      "6            1                0\n",
      "7            0                0\n",
      "8            0                0\n",
      "9            0                0\n"
     ]
    }
   ],
   "source": [
    "# Threshod the predicted probs for all the 10 examples and store them.\n",
    "logreg_train_predictions = LogReg.predict(x_train)\n",
    "print(\"\\nPredictions with multiple logistic regression: \\n\")\n",
    "actual_vs_predicted_logreg = pd.DataFrame({'Actual Class': y_train, 'Predicted Class': logreg_train_predictions})\n",
    "print(actual_vs_predicted_logreg.head(10))"
   ]
  },
  {
   "cell_type": "markdown",
   "metadata": {},
   "source": [
    "### Evaluation metrics on training set. \n",
    "\n",
    "We will print the classification evaluation measures computed on the training set (e.g. Accuracy, Confusion matrix, Precision, Recall, F1)"
   ]
  },
  {
   "cell_type": "code",
   "execution_count": 70,
   "metadata": {},
   "outputs": [
    {
     "name": "stdout",
     "output_type": "stream",
     "text": [
      "==================== Train Data =======================\n",
      "Accuracy:  0.972655690765927 \n",
      "\n",
      "Confusion matrix: \n",
      " [[6731   45]\n",
      " [ 146   63]] \n",
      "\n",
      "Classification report:\n",
      "                precision    recall  f1-score   support\n",
      "\n",
      "           0       0.98      0.99      0.99      6776\n",
      "           1       0.58      0.30      0.40       209\n",
      "\n",
      "    accuracy                           0.97      6985\n",
      "   macro avg       0.78      0.65      0.69      6985\n",
      "weighted avg       0.97      0.97      0.97      6985\n",
      "\n",
      "=======================================================\n"
     ]
    }
   ],
   "source": [
    "#printing evaluation metrics for train data \n",
    "print(\"==================== Train Data =======================\")\n",
    "print(\"Accuracy: \", metrics.accuracy_score(y_train, logreg_train_predictions),\"\\n\")\n",
    "print(\"Confusion matrix: \\n\", metrics.confusion_matrix(y_train, logreg_train_predictions),\"\\n\")\n",
    "print(\"Classification report:\\n \", metrics.classification_report(y_train, logreg_train_predictions))\n",
    "print(\"=======================================================\")"
   ]
  },
  {
   "cell_type": "markdown",
   "metadata": {},
   "source": [
    "Interpretation of results\n",
    "- Accuracy\n",
    "    - We have an accuracy of 0.97 - similar to the linear regression model\n",
    "- Precision - How good model is at prediction of the positive class\n",
    "    - Precision for the Positive class is 0.58\n",
    "    - Precision for the Negative class is 0.98\n",
    "- Recall - What percentage of the positive values did we predict\n",
    "    - Recall for the Positive classis 0.3 - higher than the linear model \n",
    "    - Recall for the Negative class 0.99\n",
    "- F1 Score - Is an a weighted average of Precision and recall\n",
    "    - F1 Score for the Positive class is 0.4\n",
    "    - F1 Score for the Negative class is 0.99\n",
    "\n",
    "Summary\n",
    "- Accuracy is in line with the linear regression model\n",
    "- It would seem that the logistic model is also a bit better at predicting the positive class.\n",
    "- recall does remain quite low which is cause for concern as we predict a large number of false negatives."
   ]
  },
  {
   "cell_type": "markdown",
   "metadata": {},
   "source": [
    "## 3.3 Logistic Regression Model Evaluation\n",
    "\n",
    "These results from the test data will be compared the results from the training data. In addition they will be compared to the results from a cross-validated model (i.e., a new model trained and evaluated using cross-validation on the full dataset)."
   ]
  },
  {
   "cell_type": "markdown",
   "metadata": {},
   "source": [
    "### Evaluation of metrics on hold out set\n",
    "\n",
    "We will now do the same evaluation using the test set, these results are printed below along with the training set results for comparison."
   ]
  },
  {
   "cell_type": "code",
   "execution_count": 72,
   "metadata": {},
   "outputs": [
    {
     "name": "stdout",
     "output_type": "stream",
     "text": [
      "==================== Train Data =======================\n",
      "Accuracy:  0.972655690765927 \n",
      "\n",
      "Confusion matrix: \n",
      " [[6731   45]\n",
      " [ 146   63]] \n",
      "\n",
      "Classification report:\n",
      "                precision    recall  f1-score   support\n",
      "\n",
      "           0       0.98      0.99      0.99      6776\n",
      "           1       0.58      0.30      0.40       209\n",
      "\n",
      "    accuracy                           0.97      6985\n",
      "   macro avg       0.78      0.65      0.69      6985\n",
      "weighted avg       0.97      0.97      0.97      6985\n",
      "\n",
      "==================== Test Data =======================\n",
      "Accuracy:  0.9655978623914495\n",
      "Confusion matrix: \n",
      " [[2869   20]\n",
      " [  83   22]]\n",
      "Classification report:\n",
      "                precision    recall  f1-score   support\n",
      "\n",
      "           0       0.97      0.99      0.98      2889\n",
      "           1       0.52      0.21      0.30       105\n",
      "\n",
      "    accuracy                           0.97      2994\n",
      "   macro avg       0.75      0.60      0.64      2994\n",
      "weighted avg       0.96      0.97      0.96      2994\n",
      "\n",
      "=======================================================\n"
     ]
    }
   ],
   "source": [
    "logreg_test_predictions = LogReg.predict(x_test)\n",
    "\n",
    "#printing evaluation metrics for train and test data \n",
    "print(\"==================== Train Data =======================\")\n",
    "print(\"Accuracy: \", metrics.accuracy_score(y_train, logreg_train_predictions),\"\\n\")\n",
    "print(\"Confusion matrix: \\n\", metrics.confusion_matrix(y_train, logreg_train_predictions),\"\\n\")\n",
    "print(\"Classification report:\\n \", metrics.classification_report(y_train, logreg_train_predictions))\n",
    "print(\"==================== Test Data =======================\")\n",
    "\n",
    "print(\"Accuracy: \", metrics.accuracy_score(y_test, logreg_test_predictions))\n",
    "print(\"Confusion matrix: \\n\", metrics.confusion_matrix(y_test, logreg_test_predictions))\n",
    "print(\"Classification report:\\n \", metrics.classification_report(y_test, logreg_test_predictions))\n",
    "print(\"=======================================================\")"
   ]
  },
  {
   "cell_type": "markdown",
   "metadata": {},
   "source": [
    "Discussion of evaluation metrics on training set:\n",
    "\n",
    "- Accuracy\n",
    "    - Accuracy of the test data is marginally lower at 0.96 \n",
    "\n",
    "- Precision \n",
    "    - precision for predicting postive class dropped marginally form 0.58 to 0.52\n",
    "    - precision for prediciting negative class stayed the same \n",
    "    \n",
    "- Recall\n",
    "    - recall for prediciting negative class remained at 0.99\n",
    "    - recall for predicting positive class dropped from 0.3 to 0.21\n",
    "     \n",
    "- F1 \n",
    "    - The f1 score for predicting the positive case has marginally decreased from 0.99 to 0.98\n",
    "    - The f1 score for predicting the negative case has decreased from 0.98 to 0.97\n",
    "\n",
    "Summary \n",
    "\n",
    "These results are far more promising than the linear regression results. Unlike the linear regression results, we do not see a big drop in precision for predicting the positive class between the train and test sets, this is an indication that the model is predicting the positive class better. This is also a good sign that the model is generalizing as it it producing similar results across the train and test set, unlike the linear regression model. More comparisons will be made using cross validation"
   ]
  },
  {
   "cell_type": "markdown",
   "metadata": {},
   "source": [
    "### Cross validation metrics\n",
    "\n",
    "A function is created to produce a dataframe of the results from 10-fold cross validation such that this code can be reused later on in the report when comparing models."
   ]
  },
  {
   "cell_type": "code",
   "execution_count": 73,
   "metadata": {},
   "outputs": [],
   "source": [
    "#function to perform cross validation on logistic model and return dataframe of metric results \n",
    "def cross_val_LogReg_DF(X,y):\n",
    "    logRegResults = {}\n",
    "    #metrics to be calculated\n",
    "    test_metrics = ['accuracy','precision','recall', 'f1']\n",
    "    #perform 10 fold cross validation for each metric \n",
    "    for metric in test_metrics:\n",
    "\n",
    "        result = cross_val_score(LogisticRegression(), X, y, scoring=metric, cv=10)\n",
    "        #get the average result for each metric \n",
    "        logRegResults[metric] = result.mean()\n",
    "    #return a dataframe with all average metric results\n",
    "    LogRegDF = pd.DataFrame.from_dict(logRegResults, orient='index', columns=['Logistic_Regression'])\n",
    "    return LogRegDF"
   ]
  },
  {
   "cell_type": "code",
   "execution_count": 74,
   "metadata": {
    "scrolled": true
   },
   "outputs": [
    {
     "name": "stdout",
     "output_type": "stream",
     "text": [
      "Mean results from 10 fold cross validation are:\n"
     ]
    },
    {
     "data": {
      "text/html": [
       "<div>\n",
       "<style scoped>\n",
       "    .dataframe tbody tr th:only-of-type {\n",
       "        vertical-align: middle;\n",
       "    }\n",
       "\n",
       "    .dataframe tbody tr th {\n",
       "        vertical-align: top;\n",
       "    }\n",
       "\n",
       "    .dataframe thead th {\n",
       "        text-align: right;\n",
       "    }\n",
       "</style>\n",
       "<table border=\"1\" class=\"dataframe\">\n",
       "  <thead>\n",
       "    <tr style=\"text-align: right;\">\n",
       "      <th></th>\n",
       "      <th>Logistic_Regression</th>\n",
       "    </tr>\n",
       "  </thead>\n",
       "  <tbody>\n",
       "    <tr>\n",
       "      <th>accuracy</th>\n",
       "      <td>0.970338</td>\n",
       "    </tr>\n",
       "    <tr>\n",
       "      <th>precision</th>\n",
       "      <td>0.547593</td>\n",
       "    </tr>\n",
       "    <tr>\n",
       "      <th>recall</th>\n",
       "      <td>0.257460</td>\n",
       "    </tr>\n",
       "    <tr>\n",
       "      <th>f1</th>\n",
       "      <td>0.345009</td>\n",
       "    </tr>\n",
       "  </tbody>\n",
       "</table>\n",
       "</div>"
      ],
      "text/plain": [
       "           Logistic_Regression\n",
       "accuracy              0.970338\n",
       "precision             0.547593\n",
       "recall                0.257460\n",
       "f1                    0.345009"
      ]
     },
     "execution_count": 74,
     "metadata": {},
     "output_type": "execute_result"
    }
   ],
   "source": [
    "#Perform cross validation on the logistic model \n",
    "logRegDF = cross_val_LogReg_DF(x,y)\n",
    "print(f\"Mean results from 10 fold cross validation are:\")\n",
    "logRegDF"
   ]
  },
  {
   "cell_type": "markdown",
   "metadata": {},
   "source": [
    "Summary of findings:\n",
    "\n",
    "- accuracy remains very high, this is representative of the fact that the dataset is highly imbalanced and therefore there is only a small number of positive cases in the dataset.\n",
    "- f1 of logistic regression model higher than that of the linear regression model, indicating that it's producing more reliable predictions. Recall does still remain quite low which will need to be addressed in section 5.\n",
    "- Overall this model has performed better than the linear regression model.\n"
   ]
  },
  {
   "cell_type": "markdown",
   "metadata": {},
   "source": [
    "# 4. Predictive Modelling: Random Forest\n",
    "\n",
    "## 4.1 Training the model\n",
    "\n",
    "The Random Forest model will now be trained using the same training data. Random state is set to one such that the model is reproducable, estimators is set to 100 and no max depth is specified."
   ]
  },
  {
   "cell_type": "code",
   "execution_count": 75,
   "metadata": {},
   "outputs": [
    {
     "data": {
      "text/plain": [
       "RandomForestClassifier(oob_score=True, random_state=1)"
      ]
     },
     "execution_count": 75,
     "metadata": {},
     "output_type": "execute_result"
    }
   ],
   "source": [
    "# Train RF with 100 trees\n",
    "rfc = RandomForestClassifier(n_estimators=100, max_features='auto', oob_score=True, random_state=1)\n",
    "# Fit model on full dataset\n",
    "rfc.fit(x_train, y_train)"
   ]
  },
  {
   "cell_type": "markdown",
   "metadata": {},
   "source": [
    "## 4.2 Interpreting the model\n",
    "\n",
    "Before we can speak of how a random forest works we must first discuss decision trees. Decision trees are a subset of a random forest. A random forest is built up fo a collection of decision trees. A decision tree uses multiple algorithms to decide how to split a node into two or more sub-nodes. The creation of sub-nodes increases the homogeneity of resultant sub-nodes. In other words, we can say that the purity of the node increases with respect to the target variable. This makes decision trees excelent tools for research analysis, especially due to the fact that they are easy to follow and understand logically. The tree will always split on the feature that gives the highest information gain to the model and this wil sit at the root of the tree, then each sequential decision will be a single prediciton. \n",
    "\n",
    "A random forest then operates by constructing a large number of decision trees at training time and outputting the class that is the mode of the classes or the mean prediction.\n",
    "\n",
    "### Decision Tree plot\n",
    "\n",
    "In order to give a better idea of how a decision tree operates, an example of a decision tree plot with depth of 3 can be seen below\n",
    "\n",
    "- At the root of the tree is age_group_80+ years with a value of 0.5, this indicates that this varibale has the highest information gain. Then for each following split the decision tree model will pick the next best feature.\n",
    "- This process will continue until the model cannot be split any further and the final output is then the prediciton."
   ]
  },
  {
   "cell_type": "code",
   "execution_count": 76,
   "metadata": {},
   "outputs": [
    {
     "data": {
      "image/png": "[encoded data removed]",
      "text/plain": [
       "<Figure size 2160x2160 with 1 Axes>"
      ]
     },
     "metadata": {
      "needs_background": "light"
     },
     "output_type": "display_data"
    }
   ],
   "source": [
    "#creating a decision tree and plotting the results \n",
    "dtc4 = DecisionTreeClassifier(max_depth=3, random_state=1)\n",
    "model = dtc4.fit(x_train, y_train)\n",
    "fig = plt.figure(figsize=(30,30))\n",
    "_ = tree.plot_tree(model, \n",
    "                   feature_names=x_train.columns,  \n",
    "                   class_names=x_train.columns,\n",
    "                   filled=True)\n",
    "plt.savefig('Decision Tree.png')"
   ]
  },
  {
   "cell_type": "markdown",
   "metadata": {},
   "source": [
    "### Feature importance\n",
    "\n",
    "Due to the fact that the random forest model is based off of feature importance we can print a ranking of the features in our model in terms of their importance according to the random forest classifier. We can see that the top three features in terms of importance are as expected, these being old age, hospital admission and ICU admission. These results are based on a random forest model containing 100 decision trees. By looking at this table of results we can get a good idea of how we can optimize our model in the next section of this report."
   ]
  },
  {
   "cell_type": "code",
   "execution_count": 77,
   "metadata": {},
   "outputs": [
    {
     "data": {
      "text/html": [
       "<div>\n",
       "<style scoped>\n",
       "    .dataframe tbody tr th:only-of-type {\n",
       "        vertical-align: middle;\n",
       "    }\n",
       "\n",
       "    .dataframe tbody tr th {\n",
       "        vertical-align: top;\n",
       "    }\n",
       "\n",
       "    .dataframe thead th {\n",
       "        text-align: right;\n",
       "    }\n",
       "</style>\n",
       "<table border=\"1\" class=\"dataframe\">\n",
       "  <thead>\n",
       "    <tr style=\"text-align: right;\">\n",
       "      <th></th>\n",
       "      <th>feature</th>\n",
       "      <th>importance</th>\n",
       "    </tr>\n",
       "  </thead>\n",
       "  <tbody>\n",
       "    <tr>\n",
       "      <th>7</th>\n",
       "      <td>age_group_80+ Years</td>\n",
       "      <td>0.262715</td>\n",
       "    </tr>\n",
       "    <tr>\n",
       "      <th>9</th>\n",
       "      <td>hosp_yn_Yes</td>\n",
       "      <td>0.259571</td>\n",
       "    </tr>\n",
       "    <tr>\n",
       "      <th>11</th>\n",
       "      <td>icu_yn_Yes</td>\n",
       "      <td>0.089032</td>\n",
       "    </tr>\n",
       "    <tr>\n",
       "      <th>14</th>\n",
       "      <td>sex_Male</td>\n",
       "      <td>0.082684</td>\n",
       "    </tr>\n",
       "    <tr>\n",
       "      <th>10</th>\n",
       "      <td>icu_yn_Unknown</td>\n",
       "      <td>0.070351</td>\n",
       "    </tr>\n",
       "    <tr>\n",
       "      <th>13</th>\n",
       "      <td>medcond_yn_Yes</td>\n",
       "      <td>0.043485</td>\n",
       "    </tr>\n",
       "    <tr>\n",
       "      <th>6</th>\n",
       "      <td>age_group_70 - 79 Years</td>\n",
       "      <td>0.037391</td>\n",
       "    </tr>\n",
       "    <tr>\n",
       "      <th>12</th>\n",
       "      <td>medcond_yn_Unknown</td>\n",
       "      <td>0.032865</td>\n",
       "    </tr>\n",
       "    <tr>\n",
       "      <th>8</th>\n",
       "      <td>hosp_yn_Unknown</td>\n",
       "      <td>0.031429</td>\n",
       "    </tr>\n",
       "    <tr>\n",
       "      <th>5</th>\n",
       "      <td>age_group_60 - 69 Years</td>\n",
       "      <td>0.027690</td>\n",
       "    </tr>\n",
       "    <tr>\n",
       "      <th>4</th>\n",
       "      <td>age_group_50 - 59 Years</td>\n",
       "      <td>0.018701</td>\n",
       "    </tr>\n",
       "    <tr>\n",
       "      <th>3</th>\n",
       "      <td>age_group_40 - 49 Years</td>\n",
       "      <td>0.014430</td>\n",
       "    </tr>\n",
       "    <tr>\n",
       "      <th>2</th>\n",
       "      <td>age_group_30 - 39 Years</td>\n",
       "      <td>0.011340</td>\n",
       "    </tr>\n",
       "    <tr>\n",
       "      <th>1</th>\n",
       "      <td>age_group_20 - 29 Years</td>\n",
       "      <td>0.008371</td>\n",
       "    </tr>\n",
       "    <tr>\n",
       "      <th>15</th>\n",
       "      <td>sex_Unknown</td>\n",
       "      <td>0.005676</td>\n",
       "    </tr>\n",
       "    <tr>\n",
       "      <th>0</th>\n",
       "      <td>age_group_10 - 19 Years</td>\n",
       "      <td>0.004269</td>\n",
       "    </tr>\n",
       "  </tbody>\n",
       "</table>\n",
       "</div>"
      ],
      "text/plain": [
       "                    feature  importance\n",
       "7       age_group_80+ Years    0.262715\n",
       "9               hosp_yn_Yes    0.259571\n",
       "11               icu_yn_Yes    0.089032\n",
       "14                 sex_Male    0.082684\n",
       "10           icu_yn_Unknown    0.070351\n",
       "13           medcond_yn_Yes    0.043485\n",
       "6   age_group_70 - 79 Years    0.037391\n",
       "12       medcond_yn_Unknown    0.032865\n",
       "8           hosp_yn_Unknown    0.031429\n",
       "5   age_group_60 - 69 Years    0.027690\n",
       "4   age_group_50 - 59 Years    0.018701\n",
       "3   age_group_40 - 49 Years    0.014430\n",
       "2   age_group_30 - 39 Years    0.011340\n",
       "1   age_group_20 - 29 Years    0.008371\n",
       "15              sex_Unknown    0.005676\n",
       "0   age_group_10 - 19 Years    0.004269"
      ]
     },
     "execution_count": 77,
     "metadata": {},
     "output_type": "execute_result"
    }
   ],
   "source": [
    "#creating a datframe that shows the random forest feature importance in order \n",
    "feature_importance = pd.DataFrame({'feature': x_train.columns, 'importance':rfc.feature_importances_})\n",
    "feature_importance.sort_values('importance', ascending=False)"
   ]
  },
  {
   "cell_type": "markdown",
   "metadata": {},
   "source": [
    "## 4.3 Model predictions and metrics \n",
    "\n",
    "We will print the predicted target feature value for the first 10 training examples based on training data."
   ]
  },
  {
   "cell_type": "code",
   "execution_count": 82,
   "metadata": {},
   "outputs": [
    {
     "data": {
      "text/html": [
       "<div>\n",
       "<style scoped>\n",
       "    .dataframe tbody tr th:only-of-type {\n",
       "        vertical-align: middle;\n",
       "    }\n",
       "\n",
       "    .dataframe tbody tr th {\n",
       "        vertical-align: top;\n",
       "    }\n",
       "\n",
       "    .dataframe thead th {\n",
       "        text-align: right;\n",
       "    }\n",
       "</style>\n",
       "<table border=\"1\" class=\"dataframe\">\n",
       "  <thead>\n",
       "    <tr style=\"text-align: right;\">\n",
       "      <th></th>\n",
       "      <th>ActualClass</th>\n",
       "      <th>PredictedClass</th>\n",
       "    </tr>\n",
       "  </thead>\n",
       "  <tbody>\n",
       "    <tr>\n",
       "      <th>0</th>\n",
       "      <td>0</td>\n",
       "      <td>0</td>\n",
       "    </tr>\n",
       "    <tr>\n",
       "      <th>1</th>\n",
       "      <td>0</td>\n",
       "      <td>0</td>\n",
       "    </tr>\n",
       "    <tr>\n",
       "      <th>2</th>\n",
       "      <td>0</td>\n",
       "      <td>0</td>\n",
       "    </tr>\n",
       "    <tr>\n",
       "      <th>3</th>\n",
       "      <td>0</td>\n",
       "      <td>0</td>\n",
       "    </tr>\n",
       "    <tr>\n",
       "      <th>4</th>\n",
       "      <td>0</td>\n",
       "      <td>0</td>\n",
       "    </tr>\n",
       "    <tr>\n",
       "      <th>5</th>\n",
       "      <td>0</td>\n",
       "      <td>0</td>\n",
       "    </tr>\n",
       "    <tr>\n",
       "      <th>6</th>\n",
       "      <td>1</td>\n",
       "      <td>0</td>\n",
       "    </tr>\n",
       "    <tr>\n",
       "      <th>7</th>\n",
       "      <td>0</td>\n",
       "      <td>0</td>\n",
       "    </tr>\n",
       "    <tr>\n",
       "      <th>8</th>\n",
       "      <td>0</td>\n",
       "      <td>0</td>\n",
       "    </tr>\n",
       "    <tr>\n",
       "      <th>9</th>\n",
       "      <td>0</td>\n",
       "      <td>0</td>\n",
       "    </tr>\n",
       "  </tbody>\n",
       "</table>\n",
       "</div>"
      ],
      "text/plain": [
       "  ActualClass  PredictedClass\n",
       "0           0               0\n",
       "1           0               0\n",
       "2           0               0\n",
       "3           0               0\n",
       "4           0               0\n",
       "5           0               0\n",
       "6           1               0\n",
       "7           0               0\n",
       "8           0               0\n",
       "9           0               0"
      ]
     },
     "execution_count": 82,
     "metadata": {},
     "output_type": "execute_result"
    }
   ],
   "source": [
    "#predicting on the training set\n",
    "rfc_train_predictions = rfc.predict(x_train)\n",
    "#creating datframe to show the actual class and the predicted class\n",
    "df_true_vs_rfc_predicted = pd.DataFrame({'ActualClass': y_train, 'PredictedClass': rfc_train_predictions})\n",
    "df_true_vs_rfc_predicted.head(10)"
   ]
  },
  {
   "cell_type": "markdown",
   "metadata": {},
   "source": [
    "### Evaluation metrics on training set. \n",
    "\n",
    "We will print the classification evaluation measures computed on the training set (e.g. Accuracy, Confusion matrix, Precision, Recall, F1)"
   ]
  },
  {
   "cell_type": "code",
   "execution_count": 83,
   "metadata": {},
   "outputs": [
    {
     "name": "stdout",
     "output_type": "stream",
     "text": [
      "==================== Train Data =======================\n",
      "Accuracy:  0.9758052970651396 \n",
      "\n",
      "Confusion matrix: \n",
      " [[6755   21]\n",
      " [ 148   61]] \n",
      "\n",
      "Classification report:\n",
      "                precision    recall  f1-score   support\n",
      "\n",
      "           0       0.98      1.00      0.99      6776\n",
      "           1       0.74      0.29      0.42       209\n",
      "\n",
      "    accuracy                           0.98      6985\n",
      "   macro avg       0.86      0.64      0.70      6985\n",
      "weighted avg       0.97      0.98      0.97      6985\n",
      " \n",
      "\n",
      "=======================================================\n"
     ]
    }
   ],
   "source": [
    "#printing evaluation metrics for train data \n",
    "print(\"==================== Train Data =======================\")\n",
    "print(\"Accuracy: \", metrics.accuracy_score(y_train, rfc_train_predictions),\"\\n\")\n",
    "print(\"Confusion matrix: \\n\", metrics.confusion_matrix(y_train, rfc_train_predictions),\"\\n\")\n",
    "print(\"Classification report:\\n \", metrics.classification_report(y_train, rfc_train_predictions),\"\\n\")\n",
    "print(\"=======================================================\")"
   ]
  },
  {
   "cell_type": "markdown",
   "metadata": {},
   "source": [
    "Interpretation of results\n",
    "- Accuracy\n",
    "    - Accuracy remains quite high at 0.97\n",
    "- Precision - How good the model is at prediction the positive class\n",
    "    - Precision for the Positive class is 0.74\n",
    "    - Precision for the Negative class is 0.98\n",
    "- Recall - What percentage of the positive values did we predict\n",
    "    - Recall for the Positive class is 0.29\n",
    "    - Recall for the Negative class is 1.\n",
    "- F1 Score - a weighted average of Precision and recall\n",
    "    - F1 Score for the Positive class is 0.42\n",
    "    - F1 Score for the Negative class is 0.99\n",
    "\n",
    "Summary\n",
    "- Based on the trainig data, this model has performed marginally better than the logistic model across precision, recall and f1 score.\n",
    "- The confusion matrix results are very similar to that of the logistic model, we will have to perform a model evaluation on the hold out set before we can make any definitive remarks about model performance."
   ]
  },
  {
   "cell_type": "markdown",
   "metadata": {},
   "source": [
    "## 4.4 model evaluation"
   ]
  },
  {
   "cell_type": "markdown",
   "metadata": {},
   "source": [
    "### Evaluation of metrics on hold out set\n",
    "\n",
    "We will now do the same evaluation using the test set, these results are printed below along with the training set results for comparison."
   ]
  },
  {
   "cell_type": "code",
   "execution_count": 84,
   "metadata": {},
   "outputs": [
    {
     "name": "stdout",
     "output_type": "stream",
     "text": [
      "==================== Train Data =======================\n",
      "Accuracy:  0.9758052970651396 \n",
      "\n",
      "Confusion matrix: \n",
      " [[6755   21]\n",
      " [ 148   61]] \n",
      "\n",
      "Classification report:\n",
      "                precision    recall  f1-score   support\n",
      "\n",
      "           0       0.98      1.00      0.99      6776\n",
      "           1       0.74      0.29      0.42       209\n",
      "\n",
      "    accuracy                           0.98      6985\n",
      "   macro avg       0.86      0.64      0.70      6985\n",
      "weighted avg       0.97      0.98      0.97      6985\n",
      "\n",
      "==================== Test Data =======================\n",
      "Accuracy:  0.9635938543754174\n",
      "Confusion matrix: \n",
      " [[2875   14]\n",
      " [  95   10]]\n",
      "Classification report:\n",
      "                precision    recall  f1-score   support\n",
      "\n",
      "           0       0.97      1.00      0.98      2889\n",
      "           1       0.42      0.10      0.16       105\n",
      "\n",
      "    accuracy                           0.96      2994\n",
      "   macro avg       0.69      0.55      0.57      2994\n",
      "weighted avg       0.95      0.96      0.95      2994\n",
      "\n",
      "======================================================\n"
     ]
    }
   ],
   "source": [
    "#predicting on the test set\n",
    "rfc_test_predictions = rfc.predict(x_test)\n",
    "\n",
    "#printing evaluation metrics for train and test data \n",
    "print(\"==================== Train Data =======================\")\n",
    "print(\"Accuracy: \", metrics.accuracy_score(y_train, rfc_train_predictions), \"\\n\")\n",
    "print(\"Confusion matrix: \\n\", metrics.confusion_matrix(y_train, rfc_train_predictions), \"\\n\")\n",
    "print(\"Classification report:\\n \", metrics.classification_report(y_train, rfc_train_predictions))\n",
    "print(\"==================== Test Data =======================\")\n",
    "print(\"Accuracy: \", metrics.accuracy_score(y_test, rfc_test_predictions))\n",
    "print(\"Confusion matrix: \\n\", metrics.confusion_matrix(y_test, rfc_test_predictions))\n",
    "print(\"Classification report:\\n \", metrics.classification_report(y_test, rfc_test_predictions))\n",
    "print(\"======================================================\")"
   ]
  },
  {
   "cell_type": "markdown",
   "metadata": {},
   "source": [
    "Interpretation of test set results\n",
    "- Accuracy\n",
    "    - Accuracy remains the same as the training set results\n",
    "- Precision - How good the model is at prediction of the positive class\n",
    "    - Precision for the Positive class drops significantly form 0.74 to 0.42\n",
    "    - Precision for the Negative class  remains roughly the same \n",
    "    - this can be seen as a good sign as the model is not generalizing \n",
    "- Recall - What percentage of the positive values did we predict\n",
    "    - Recall for the Positive class drops from 0.29 to 0.1\n",
    "    - Recall for the Negative class  remains at 1.00\n",
    "- F1 Score - a weighted average of Precision and recall\n",
    "    - F1 Score for the Positive class drops from 0.42 to 0.16\n",
    "    - F1 Score for the Negative class ramins roughly the same at 0.99\n",
    "\n",
    "Summary\n",
    "-  precision, recall and and f1 score all dropped a significant amount from train set to test set evaluation. Perhaps the model is overfitting.\n",
    "- We will have to perform cross validation to make a definitive remark on model performance."
   ]
  },
  {
   "cell_type": "markdown",
   "metadata": {},
   "source": [
    "### Cross validation metrics"
   ]
  },
  {
   "cell_type": "code",
   "execution_count": 85,
   "metadata": {},
   "outputs": [],
   "source": [
    "#function to return a dataframe with 10 fold cross validation results on random forest model\n",
    "def cross_val_RandomForest_DF(X,y, depth=None, estimators=100):\n",
    "    RandomForestResults = {}\n",
    "    #metrics to be calculated\n",
    "    test_metrics = ['accuracy','precision','recall', 'f1']\n",
    "    for metric in test_metrics:\n",
    "        result = cross_val_score(RandomForestClassifier(n_estimators=estimators, max_features='auto', oob_score=True, random_state=1, max_depth=depth), X, y, scoring=metric, cv=10)\n",
    "        #calculate average result for each metric \n",
    "        RandomForestResults[metric] = result.mean()\n",
    "    #creating the dataframe with evaluation metrics results\n",
    "    RandomForestDF = pd.DataFrame.from_dict(RandomForestResults, orient='index', columns=['Random_Forests'])\n",
    "\n",
    "    return RandomForestDF"
   ]
  },
  {
   "cell_type": "code",
   "execution_count": 86,
   "metadata": {},
   "outputs": [
    {
     "name": "stdout",
     "output_type": "stream",
     "text": [
      "Mean results from 10 fold cross validation are:\n"
     ]
    },
    {
     "data": {
      "text/html": [
       "<div>\n",
       "<style scoped>\n",
       "    .dataframe tbody tr th:only-of-type {\n",
       "        vertical-align: middle;\n",
       "    }\n",
       "\n",
       "    .dataframe tbody tr th {\n",
       "        vertical-align: top;\n",
       "    }\n",
       "\n",
       "    .dataframe thead th {\n",
       "        text-align: right;\n",
       "    }\n",
       "</style>\n",
       "<table border=\"1\" class=\"dataframe\">\n",
       "  <thead>\n",
       "    <tr style=\"text-align: right;\">\n",
       "      <th></th>\n",
       "      <th>Random_Forests</th>\n",
       "    </tr>\n",
       "  </thead>\n",
       "  <tbody>\n",
       "    <tr>\n",
       "      <th>accuracy</th>\n",
       "      <td>0.969236</td>\n",
       "    </tr>\n",
       "    <tr>\n",
       "      <th>precision</th>\n",
       "      <td>0.526778</td>\n",
       "    </tr>\n",
       "    <tr>\n",
       "      <th>recall</th>\n",
       "      <td>0.177520</td>\n",
       "    </tr>\n",
       "    <tr>\n",
       "      <th>f1</th>\n",
       "      <td>0.259557</td>\n",
       "    </tr>\n",
       "  </tbody>\n",
       "</table>\n",
       "</div>"
      ],
      "text/plain": [
       "           Random_Forests\n",
       "accuracy         0.969236\n",
       "precision        0.526778\n",
       "recall           0.177520\n",
       "f1               0.259557"
      ]
     },
     "execution_count": 86,
     "metadata": {},
     "output_type": "execute_result"
    }
   ],
   "source": [
    "#performing cross validation on the random forest model with full dataset\n",
    "RandomForestDF = cross_val_RandomForest_DF(x,y)\n",
    "print(f\"Mean results from 10 fold cross validation are:\")\n",
    "RandomForestDF"
   ]
  },
  {
   "cell_type": "markdown",
   "metadata": {},
   "source": [
    "These results are in line with the test set results and marginally worse than the logistic regression cross validation results, particularly the f1 value which is 0.26 compared to the logistic regression which is 0.34. In the next section we will compare the results across the three models in order to get a better idea of which one performed best."
   ]
  },
  {
   "cell_type": "code",
   "execution_count": 87,
   "metadata": {},
   "outputs": [
    {
     "data": {
      "text/plain": [
       "0.9713672154617037"
      ]
     },
     "execution_count": 87,
     "metadata": {},
     "output_type": "execute_result"
    }
   ],
   "source": [
    "# compute the out-of-bag classification accuracy\n",
    "rfc.oob_score_"
   ]
  },
  {
   "cell_type": "markdown",
   "metadata": {},
   "source": [
    "out of bag accuracy score is line with the cross validated accuracy score."
   ]
  },
  {
   "cell_type": "markdown",
   "metadata": {},
   "source": [
    "# 5. Improving predictive models\n",
    "\n",
    "## 5.1 Model Comparisons\n",
    "\n",
    "- All three of the models have very high accuracy, this however is not due to the model being incredibly accurate at predicting, but rather this naive result is due to the fact that the datset we are working with is highly imbalanced. Therefore in the majority of predictions the models will predict death_yn equal to no, and due to the fact that over 95% of the dataset consists of this response, the model will appear incredibly accurate as a result. \n",
    "\n",
    "- We are more concerned with the precision, recall and f1 scores of the models as these give us an idea of how well the models are at predicting a true positve (death_yn equal to yes). We can see that the linear regression model has the highest precision, but the lowest recall, this implies that the model can't detect the class well but is trustable when it does. The logistic and random forest models have similar precision values, while the logistic model has the higher recall of the two. This therefore leaves the logistic model with the highest f1 score of the three models.\n",
    "\n",
    "- Taking all of this into consideration, it would seem that the logistic model performs better at predicting the target feature. However, we will try to optimize this performance. We will focus on the optimization of the logistic and random forest models in particular.\n",
    "\n",
    "- It would seem that the linear regression model is not performing very well and therefore will be dropped from our anlysis if it does not improve after we try some feature selection and resampling to improve results. Linear regression models are sensitive to imbalanced data and it may be for this reason that it is producing undesirable results. Logistic regression on the other hand is far more suitable for classification problems and in fact produces the best results in our cross validation analysis.\n"
   ]
  },
  {
   "cell_type": "code",
   "execution_count": 88,
   "metadata": {},
   "outputs": [
    {
     "data": {
      "text/html": [
       "<div>\n",
       "<style scoped>\n",
       "    .dataframe tbody tr th:only-of-type {\n",
       "        vertical-align: middle;\n",
       "    }\n",
       "\n",
       "    .dataframe tbody tr th {\n",
       "        vertical-align: top;\n",
       "    }\n",
       "\n",
       "    .dataframe thead th {\n",
       "        text-align: right;\n",
       "    }\n",
       "</style>\n",
       "<table border=\"1\" class=\"dataframe\">\n",
       "  <thead>\n",
       "    <tr style=\"text-align: right;\">\n",
       "      <th></th>\n",
       "      <th>Linear_Regression</th>\n",
       "      <th>Logistic_Regression</th>\n",
       "      <th>Random_Forests</th>\n",
       "    </tr>\n",
       "  </thead>\n",
       "  <tbody>\n",
       "    <tr>\n",
       "      <th>accuracy</th>\n",
       "      <td>0.968470</td>\n",
       "      <td>0.970338</td>\n",
       "      <td>0.969236</td>\n",
       "    </tr>\n",
       "    <tr>\n",
       "      <th>precision</th>\n",
       "      <td>0.773333</td>\n",
       "      <td>0.547593</td>\n",
       "      <td>0.526778</td>\n",
       "    </tr>\n",
       "    <tr>\n",
       "      <th>recall</th>\n",
       "      <td>0.031295</td>\n",
       "      <td>0.257460</td>\n",
       "      <td>0.177520</td>\n",
       "    </tr>\n",
       "    <tr>\n",
       "      <th>f1</th>\n",
       "      <td>0.060018</td>\n",
       "      <td>0.345009</td>\n",
       "      <td>0.259557</td>\n",
       "    </tr>\n",
       "  </tbody>\n",
       "</table>\n",
       "</div>"
      ],
      "text/plain": [
       "           Linear_Regression  Logistic_Regression  Random_Forests\n",
       "accuracy            0.968470             0.970338        0.969236\n",
       "precision           0.773333             0.547593        0.526778\n",
       "recall              0.031295             0.257460        0.177520\n",
       "f1                  0.060018             0.345009        0.259557"
      ]
     },
     "execution_count": 88,
     "metadata": {},
     "output_type": "execute_result"
    }
   ],
   "source": [
    "#concatenating metric results from the three different models\n",
    "ResultsDF = pd.concat([linreg_crossval_df, logRegDF, RandomForestDF], axis=1)\n",
    "ResultsDF"
   ]
  },
  {
   "cell_type": "markdown",
   "metadata": {},
   "source": [
    "### Comparing model to one that always predicts majority class.\n",
    "Due to the fact that the majority class makes up around 96% of our dataset, we will compare our results to a simple model that predicts the majority class every time."
   ]
  },
  {
   "cell_type": "code",
   "execution_count": 89,
   "metadata": {},
   "outputs": [
    {
     "name": "stdout",
     "output_type": "stream",
     "text": [
      "From original dataset: \t\tCount 2994\n",
      "Total number death=yes:\t 105\t3.51%\n",
      "Total number death=no:\t 2889\t96.49%\n"
     ]
    }
   ],
   "source": [
    "#printing out the value count of death = yes and death = no with percentage amount in the test set.\n",
    "death_yn_no = y_test[y_test == 1].count()\n",
    "death_yn_yes = y_test[y_test == 0].count()\n",
    "total = death_yn_no+ death_yn_yes\n",
    "print(f'From original dataset: \\t\\tCount {total}')\n",
    "print(f'Total number death=yes:\\t {death_yn_no}\\t{round(death_yn_no/len(y_test)*100,2)}%')\n",
    "print(f'Total number death=no:\\t {death_yn_yes}\\t{round(death_yn_yes/len(y_test)*100,2)}%')"
   ]
  },
  {
   "cell_type": "code",
   "execution_count": 90,
   "metadata": {},
   "outputs": [
    {
     "name": "stdout",
     "output_type": "stream",
     "text": [
      "==================== Test Data vs majority class =======================\n",
      "Accuracy:  0.9649298597194389\n",
      "Confusion matrix: \n",
      " [[2889    0]\n",
      " [ 105    0]]\n",
      "Classification report:\n",
      "                precision    recall  f1-score   support\n",
      "\n",
      "           0       0.96      1.00      0.98      2889\n",
      "           1       0.00      0.00      0.00       105\n",
      "\n",
      "    accuracy                           0.96      2994\n",
      "   macro avg       0.48      0.50      0.49      2994\n",
      "weighted avg       0.93      0.96      0.95      2994\n",
      "\n",
      "========================================================================\n"
     ]
    }
   ],
   "source": [
    "# generate array of 2994 zeros (length of test dataset)\n",
    "majority = np.zeros(2994)\n",
    "# create dataframe \n",
    "df_majorityClass = pd.DataFrame(majority, columns=['prediction'])\n",
    "# calculate scores of simple predictin vs actual\n",
    "print(\"==================== Test Data vs majority class =======================\")\n",
    "print(\"Accuracy: \", metrics.accuracy_score(y_test, df_majorityClass))\n",
    "print(\"Confusion matrix: \\n\", metrics.confusion_matrix(y_test, df_majorityClass))\n",
    "print(\"Classification report:\\n \", metrics.classification_report(y_test, df_majorityClass))\n",
    "print(\"========================================================================\")"
   ]
  },
  {
   "cell_type": "markdown",
   "metadata": {},
   "source": [
    "- For predicting death_yn equal to yes the simple model fails completely as expected, all three metrics precision, recall and f1 are 0.\n",
    "- For predicting death_yn equal to no the simple model does very well as 96% of the dataset consists of death_yn equal to no and therefore it is correct 96% of the time, with a recall of 100% and an f1 score of 98%.\n",
    "- This simple model is marginally less accurate than our logistic model."
   ]
  },
  {
   "cell_type": "markdown",
   "metadata": {},
   "source": [
    "\n",
    "## 5.2 Possible Model Improvements\n",
    "\n",
    "Unfortunately all of the features that were created in assignment one are not suitable for predicting the target feature, after deriving the new features their relationship with death_yn was analysed and none of them proved to be suitable as predictors. Therefore we will try and improve the models firstly through a process of feature selection. \n",
    "\n",
    "### Feature selection\n",
    "\n",
    "#### All features\n",
    "\n",
    "As we used a subset of features when training our model, perhaps using all features could improve results. Firstly we must prepare a dataset with all features in the same manner as before and then we will perform cross validation on the resulting dataset. It must be noted that onset_dt was dropped from our analysis as it was deemed not to have a strong relationship with the target feature and contained a large amount of missing values (45%).\n"
   ]
  },
  {
   "cell_type": "code",
   "execution_count": 91,
   "metadata": {},
   "outputs": [],
   "source": [
    "df_all = df.copy()\n",
    "#onset_dt will not be used for any further analysis.\n",
    "df_all = df_all.drop([\"onset_dt\"],1)"
   ]
  },
  {
   "cell_type": "code",
   "execution_count": 92,
   "metadata": {},
   "outputs": [],
   "source": [
    "features = [ 'current_status','sex','age_group','race_ethnicity_combined','hosp_yn','icu_yn','medcond_yn','cdc_case_earliest_dt']\n",
    "#converting categorical data into dummy or indicator variables \n",
    "for col in features:\n",
    "    dummies = pd.get_dummies(df_all[col], prefix = col, drop_first=True)\n",
    "    df_all = pd.concat([df_all,dummies], axis = 1)"
   ]
  },
  {
   "cell_type": "code",
   "execution_count": 93,
   "metadata": {},
   "outputs": [],
   "source": [
    "#dropping unused columns\n",
    "df_all = df_all.drop(features, axis=1)"
   ]
  },
  {
   "cell_type": "code",
   "execution_count": 94,
   "metadata": {},
   "outputs": [],
   "source": [
    "#mapping the target feature to binary digits, 1 for yes and 0 for no. \n",
    "df_all['death_yn'] = df_all['death_yn'].map({'Yes': 1, 'No': 0})"
   ]
  },
  {
   "cell_type": "markdown",
   "metadata": {},
   "source": [
    "Dataset with all features has been created, now we can perform cross validation for each model type. Results are as outlined below."
   ]
  },
  {
   "cell_type": "code",
   "execution_count": 95,
   "metadata": {},
   "outputs": [],
   "source": [
    "#creating target feature and variables\n",
    "y = df_all[\"death_yn\"]\n",
    "X_all = df_all.drop([\"death_yn\"],1)"
   ]
  },
  {
   "cell_type": "code",
   "execution_count": 96,
   "metadata": {},
   "outputs": [
    {
     "name": "stdout",
     "output_type": "stream",
     "text": [
      "number of features incl dummies:  28\n"
     ]
    }
   ],
   "source": [
    "print(\"number of features incl dummies: \", len(X_all.columns))"
   ]
  },
  {
   "cell_type": "code",
   "execution_count": 97,
   "metadata": {},
   "outputs": [],
   "source": [
    "#performing 10 fold cross validation on each model with all features included\n",
    "linRegDF_all = cross_val_LinReg_DF(X_all,y)\n",
    "logRegDF_all = cross_val_LogReg_DF(X_all,y)\n",
    "RandomForestDF_all = cross_val_RandomForest_DF(X_all,y)"
   ]
  },
  {
   "cell_type": "code",
   "execution_count": 98,
   "metadata": {},
   "outputs": [
    {
     "data": {
      "text/html": [
       "<div>\n",
       "<style scoped>\n",
       "    .dataframe tbody tr th:only-of-type {\n",
       "        vertical-align: middle;\n",
       "    }\n",
       "\n",
       "    .dataframe tbody tr th {\n",
       "        vertical-align: top;\n",
       "    }\n",
       "\n",
       "    .dataframe thead th {\n",
       "        text-align: right;\n",
       "    }\n",
       "</style>\n",
       "<table border=\"1\" class=\"dataframe\">\n",
       "  <thead>\n",
       "    <tr style=\"text-align: right;\">\n",
       "      <th></th>\n",
       "      <th>Linear_Regression</th>\n",
       "      <th>Logistic_Regression</th>\n",
       "      <th>Random_Forests</th>\n",
       "    </tr>\n",
       "  </thead>\n",
       "  <tbody>\n",
       "    <tr>\n",
       "      <th>accuracy</th>\n",
       "      <td>0.968470</td>\n",
       "      <td>0.970438</td>\n",
       "      <td>0.966430</td>\n",
       "    </tr>\n",
       "    <tr>\n",
       "      <th>precision</th>\n",
       "      <td>0.776667</td>\n",
       "      <td>0.554265</td>\n",
       "      <td>0.446703</td>\n",
       "    </tr>\n",
       "    <tr>\n",
       "      <th>recall</th>\n",
       "      <td>0.032248</td>\n",
       "      <td>0.238105</td>\n",
       "      <td>0.235786</td>\n",
       "    </tr>\n",
       "    <tr>\n",
       "      <th>f1</th>\n",
       "      <td>0.061754</td>\n",
       "      <td>0.329323</td>\n",
       "      <td>0.304861</td>\n",
       "    </tr>\n",
       "  </tbody>\n",
       "</table>\n",
       "</div>"
      ],
      "text/plain": [
       "           Linear_Regression  Logistic_Regression  Random_Forests\n",
       "accuracy            0.968470             0.970438        0.966430\n",
       "precision           0.776667             0.554265        0.446703\n",
       "recall              0.032248             0.238105        0.235786\n",
       "f1                  0.061754             0.329323        0.304861"
      ]
     },
     "execution_count": 98,
     "metadata": {},
     "output_type": "execute_result"
    }
   ],
   "source": [
    "#cross val results of all features\n",
    "ResultsDF_allFeatures = pd.concat([linRegDF_all, logRegDF_all, RandomForestDF_all], axis=1)\n",
    "ResultsDF_allFeatures"
   ]
  },
  {
   "cell_type": "markdown",
   "metadata": {},
   "source": [
    "We can see that the inclusion of all features does not result in any significant gain in performance for the logistic or linear models. However, it does provide a small increase in the metric scores of the random forest model. "
   ]
  },
  {
   "cell_type": "markdown",
   "metadata": {},
   "source": [
    "\n",
    "#### Important features\n",
    "\n",
    "We will now perform cross validation on a model which contains only the top features as produced by the random forest model which have an importance score greater than 5%, these being:\n",
    "- age_group_80+ Years\t\n",
    "- hosp_yn_Yes\t\n",
    "- icu_yn_Yes\t\n",
    "- sex_Male\t\n"
   ]
  },
  {
   "cell_type": "code",
   "execution_count": 100,
   "metadata": {},
   "outputs": [],
   "source": [
    "df_top_three = df.copy()\n",
    "df_top_three = df_top_three[['death_yn','age_group','hosp_yn','icu_yn','sex']]"
   ]
  },
  {
   "cell_type": "code",
   "execution_count": 101,
   "metadata": {},
   "outputs": [],
   "source": [
    "features = ['age_group','hosp_yn','icu_yn','sex']\n",
    "#converting categorical data into dummy or indicator variables \n",
    "for col in features:\n",
    "    dummies = pd.get_dummies(df_top_three[col], prefix = col, drop_first=True)\n",
    "    df_top_three = pd.concat([df_top_three,dummies], axis = 1)\n",
    "\n",
    "df_top_three = df_top_three.drop(features, axis=1)  "
   ]
  },
  {
   "cell_type": "code",
   "execution_count": 102,
   "metadata": {},
   "outputs": [],
   "source": [
    "#mapping the target feature to binary digits, 1 for yes and 0 for no. \n",
    "df_top_three['death_yn'] = df_top_three['death_yn'].map({'Yes': 1, 'No': 0})  "
   ]
  },
  {
   "cell_type": "code",
   "execution_count": 103,
   "metadata": {},
   "outputs": [],
   "source": [
    "y = df_top_three[\"death_yn\"]\n",
    "X_top_three = df_top_three[[\"age_group_80+ Years\",\"icu_yn_Yes\",\"hosp_yn_Yes\",\"sex_Male\"]]"
   ]
  },
  {
   "cell_type": "code",
   "execution_count": 104,
   "metadata": {},
   "outputs": [],
   "source": [
    "linRegDF_top_three = cross_val_LinReg_DF(X_top_three,y)\n",
    "logRegDF_top_three = cross_val_LogReg_DF(X_top_three,y)\n",
    "RandomForestDF_top_three = cross_val_RandomForest_DF(X_top_three,y)"
   ]
  },
  {
   "cell_type": "code",
   "execution_count": 105,
   "metadata": {},
   "outputs": [
    {
     "data": {
      "text/html": [
       "<div>\n",
       "<style scoped>\n",
       "    .dataframe tbody tr th:only-of-type {\n",
       "        vertical-align: middle;\n",
       "    }\n",
       "\n",
       "    .dataframe tbody tr th {\n",
       "        vertical-align: top;\n",
       "    }\n",
       "\n",
       "    .dataframe thead th {\n",
       "        text-align: right;\n",
       "    }\n",
       "</style>\n",
       "<table border=\"1\" class=\"dataframe\">\n",
       "  <thead>\n",
       "    <tr style=\"text-align: right;\">\n",
       "      <th></th>\n",
       "      <th>Linear_Regression</th>\n",
       "      <th>Logistic_Regression</th>\n",
       "      <th>Random_Forests</th>\n",
       "    </tr>\n",
       "  </thead>\n",
       "  <tbody>\n",
       "    <tr>\n",
       "      <th>accuracy</th>\n",
       "      <td>0.968470</td>\n",
       "      <td>0.969637</td>\n",
       "      <td>0.970538</td>\n",
       "    </tr>\n",
       "    <tr>\n",
       "      <th>precision</th>\n",
       "      <td>0.773333</td>\n",
       "      <td>0.520858</td>\n",
       "      <td>0.680000</td>\n",
       "    </tr>\n",
       "    <tr>\n",
       "      <th>recall</th>\n",
       "      <td>0.031295</td>\n",
       "      <td>0.254435</td>\n",
       "      <td>0.145968</td>\n",
       "    </tr>\n",
       "    <tr>\n",
       "      <th>f1</th>\n",
       "      <td>0.060018</td>\n",
       "      <td>0.337557</td>\n",
       "      <td>0.230297</td>\n",
       "    </tr>\n",
       "  </tbody>\n",
       "</table>\n",
       "</div>"
      ],
      "text/plain": [
       "           Linear_Regression  Logistic_Regression  Random_Forests\n",
       "accuracy            0.968470             0.969637        0.970538\n",
       "precision           0.773333             0.520858        0.680000\n",
       "recall              0.031295             0.254435        0.145968\n",
       "f1                  0.060018             0.337557        0.230297"
      ]
     },
     "execution_count": 105,
     "metadata": {},
     "output_type": "execute_result"
    }
   ],
   "source": [
    "ResultsDF_top_three = pd.concat([linRegDF_top_three, logRegDF_top_three, RandomForestDF_top_three], axis=1)\n",
    "ResultsDF_top_three"
   ]
  },
  {
   "cell_type": "markdown",
   "metadata": {},
   "source": [
    "Once again no significant gain in perormance is seen, we will compare the three subsets we have produced so far below."
   ]
  },
  {
   "cell_type": "markdown",
   "metadata": {},
   "source": [
    "#### Comparison of different feature subsets"
   ]
  },
  {
   "cell_type": "code",
   "execution_count": 106,
   "metadata": {},
   "outputs": [
    {
     "name": "stdout",
     "output_type": "stream",
     "text": [
      "\n",
      "Scores using subset of features: (from part 1)\n",
      "===================================================================\n",
      "           Linear_Regression  Logistic_Regression  Random_Forests\n",
      "accuracy            0.968470             0.970338        0.969236\n",
      "precision           0.773333             0.547593        0.526778\n",
      "recall              0.031295             0.257460        0.177520\n",
      "f1                  0.060018             0.345009        0.259557\n",
      "\n",
      "Scores using all features\n",
      "===================================================================\n",
      "           Linear_Regression  Logistic_Regression  Random_Forests\n",
      "accuracy            0.968470             0.970438        0.966430\n",
      "precision           0.776667             0.554265        0.446703\n",
      "recall              0.032248             0.238105        0.235786\n",
      "f1                  0.061754             0.329323        0.304861\n",
      "\n",
      "Scores using top features based on random forest importance \n",
      "===================================================================\n",
      "           Linear_Regression  Logistic_Regression  Random_Forests\n",
      "accuracy            0.968470             0.969637        0.970538\n",
      "precision           0.773333             0.520858        0.680000\n",
      "recall              0.031295             0.254435        0.145968\n",
      "f1                  0.060018             0.337557        0.230297\n"
     ]
    }
   ],
   "source": [
    "print(\"\\nScores using subset of features: (from part 1)\")\n",
    "print(\"===================================================================\")\n",
    "print(ResultsDF)\n",
    "print(\"\\nScores using all features\")\n",
    "print(\"===================================================================\")\n",
    "print(ResultsDF_allFeatures)\n",
    "print(\"\\nScores using top features based on random forest importance \")\n",
    "print(\"===================================================================\")\n",
    "print(ResultsDF_top_three)"
   ]
  },
  {
   "cell_type": "markdown",
   "metadata": {},
   "source": [
    "No significant change when number of features reduced. We can see that the models perform at a similar level across the metrics for each subset of features. Therefore we will firstly try to deal with the dataset imbalance and see if it improves the performance of the models. From this point forward the linear model will not be addressed any further as it simply is not suited to this classification problem, it is consistently producing very low recall scores and therefore will predict a large amount of false negatives. We want to try and minimize false negatives given the nature of the problem. We will therefore attempt to optimize the logistic and random forest models.\n",
    "\n",
    "## Investigating ways to deal with the target feature imbalance\n",
    "\n",
    "As discussed already, the dataset target feature we are working with is highly imbalanced. As can be seen below the target feature has 9665 no values and only 314 yes. This disparity can lead to significant bias in the model. There are a number of sampling strategies that can alleviate this bias in the model, two methods in particular that we will test on our model are oversampling and undersampling."
   ]
  },
  {
   "cell_type": "code",
   "execution_count": 107,
   "metadata": {},
   "outputs": [],
   "source": [
    "#create a copy of the reduced dataframe\n",
    "df_balance = df_reduced.copy()"
   ]
  },
  {
   "cell_type": "code",
   "execution_count": 108,
   "metadata": {},
   "outputs": [
    {
     "data": {
      "text/plain": [
       "0    9665\n",
       "1     314\n",
       "Name: death_yn, dtype: int64"
      ]
     },
     "execution_count": 108,
     "metadata": {},
     "output_type": "execute_result"
    }
   ],
   "source": [
    "#check the target feature imbalance\n",
    "df_balance['death_yn'].value_counts()"
   ]
  },
  {
   "cell_type": "code",
   "execution_count": 109,
   "metadata": {},
   "outputs": [],
   "source": [
    "#create target feature and variables\n",
    "y = df_balance[\"death_yn\"]\n",
    "x = df_balance.drop([\"death_yn\"],1)"
   ]
  },
  {
   "cell_type": "markdown",
   "metadata": {},
   "source": [
    "#### Undersampling\n",
    "\n",
    "Random undersampling decreases the number of members of the majority class to the optimal ratio against the minority class. This is the simplest way to undersample, we will use the imbalanced-learn package to execute this method."
   ]
  },
  {
   "cell_type": "code",
   "execution_count": 110,
   "metadata": {},
   "outputs": [],
   "source": [
    "undersample = RandomUnderSampler(sampling_strategy='majority')"
   ]
  },
  {
   "cell_type": "code",
   "execution_count": 111,
   "metadata": {},
   "outputs": [],
   "source": [
    "x_train, x_test, y_train, y_test = train_test_split(x, y, test_size=0.3,random_state=5)"
   ]
  },
  {
   "cell_type": "code",
   "execution_count": 112,
   "metadata": {},
   "outputs": [],
   "source": [
    "X_train_under, y_train_under = undersample.fit_resample(x_train, y_train)"
   ]
  },
  {
   "cell_type": "markdown",
   "metadata": {},
   "source": [
    "After we have undersampled, the training set now contains a 50:50 split in the target feature."
   ]
  },
  {
   "cell_type": "code",
   "execution_count": 113,
   "metadata": {},
   "outputs": [
    {
     "data": {
      "text/plain": [
       "1    209\n",
       "0    209\n",
       "Name: death_yn, dtype: int64"
      ]
     },
     "execution_count": 113,
     "metadata": {},
     "output_type": "execute_result"
    }
   ],
   "source": [
    "y_train_under.value_counts()"
   ]
  },
  {
   "cell_type": "code",
   "execution_count": 114,
   "metadata": {},
   "outputs": [
    {
     "name": "stdout",
     "output_type": "stream",
     "text": [
      "==================== Undersampled logistic model =======================\n",
      "Accuracy:  0.8931195724782899\n",
      "Confusion matrix: \n",
      " [[2585  304]\n",
      " [  16   89]]\n",
      "Classification report:\n",
      "                precision    recall  f1-score   support\n",
      "\n",
      "           0       0.99      0.89      0.94      2889\n",
      "           1       0.23      0.85      0.36       105\n",
      "\n",
      "    accuracy                           0.89      2994\n",
      "   macro avg       0.61      0.87      0.65      2994\n",
      "weighted avg       0.97      0.89      0.92      2994\n",
      "\n",
      "==================== Undersampled random forest model=======================\n",
      "Accuracy:  0.8633934535738143\n",
      "Confusion matrix: \n",
      " [[2501  388]\n",
      " [  21   84]]\n",
      "Classification report:\n",
      "                precision    recall  f1-score   support\n",
      "\n",
      "           0       0.99      0.87      0.92      2889\n",
      "           1       0.18      0.80      0.29       105\n",
      "\n",
      "    accuracy                           0.86      2994\n",
      "   macro avg       0.58      0.83      0.61      2994\n",
      "weighted avg       0.96      0.86      0.90      2994\n",
      "\n",
      "======================================================\n"
     ]
    }
   ],
   "source": [
    "# Train on the training sample and test on the test sample.\n",
    "LogReg2 = LogisticRegression().fit(X_train_under, y_train_under)\n",
    "LogReg2_test_predictions = LogReg2.predict(x_test)\n",
    "\n",
    "# Train on the training sample and test on the test sample.\n",
    "Rfc2 = RandomForestClassifier(n_estimators=100, max_features='auto', oob_score=True, random_state=1)\n",
    "Rfc2.fit(X_train_under, y_train_under)\n",
    "Rfc2_test_predictions = Rfc2.predict(x_test)\n",
    "print(\"==================== Undersampled logistic model =======================\")\n",
    "print(\"Accuracy: \", metrics.accuracy_score(y_test, LogReg2_test_predictions))\n",
    "print(\"Confusion matrix: \\n\", metrics.confusion_matrix(y_test, LogReg2_test_predictions))\n",
    "print(\"Classification report:\\n \", metrics.classification_report(y_test, LogReg2_test_predictions))\n",
    "\n",
    "print(\"==================== Undersampled random forest model=======================\")\n",
    "print(\"Accuracy: \", metrics.accuracy_score(y_test, Rfc2_test_predictions))\n",
    "print(\"Confusion matrix: \\n\", metrics.confusion_matrix(y_test, Rfc2_test_predictions))\n",
    "print(\"Classification report:\\n \", metrics.classification_report(y_test, Rfc2_test_predictions))\n",
    "print(\"======================================================\")"
   ]
  },
  {
   "cell_type": "markdown",
   "metadata": {},
   "source": [
    "Undersampling results in a less accurate prediction by around 10% when compared to previous models, as can be seen from the confusion matrix for both logistic and random forest models the number of false positives is very high which as a result drags down the precision of the model. However it does produce a far higher recall, which may be of benefit to our model. This will be discussed later."
   ]
  },
  {
   "cell_type": "markdown",
   "metadata": {},
   "source": [
    "#### Oversampling\n",
    "\n",
    "Oversampling is essentially the opposite of undersampling in that it duplicate examples in the minority class, such that the minority class is better represented in the dataset."
   ]
  },
  {
   "cell_type": "code",
   "execution_count": 115,
   "metadata": {},
   "outputs": [],
   "source": [
    "SMOTE = SMOTE()"
   ]
  },
  {
   "cell_type": "code",
   "execution_count": 116,
   "metadata": {},
   "outputs": [],
   "source": [
    "X_SMOTE, y_SMOTE = SMOTE.fit_resample(x_train, y_train)"
   ]
  },
  {
   "cell_type": "code",
   "execution_count": 117,
   "metadata": {},
   "outputs": [
    {
     "data": {
      "text/plain": [
       "1    6776\n",
       "0    6776\n",
       "Name: death_yn, dtype: int64"
      ]
     },
     "execution_count": 117,
     "metadata": {},
     "output_type": "execute_result"
    }
   ],
   "source": [
    "y_SMOTE.value_counts()"
   ]
  },
  {
   "cell_type": "code",
   "execution_count": 118,
   "metadata": {},
   "outputs": [
    {
     "name": "stdout",
     "output_type": "stream",
     "text": [
      "==================== Oversampled logtistic model  =======================\n",
      "Accuracy:  0.8991315965263861\n",
      "Confusion matrix: \n",
      " [[2603  286]\n",
      " [  16   89]]\n",
      "Classification report:\n",
      "                precision    recall  f1-score   support\n",
      "\n",
      "           0       0.99      0.90      0.95      2889\n",
      "           1       0.24      0.85      0.37       105\n",
      "\n",
      "    accuracy                           0.90      2994\n",
      "   macro avg       0.62      0.87      0.66      2994\n",
      "weighted avg       0.97      0.90      0.93      2994\n",
      "\n",
      "==================== Oversampled Random forest model =======================\n",
      "Accuracy:  0.8794255177020708\n",
      "Confusion matrix: \n",
      " [[2550  339]\n",
      " [  22   83]]\n",
      "Classification report:\n",
      "                precision    recall  f1-score   support\n",
      "\n",
      "           0       0.99      0.88      0.93      2889\n",
      "           1       0.20      0.79      0.31       105\n",
      "\n",
      "    accuracy                           0.88      2994\n",
      "   macro avg       0.59      0.84      0.62      2994\n",
      "weighted avg       0.96      0.88      0.91      2994\n",
      "\n",
      "======================================================\n"
     ]
    }
   ],
   "source": [
    "LogReg3 = LogisticRegression().fit(X_SMOTE, y_SMOTE)\n",
    "LogReg3_test_predictions = LogReg3.predict(x_test)\n",
    "\n",
    "# Train on the training sample and test on the test sample.\n",
    "Rfc3 = RandomForestClassifier(n_estimators=100, max_features='auto', oob_score=True, random_state=1)\n",
    "Rfc3.fit(X_SMOTE, y_SMOTE)\n",
    "Rfc3_test_predictions = Rfc3.predict(x_test)\n",
    "\n",
    "print(\"==================== Oversampled logtistic model  =======================\")\n",
    "print(\"Accuracy: \", metrics.accuracy_score(y_test, LogReg3_test_predictions))\n",
    "print(\"Confusion matrix: \\n\", metrics.confusion_matrix(y_test, LogReg3_test_predictions))\n",
    "print(\"Classification report:\\n \", metrics.classification_report(y_test, LogReg3_test_predictions))\n",
    "print(\"==================== Oversampled Random forest model =======================\")\n",
    "print(\"Accuracy: \", metrics.accuracy_score(y_test, Rfc3_test_predictions))\n",
    "print(\"Confusion matrix: \\n\", metrics.confusion_matrix(y_test, Rfc3_test_predictions))\n",
    "print(\"Classification report:\\n \", metrics.classification_report(y_test, Rfc3_test_predictions))\n",
    "print(\"======================================================\")"
   ]
  },
  {
   "cell_type": "markdown",
   "metadata": {},
   "source": [
    "The oversampled logistic model produces the best results out of all the resampled models.\n",
    "\n",
    "In both models we see a decrease in accuracy from the previous models, however accuracy still remains over 85% which is quite high. We also see a high recall and relatively low precision in both the undersampling and oversampling examples, this indicates that the class is detected well but the model also includes other points of classes in it. This can be seen in the confusion matrix, where in both the over and under sampled models we see a high number of false positives. Recall should be optimized over precision when there is a high cost associated with a  false negative, this is the case with our model as we do not want to predict that a patient is not at risk when they in fact are. Therefore we may consider oversampling our final model in order to strengthen the recall score. \n",
    "\n",
    "We first will make a final attempt at optimizing the model by looking at the optimization of the random forest model in particular, using this model we will find the optimum max depth, estimators and number of features. "
   ]
  },
  {
   "cell_type": "markdown",
   "metadata": {},
   "source": [
    "## Optimizing random forest\n",
    "\n",
    "By optimizing the random forest we can then find the find the most important features based on these results. Once again we will prepare the datset to run through the functions that will determine the optimum feature specifications. We remove cdc_case_earliest_dt from the model due to the fact that it will skew the results if left in. As we saw at the beginning of the report, the first quarter of 2020 had a large number of cases and deaths as there was a surge at the beginning of the pandemic. However we saw from the stacked bar plots that this initial surge tapered out as the year progressed and the number of deaths per quarter was quite similar. Therefore to train the model with cdc_case_earliest_dt included would mean we would be training it on very skewed data and as a result if we were to try make predicitons for 2021 this bias would feed into the model. Therefore we have decided to leave these features out. Perhaps in future work this feature could somehow be tansformed to provide more relevant results."
   ]
  },
  {
   "cell_type": "code",
   "execution_count": 119,
   "metadata": {},
   "outputs": [],
   "source": [
    "#preparing the dataset \n",
    "df_all = df.copy()\n",
    "#onset_dt will not be used for any further analysis.\n",
    "df_all = df_all.drop([\"onset_dt\",\"cdc_case_earliest_dt\"],1)\n",
    "\n",
    "features = [ 'current_status','sex','age_group','race_ethnicity_combined','hosp_yn','icu_yn','medcond_yn']\n",
    "#converting categorical data into dummy or indicator variables \n",
    "for col in features:\n",
    "    dummies = pd.get_dummies(df_all[col], prefix = col, drop_first=True)\n",
    "    df_all = pd.concat([df_all,dummies], axis = 1)\n",
    "\n",
    "#dropping unused columns\n",
    "df_all = df_all.drop(features, axis=1)\n",
    "\n",
    "#mapping the target feature to binary digits, 1 for yes and 0 for no. \n",
    "df_all['death_yn'] = df_all['death_yn'].map({'Yes': 1, 'No': 0})\n",
    "# setup dataframe\n",
    "y = df_all[\"death_yn\"]\n",
    "X = df_all.drop([\"death_yn\"],1)"
   ]
  },
  {
   "cell_type": "markdown",
   "metadata": {},
   "source": [
    "#### Finding optimal max depth\n",
    "\n",
    "The optimal model occurs when no max depth is set. The performace of the model gradually increases as the depth increases, we can see that the model performs best when the max depth is set to none i.e There is no maximum depth that you allow the tree to grow to. "
   ]
  },
  {
   "cell_type": "code",
   "execution_count": 120,
   "metadata": {},
   "outputs": [
    {
     "data": {
      "text/html": [
       "<div>\n",
       "<style scoped>\n",
       "    .dataframe tbody tr th:only-of-type {\n",
       "        vertical-align: middle;\n",
       "    }\n",
       "\n",
       "    .dataframe tbody tr th {\n",
       "        vertical-align: top;\n",
       "    }\n",
       "\n",
       "    .dataframe thead th {\n",
       "        text-align: right;\n",
       "    }\n",
       "</style>\n",
       "<table border=\"1\" class=\"dataframe\">\n",
       "  <thead>\n",
       "    <tr style=\"text-align: right;\">\n",
       "      <th></th>\n",
       "      <th>depth=1</th>\n",
       "      <th>depth=2</th>\n",
       "      <th>depth=3</th>\n",
       "      <th>depth=4</th>\n",
       "      <th>depth=5</th>\n",
       "      <th>depth=6</th>\n",
       "      <th>depth=7</th>\n",
       "      <th>depth=8</th>\n",
       "      <th>depth=9</th>\n",
       "      <th>depth=10</th>\n",
       "      <th>no_max_depth</th>\n",
       "    </tr>\n",
       "  </thead>\n",
       "  <tbody>\n",
       "    <tr>\n",
       "      <th>accuracy</th>\n",
       "      <td>0.968534</td>\n",
       "      <td>0.968534</td>\n",
       "      <td>0.968534</td>\n",
       "      <td>0.968534</td>\n",
       "      <td>0.968935</td>\n",
       "      <td>0.969035</td>\n",
       "      <td>0.969236</td>\n",
       "      <td>0.969236</td>\n",
       "      <td>0.968534</td>\n",
       "      <td>0.969236</td>\n",
       "      <td>0.967833</td>\n",
       "    </tr>\n",
       "    <tr>\n",
       "      <th>precision</th>\n",
       "      <td>0.000000</td>\n",
       "      <td>0.000000</td>\n",
       "      <td>0.000000</td>\n",
       "      <td>0.150000</td>\n",
       "      <td>0.433333</td>\n",
       "      <td>0.500000</td>\n",
       "      <td>0.610000</td>\n",
       "      <td>0.570000</td>\n",
       "      <td>0.494167</td>\n",
       "      <td>0.542353</td>\n",
       "      <td>0.486307</td>\n",
       "    </tr>\n",
       "    <tr>\n",
       "      <th>recall</th>\n",
       "      <td>0.000000</td>\n",
       "      <td>0.000000</td>\n",
       "      <td>0.000000</td>\n",
       "      <td>0.006452</td>\n",
       "      <td>0.022278</td>\n",
       "      <td>0.028528</td>\n",
       "      <td>0.057056</td>\n",
       "      <td>0.082560</td>\n",
       "      <td>0.098589</td>\n",
       "      <td>0.143044</td>\n",
       "      <td>0.245363</td>\n",
       "    </tr>\n",
       "    <tr>\n",
       "      <th>f1</th>\n",
       "      <td>0.000000</td>\n",
       "      <td>0.000000</td>\n",
       "      <td>0.000000</td>\n",
       "      <td>0.012311</td>\n",
       "      <td>0.041754</td>\n",
       "      <td>0.053182</td>\n",
       "      <td>0.101798</td>\n",
       "      <td>0.139851</td>\n",
       "      <td>0.159967</td>\n",
       "      <td>0.220968</td>\n",
       "      <td>0.319377</td>\n",
       "    </tr>\n",
       "  </tbody>\n",
       "</table>\n",
       "</div>"
      ],
      "text/plain": [
       "            depth=1   depth=2   depth=3   depth=4   depth=5   depth=6  \\\n",
       "accuracy   0.968534  0.968534  0.968534  0.968534  0.968935  0.969035   \n",
       "precision  0.000000  0.000000  0.000000  0.150000  0.433333  0.500000   \n",
       "recall     0.000000  0.000000  0.000000  0.006452  0.022278  0.028528   \n",
       "f1         0.000000  0.000000  0.000000  0.012311  0.041754  0.053182   \n",
       "\n",
       "            depth=7   depth=8   depth=9  depth=10  no_max_depth  \n",
       "accuracy   0.969236  0.969236  0.968534  0.969236      0.967833  \n",
       "precision  0.610000  0.570000  0.494167  0.542353      0.486307  \n",
       "recall     0.057056  0.082560  0.098589  0.143044      0.245363  \n",
       "f1         0.101798  0.139851  0.159967  0.220968      0.319377  "
      ]
     },
     "execution_count": 120,
     "metadata": {},
     "output_type": "execute_result"
    }
   ],
   "source": [
    "y = df_all[\"death_yn\"]\n",
    "X_all = df_all.drop([\"death_yn\"],1)\n",
    "RandomForest_Depth = pd.DataFrame()\n",
    "for i in range(1,11):\n",
    "    df1 = cross_val_RandomForest_DF(X_all,y,i)\n",
    "    df1.rename(columns={'Random_Forests':f'depth={i}'}, inplace=True)\n",
    "    RandomForest_Depth = pd.concat([RandomForest_Depth, df1], axis=1)\n",
    "no_max_depth = cross_val_RandomForest_DF(X_all,y)\n",
    "no_max_depth.rename(columns={'Random_Forests':f'no_max_depth'}, inplace=True)\n",
    "RandomForest_Depth = pd.concat([RandomForest_Depth, no_max_depth], axis=1)\n",
    "RandomForest_Depth"
   ]
  },
  {
   "cell_type": "markdown",
   "metadata": {},
   "source": [
    "#### Finding optimal number of estimators\n",
    "\n",
    "We can see that precision and recall improve up until 100 estimators and then it begins to level out, therefore we will keep the number of estimators at the default amount of 100."
   ]
  },
  {
   "cell_type": "code",
   "execution_count": 121,
   "metadata": {},
   "outputs": [
    {
     "data": {
      "text/html": [
       "<div>\n",
       "<style scoped>\n",
       "    .dataframe tbody tr th:only-of-type {\n",
       "        vertical-align: middle;\n",
       "    }\n",
       "\n",
       "    .dataframe tbody tr th {\n",
       "        vertical-align: top;\n",
       "    }\n",
       "\n",
       "    .dataframe thead th {\n",
       "        text-align: right;\n",
       "    }\n",
       "</style>\n",
       "<table border=\"1\" class=\"dataframe\">\n",
       "  <thead>\n",
       "    <tr style=\"text-align: right;\">\n",
       "      <th></th>\n",
       "      <th>estimators=1</th>\n",
       "      <th>estimators=2</th>\n",
       "      <th>estimators=4</th>\n",
       "      <th>estimators=8</th>\n",
       "      <th>estimators=16</th>\n",
       "      <th>estimators=32</th>\n",
       "      <th>estimators=64</th>\n",
       "      <th>estimators=100</th>\n",
       "      <th>estimators=200</th>\n",
       "    </tr>\n",
       "  </thead>\n",
       "  <tbody>\n",
       "    <tr>\n",
       "      <th>accuracy</th>\n",
       "      <td>0.962722</td>\n",
       "      <td>0.966730</td>\n",
       "      <td>0.966529</td>\n",
       "      <td>0.966930</td>\n",
       "      <td>0.966530</td>\n",
       "      <td>0.966831</td>\n",
       "      <td>0.967232</td>\n",
       "      <td>0.967833</td>\n",
       "      <td>0.967532</td>\n",
       "    </tr>\n",
       "    <tr>\n",
       "      <th>precision</th>\n",
       "      <td>0.359391</td>\n",
       "      <td>0.451712</td>\n",
       "      <td>0.432902</td>\n",
       "      <td>0.458166</td>\n",
       "      <td>0.443496</td>\n",
       "      <td>0.457795</td>\n",
       "      <td>0.464766</td>\n",
       "      <td>0.486307</td>\n",
       "      <td>0.473562</td>\n",
       "    </tr>\n",
       "    <tr>\n",
       "      <th>recall</th>\n",
       "      <td>0.238306</td>\n",
       "      <td>0.238407</td>\n",
       "      <td>0.219153</td>\n",
       "      <td>0.254839</td>\n",
       "      <td>0.251714</td>\n",
       "      <td>0.257964</td>\n",
       "      <td>0.251613</td>\n",
       "      <td>0.245363</td>\n",
       "      <td>0.248488</td>\n",
       "    </tr>\n",
       "    <tr>\n",
       "      <th>f1</th>\n",
       "      <td>0.283068</td>\n",
       "      <td>0.304450</td>\n",
       "      <td>0.287093</td>\n",
       "      <td>0.322036</td>\n",
       "      <td>0.317462</td>\n",
       "      <td>0.322448</td>\n",
       "      <td>0.321625</td>\n",
       "      <td>0.319377</td>\n",
       "      <td>0.321079</td>\n",
       "    </tr>\n",
       "  </tbody>\n",
       "</table>\n",
       "</div>"
      ],
      "text/plain": [
       "           estimators=1  estimators=2  estimators=4  estimators=8  \\\n",
       "accuracy       0.962722      0.966730      0.966529      0.966930   \n",
       "precision      0.359391      0.451712      0.432902      0.458166   \n",
       "recall         0.238306      0.238407      0.219153      0.254839   \n",
       "f1             0.283068      0.304450      0.287093      0.322036   \n",
       "\n",
       "           estimators=16  estimators=32  estimators=64  estimators=100  \\\n",
       "accuracy        0.966530       0.966831       0.967232        0.967833   \n",
       "precision       0.443496       0.457795       0.464766        0.486307   \n",
       "recall          0.251714       0.257964       0.251613        0.245363   \n",
       "f1              0.317462       0.322448       0.321625        0.319377   \n",
       "\n",
       "           estimators=200  \n",
       "accuracy         0.967532  \n",
       "precision        0.473562  \n",
       "recall           0.248488  \n",
       "f1               0.321079  "
      ]
     },
     "execution_count": 121,
     "metadata": {},
     "output_type": "execute_result"
    }
   ],
   "source": [
    "# setup dataframe\n",
    "y = df_all[\"death_yn\"]\n",
    "X = df_all.drop([\"death_yn\"],1)\n",
    "# initialised empty dataframe\n",
    "RandomForest_Estimators = pd.DataFrame()\n",
    "n_estimators = [1, 2, 4, 8, 16, 32, 64, 100, 200]\n",
    "#perform cross validation with a range of different estimator values\n",
    "for item in n_estimators:\n",
    "    df1 = cross_val_RandomForest_DF(X,y,estimators=item)\n",
    "    df1.rename(columns={'Random_Forests':f'estimators={item}'}, inplace=True)\n",
    "    RandomForest_Estimators = pd.concat([RandomForest_Estimators, df1], axis=1)\n",
    "RandomForest_Estimators"
   ]
  },
  {
   "cell_type": "markdown",
   "metadata": {},
   "source": [
    "#### Finding optimal number of features\n",
    "\n",
    "The max depth and number of estimators we have already been using are the optimal amount for the model, for this reason we will attempt once again to find the best subset of features that allow for optimal performance of the model. As explained earlier, due to the fact that the random forest model produces predictions based on feature importance we can attempt to find the optimal number of features for the model based on their importance. "
   ]
  },
  {
   "cell_type": "code",
   "execution_count": 122,
   "metadata": {},
   "outputs": [
    {
     "data": {
      "text/html": [
       "<div>\n",
       "<style scoped>\n",
       "    .dataframe tbody tr th:only-of-type {\n",
       "        vertical-align: middle;\n",
       "    }\n",
       "\n",
       "    .dataframe tbody tr th {\n",
       "        vertical-align: top;\n",
       "    }\n",
       "\n",
       "    .dataframe thead th {\n",
       "        text-align: right;\n",
       "    }\n",
       "</style>\n",
       "<table border=\"1\" class=\"dataframe\">\n",
       "  <thead>\n",
       "    <tr style=\"text-align: right;\">\n",
       "      <th></th>\n",
       "      <th>importance</th>\n",
       "    </tr>\n",
       "    <tr>\n",
       "      <th>feature</th>\n",
       "      <th></th>\n",
       "    </tr>\n",
       "  </thead>\n",
       "  <tbody>\n",
       "    <tr>\n",
       "      <th>hosp_yn_Yes</th>\n",
       "      <td>0.201855</td>\n",
       "    </tr>\n",
       "    <tr>\n",
       "      <th>age_group_80+ Years</th>\n",
       "      <td>0.159232</td>\n",
       "    </tr>\n",
       "    <tr>\n",
       "      <th>sex_Male</th>\n",
       "      <td>0.085156</td>\n",
       "    </tr>\n",
       "    <tr>\n",
       "      <th>icu_yn_Unknown</th>\n",
       "      <td>0.055445</td>\n",
       "    </tr>\n",
       "    <tr>\n",
       "      <th>current_status_Probable Case</th>\n",
       "      <td>0.045397</td>\n",
       "    </tr>\n",
       "    <tr>\n",
       "      <th>icu_yn_Yes</th>\n",
       "      <td>0.044246</td>\n",
       "    </tr>\n",
       "    <tr>\n",
       "      <th>age_group_70 - 79 Years</th>\n",
       "      <td>0.043796</td>\n",
       "    </tr>\n",
       "    <tr>\n",
       "      <th>hosp_yn_Unknown</th>\n",
       "      <td>0.042789</td>\n",
       "    </tr>\n",
       "    <tr>\n",
       "      <th>race_ethnicity_combined_White, Non-Hispanic</th>\n",
       "      <td>0.037627</td>\n",
       "    </tr>\n",
       "    <tr>\n",
       "      <th>race_ethnicity_combined_Unknown</th>\n",
       "      <td>0.033829</td>\n",
       "    </tr>\n",
       "    <tr>\n",
       "      <th>race_ethnicity_combined_Hispanic/Latino</th>\n",
       "      <td>0.032633</td>\n",
       "    </tr>\n",
       "    <tr>\n",
       "      <th>medcond_yn_Yes</th>\n",
       "      <td>0.031919</td>\n",
       "    </tr>\n",
       "    <tr>\n",
       "      <th>race_ethnicity_combined_Black, Non-Hispanic</th>\n",
       "      <td>0.031234</td>\n",
       "    </tr>\n",
       "    <tr>\n",
       "      <th>age_group_60 - 69 Years</th>\n",
       "      <td>0.026643</td>\n",
       "    </tr>\n",
       "    <tr>\n",
       "      <th>medcond_yn_Unknown</th>\n",
       "      <td>0.025589</td>\n",
       "    </tr>\n",
       "    <tr>\n",
       "      <th>age_group_50 - 59 Years</th>\n",
       "      <td>0.020592</td>\n",
       "    </tr>\n",
       "    <tr>\n",
       "      <th>age_group_40 - 49 Years</th>\n",
       "      <td>0.019055</td>\n",
       "    </tr>\n",
       "    <tr>\n",
       "      <th>race_ethnicity_combined_Asian, Non-Hispanic</th>\n",
       "      <td>0.016203</td>\n",
       "    </tr>\n",
       "    <tr>\n",
       "      <th>age_group_30 - 39 Years</th>\n",
       "      <td>0.012232</td>\n",
       "    </tr>\n",
       "    <tr>\n",
       "      <th>race_ethnicity_combined_Multiple/Other, Non-Hispanic</th>\n",
       "      <td>0.011498</td>\n",
       "    </tr>\n",
       "    <tr>\n",
       "      <th>age_group_20 - 29 Years</th>\n",
       "      <td>0.009623</td>\n",
       "    </tr>\n",
       "    <tr>\n",
       "      <th>age_group_10 - 19 Years</th>\n",
       "      <td>0.005748</td>\n",
       "    </tr>\n",
       "    <tr>\n",
       "      <th>race_ethnicity_combined_Native Hawaiian/Other Pacific Islander, Non-Hispanic</th>\n",
       "      <td>0.004963</td>\n",
       "    </tr>\n",
       "    <tr>\n",
       "      <th>sex_Unknown</th>\n",
       "      <td>0.002697</td>\n",
       "    </tr>\n",
       "  </tbody>\n",
       "</table>\n",
       "</div>"
      ],
      "text/plain": [
       "                                                    importance\n",
       "feature                                                       \n",
       "hosp_yn_Yes                                           0.201855\n",
       "age_group_80+ Years                                   0.159232\n",
       "sex_Male                                              0.085156\n",
       "icu_yn_Unknown                                        0.055445\n",
       "current_status_Probable Case                          0.045397\n",
       "icu_yn_Yes                                            0.044246\n",
       "age_group_70 - 79 Years                               0.043796\n",
       "hosp_yn_Unknown                                       0.042789\n",
       "race_ethnicity_combined_White, Non-Hispanic           0.037627\n",
       "race_ethnicity_combined_Unknown                       0.033829\n",
       "race_ethnicity_combined_Hispanic/Latino               0.032633\n",
       "medcond_yn_Yes                                        0.031919\n",
       "race_ethnicity_combined_Black, Non-Hispanic           0.031234\n",
       "age_group_60 - 69 Years                               0.026643\n",
       "medcond_yn_Unknown                                    0.025589\n",
       "age_group_50 - 59 Years                               0.020592\n",
       "age_group_40 - 49 Years                               0.019055\n",
       "race_ethnicity_combined_Asian, Non-Hispanic           0.016203\n",
       "age_group_30 - 39 Years                               0.012232\n",
       "race_ethnicity_combined_Multiple/Other, Non-His...    0.011498\n",
       "age_group_20 - 29 Years                               0.009623\n",
       "age_group_10 - 19 Years                               0.005748\n",
       "race_ethnicity_combined_Native Hawaiian/Other P...    0.004963\n",
       "sex_Unknown                                           0.002697"
      ]
     },
     "execution_count": 122,
     "metadata": {},
     "output_type": "execute_result"
    }
   ],
   "source": [
    "X_train, X_test, y_train, y_test = train_test_split(X, y, random_state=1 , test_size=0.3)\n",
    "# Train RF with 100 trees\n",
    "rfc = RandomForestClassifier(n_estimators=100, max_features='auto', oob_score=True, random_state=1)\n",
    "rfc.fit(X_train, y_train)\n",
    "importance = pd.DataFrame({'feature': X_train.columns, 'importance':rfc.feature_importances_})\n",
    "importance.sort_values('importance', ascending=False, inplace=True)\n",
    "importance.set_index('feature',1, inplace=True)\n",
    "importance"
   ]
  },
  {
   "cell_type": "markdown",
   "metadata": {},
   "source": [
    "The feature importance for all features is as expected with hospilization at the top, followed by old age and interestingly gender is the third most important factor. We will now use this listing in order to find the optimal number of features for the random forest model. We will iterate over the list increasing the number of features included each time and will perform cross validation to produce some metrics for each iteration, these will then be stored in a dataframe."
   ]
  },
  {
   "cell_type": "code",
   "execution_count": 123,
   "metadata": {},
   "outputs": [
    {
     "data": {
      "text/html": [
       "<div>\n",
       "<style scoped>\n",
       "    .dataframe tbody tr th:only-of-type {\n",
       "        vertical-align: middle;\n",
       "    }\n",
       "\n",
       "    .dataframe tbody tr th {\n",
       "        vertical-align: top;\n",
       "    }\n",
       "\n",
       "    .dataframe thead th {\n",
       "        text-align: right;\n",
       "    }\n",
       "</style>\n",
       "<table border=\"1\" class=\"dataframe\">\n",
       "  <thead>\n",
       "    <tr style=\"text-align: right;\">\n",
       "      <th></th>\n",
       "      <th>features=1</th>\n",
       "      <th>features=2</th>\n",
       "      <th>features=3</th>\n",
       "      <th>features=4</th>\n",
       "      <th>features=5</th>\n",
       "      <th>features=6</th>\n",
       "      <th>features=7</th>\n",
       "      <th>features=8</th>\n",
       "      <th>features=9</th>\n",
       "      <th>features=10</th>\n",
       "      <th>features=11</th>\n",
       "      <th>features=12</th>\n",
       "      <th>features=13</th>\n",
       "      <th>features=14</th>\n",
       "      <th>features=15</th>\n",
       "      <th>features=16</th>\n",
       "      <th>features=17</th>\n",
       "      <th>features=18</th>\n",
       "      <th>features=19</th>\n",
       "      <th>features=20</th>\n",
       "    </tr>\n",
       "  </thead>\n",
       "  <tbody>\n",
       "    <tr>\n",
       "      <th>accuracy</th>\n",
       "      <td>0.968534</td>\n",
       "      <td>0.969637</td>\n",
       "      <td>0.970137</td>\n",
       "      <td>0.969737</td>\n",
       "      <td>0.970038</td>\n",
       "      <td>0.970037</td>\n",
       "      <td>0.969737</td>\n",
       "      <td>0.969737</td>\n",
       "      <td>0.969136</td>\n",
       "      <td>0.968434</td>\n",
       "      <td>0.968534</td>\n",
       "      <td>0.967632</td>\n",
       "      <td>0.967131</td>\n",
       "      <td>0.967733</td>\n",
       "      <td>0.967332</td>\n",
       "      <td>0.967232</td>\n",
       "      <td>0.966731</td>\n",
       "      <td>0.967432</td>\n",
       "      <td>0.967031</td>\n",
       "      <td>0.967031</td>\n",
       "    </tr>\n",
       "    <tr>\n",
       "      <th>precision</th>\n",
       "      <td>0.000000</td>\n",
       "      <td>0.520858</td>\n",
       "      <td>0.643651</td>\n",
       "      <td>0.571970</td>\n",
       "      <td>0.574549</td>\n",
       "      <td>0.601677</td>\n",
       "      <td>0.568874</td>\n",
       "      <td>0.578874</td>\n",
       "      <td>0.520533</td>\n",
       "      <td>0.513550</td>\n",
       "      <td>0.511958</td>\n",
       "      <td>0.464275</td>\n",
       "      <td>0.462115</td>\n",
       "      <td>0.490786</td>\n",
       "      <td>0.463557</td>\n",
       "      <td>0.469182</td>\n",
       "      <td>0.454179</td>\n",
       "      <td>0.477604</td>\n",
       "      <td>0.461453</td>\n",
       "      <td>0.457596</td>\n",
       "    </tr>\n",
       "    <tr>\n",
       "      <th>recall</th>\n",
       "      <td>0.000000</td>\n",
       "      <td>0.254435</td>\n",
       "      <td>0.126815</td>\n",
       "      <td>0.149294</td>\n",
       "      <td>0.165524</td>\n",
       "      <td>0.136593</td>\n",
       "      <td>0.143044</td>\n",
       "      <td>0.139819</td>\n",
       "      <td>0.190726</td>\n",
       "      <td>0.213407</td>\n",
       "      <td>0.226008</td>\n",
       "      <td>0.215927</td>\n",
       "      <td>0.206956</td>\n",
       "      <td>0.229234</td>\n",
       "      <td>0.217137</td>\n",
       "      <td>0.235887</td>\n",
       "      <td>0.223185</td>\n",
       "      <td>0.239012</td>\n",
       "      <td>0.232661</td>\n",
       "      <td>0.235786</td>\n",
       "    </tr>\n",
       "    <tr>\n",
       "      <th>f1</th>\n",
       "      <td>0.000000</td>\n",
       "      <td>0.337557</td>\n",
       "      <td>0.204113</td>\n",
       "      <td>0.231012</td>\n",
       "      <td>0.247540</td>\n",
       "      <td>0.215639</td>\n",
       "      <td>0.222515</td>\n",
       "      <td>0.217896</td>\n",
       "      <td>0.276395</td>\n",
       "      <td>0.295721</td>\n",
       "      <td>0.308611</td>\n",
       "      <td>0.291535</td>\n",
       "      <td>0.281569</td>\n",
       "      <td>0.307729</td>\n",
       "      <td>0.290998</td>\n",
       "      <td>0.309284</td>\n",
       "      <td>0.295770</td>\n",
       "      <td>0.313956</td>\n",
       "      <td>0.305379</td>\n",
       "      <td>0.306466</td>\n",
       "    </tr>\n",
       "  </tbody>\n",
       "</table>\n",
       "</div>"
      ],
      "text/plain": [
       "           features=1  features=2  features=3  features=4  features=5  \\\n",
       "accuracy     0.968534    0.969637    0.970137    0.969737    0.970038   \n",
       "precision    0.000000    0.520858    0.643651    0.571970    0.574549   \n",
       "recall       0.000000    0.254435    0.126815    0.149294    0.165524   \n",
       "f1           0.000000    0.337557    0.204113    0.231012    0.247540   \n",
       "\n",
       "           features=6  features=7  features=8  features=9  features=10  \\\n",
       "accuracy     0.970037    0.969737    0.969737    0.969136     0.968434   \n",
       "precision    0.601677    0.568874    0.578874    0.520533     0.513550   \n",
       "recall       0.136593    0.143044    0.139819    0.190726     0.213407   \n",
       "f1           0.215639    0.222515    0.217896    0.276395     0.295721   \n",
       "\n",
       "           features=11  features=12  features=13  features=14  features=15  \\\n",
       "accuracy      0.968534     0.967632     0.967131     0.967733     0.967332   \n",
       "precision     0.511958     0.464275     0.462115     0.490786     0.463557   \n",
       "recall        0.226008     0.215927     0.206956     0.229234     0.217137   \n",
       "f1            0.308611     0.291535     0.281569     0.307729     0.290998   \n",
       "\n",
       "           features=16  features=17  features=18  features=19  features=20  \n",
       "accuracy      0.967232     0.966731     0.967432     0.967031     0.967031  \n",
       "precision     0.469182     0.454179     0.477604     0.461453     0.457596  \n",
       "recall        0.235887     0.223185     0.239012     0.232661     0.235786  \n",
       "f1            0.309284     0.295770     0.313956     0.305379     0.306466  "
      ]
     },
     "execution_count": 123,
     "metadata": {},
     "output_type": "execute_result"
    }
   ],
   "source": [
    "#empty array to store list of features\n",
    "list_features = []\n",
    "RandomForest_Features = pd.DataFrame()\n",
    "count=0\n",
    "#iterate over the feature importance list and perform cross validation for each iteration\n",
    "for index, row in importance.iterrows():\n",
    "    if count < 20:\n",
    "        list_features.append(index)\n",
    "        X = df_all[list_features]\n",
    "        df1 = cross_val_RandomForest_DF(X,y,estimators=100, depth=None)\n",
    "        df1.rename(columns={'Random_Forests':f'features={len(list_features)}'}, inplace=True)\n",
    "        RandomForest_Features = pd.concat([RandomForest_Features, df1], axis=1)\n",
    "        count+=1\n",
    "    else:\n",
    "        break\n",
    "RandomForest_Features "
   ]
  },
  {
   "cell_type": "markdown",
   "metadata": {},
   "source": [
    "We must remember that with our model there is a high cost associated with a false negative, meaning that we need to reduce the number of cases where a prediciton is made as 0 when the target value is actually 1 i.e when a person is at high risk of dying from covid-19 but the model predicts it incorrectly. However we also do not want to produce a large number of false positives either, where the model predicts 1 when the actual value is 0. Therefore the optimal amount of features based on the above results is 11. Due to the fact that we are dealing with a higly imblanced dataset it is quite difficult to find a balance between precision and recall as can be seen from the results above, for this reason we may have to prioritize one over the other for our final model. \n",
    "\n",
    "We will now perform cross validation on the logistic and random forest models using optimal features."
   ]
  },
  {
   "cell_type": "code",
   "execution_count": 124,
   "metadata": {},
   "outputs": [],
   "source": [
    "#creating a list of the optimal features \n",
    "optimum_features = list_features[0:11]"
   ]
  },
  {
   "cell_type": "code",
   "execution_count": 125,
   "metadata": {
    "scrolled": false
   },
   "outputs": [
    {
     "data": {
      "text/plain": [
       "['hosp_yn_Yes',\n",
       " 'age_group_80+ Years',\n",
       " 'sex_Male',\n",
       " 'icu_yn_Unknown',\n",
       " 'current_status_Probable Case',\n",
       " 'icu_yn_Yes',\n",
       " 'age_group_70 - 79 Years',\n",
       " 'hosp_yn_Unknown',\n",
       " 'race_ethnicity_combined_White, Non-Hispanic',\n",
       " 'race_ethnicity_combined_Unknown',\n",
       " 'race_ethnicity_combined_Hispanic/Latino']"
      ]
     },
     "execution_count": 125,
     "metadata": {},
     "output_type": "execute_result"
    }
   ],
   "source": [
    "#displaying the optimal features\n",
    "optimum_features"
   ]
  },
  {
   "cell_type": "code",
   "execution_count": 126,
   "metadata": {},
   "outputs": [
    {
     "name": "stdout",
     "output_type": "stream",
     "text": [
      "Number of features:  11\n"
     ]
    },
    {
     "data": {
      "text/html": [
       "<div>\n",
       "<style scoped>\n",
       "    .dataframe tbody tr th:only-of-type {\n",
       "        vertical-align: middle;\n",
       "    }\n",
       "\n",
       "    .dataframe tbody tr th {\n",
       "        vertical-align: top;\n",
       "    }\n",
       "\n",
       "    .dataframe thead th {\n",
       "        text-align: right;\n",
       "    }\n",
       "</style>\n",
       "<table border=\"1\" class=\"dataframe\">\n",
       "  <thead>\n",
       "    <tr style=\"text-align: right;\">\n",
       "      <th></th>\n",
       "      <th>Logistic_Regression</th>\n",
       "      <th>Random_Forests</th>\n",
       "    </tr>\n",
       "  </thead>\n",
       "  <tbody>\n",
       "    <tr>\n",
       "      <th>accuracy</th>\n",
       "      <td>0.968735</td>\n",
       "      <td>0.968534</td>\n",
       "    </tr>\n",
       "    <tr>\n",
       "      <th>precision</th>\n",
       "      <td>0.492094</td>\n",
       "      <td>0.511958</td>\n",
       "    </tr>\n",
       "    <tr>\n",
       "      <th>recall</th>\n",
       "      <td>0.219153</td>\n",
       "      <td>0.226008</td>\n",
       "    </tr>\n",
       "    <tr>\n",
       "      <th>f1</th>\n",
       "      <td>0.298318</td>\n",
       "      <td>0.308611</td>\n",
       "    </tr>\n",
       "  </tbody>\n",
       "</table>\n",
       "</div>"
      ],
      "text/plain": [
       "           Logistic_Regression  Random_Forests\n",
       "accuracy              0.968735        0.968534\n",
       "precision             0.492094        0.511958\n",
       "recall                0.219153        0.226008\n",
       "f1                    0.298318        0.308611"
      ]
     },
     "execution_count": 126,
     "metadata": {},
     "output_type": "execute_result"
    }
   ],
   "source": [
    "#performing corss validation for the logistic and random forest models using the optimal features\n",
    "y = df_all[\"death_yn\"]\n",
    "X = df_all[optimum_features]\n",
    "print(\"Number of features: \", len(X.columns))\n",
    "logRegDF_optimum = cross_val_LogReg_DF(X,y)\n",
    "RandomForestDF_optimum = cross_val_RandomForest_DF(X,y,depth=None,estimators=100)\n",
    "# merge all 3 models into dataframe\n",
    "ResultsDF_optimum_features = pd.concat([logRegDF_optimum, RandomForestDF_optimum], axis=1)\n",
    "ResultsDF_optimum_features"
   ]
  },
  {
   "cell_type": "code",
   "execution_count": 127,
   "metadata": {},
   "outputs": [
    {
     "name": "stdout",
     "output_type": "stream",
     "text": [
      "\n",
      "Scores using subset of features: (from part 1)\n",
      "===================================================================\n",
      "           Linear_Regression  Logistic_Regression  Random_Forests\n",
      "accuracy            0.968470             0.970338        0.969236\n",
      "precision           0.773333             0.547593        0.526778\n",
      "recall              0.031295             0.257460        0.177520\n",
      "f1                  0.060018             0.345009        0.259557\n",
      "\n",
      "Scores using all features\n",
      "===================================================================\n",
      "           Linear_Regression  Logistic_Regression  Random_Forests\n",
      "accuracy            0.968470             0.970438        0.966430\n",
      "precision           0.776667             0.554265        0.446703\n",
      "recall              0.032248             0.238105        0.235786\n",
      "f1                  0.061754             0.329323        0.304861\n",
      "\n",
      "Scores using top features based on random forest importance \n",
      "===================================================================\n",
      "           Linear_Regression  Logistic_Regression  Random_Forests\n",
      "accuracy            0.968470             0.969637        0.970538\n",
      "precision           0.773333             0.520858        0.680000\n",
      "recall              0.031295             0.254435        0.145968\n",
      "f1                  0.060018             0.337557        0.230297\n",
      "\n",
      "Scores using optimum features \n",
      "===================================================================\n",
      "           Logistic_Regression  Random_Forests\n",
      "accuracy              0.968735        0.968534\n",
      "precision             0.492094        0.511958\n",
      "recall                0.219153        0.226008\n",
      "f1                    0.298318        0.308611\n"
     ]
    }
   ],
   "source": [
    "print(\"\\nScores using subset of features: (from part 1)\")\n",
    "print(\"===================================================================\")\n",
    "print(ResultsDF)\n",
    "print(\"\\nScores using all features\")\n",
    "print(\"===================================================================\")\n",
    "print(ResultsDF_allFeatures)\n",
    "print(\"\\nScores using top features based on random forest importance \")\n",
    "print(\"===================================================================\")\n",
    "print(ResultsDF_top_three)\n",
    "print(\"\\nScores using optimum features \")\n",
    "print(\"===================================================================\")\n",
    "print(ResultsDF_optimum_features)"
   ]
  },
  {
   "cell_type": "markdown",
   "metadata": {},
   "source": [
    "**Summary**: Obviously using the optimal features as decided by the random forest model does optimize the random forest itself, but this does not translate to the logistic model. When these features are used in the logistic model they actually pull down the all four metrics when compared to the other subsets of features. The logistic model using the subset of features from part one still performs better. In fact it is the best performing model out of the lot.\n",
    "\n",
    "As one final step we will take this model and train it on an oversampled dataset as discussed in the previous section. The results can be seen below. While it is by no means a perfect model, it has the highest recall of all of the models, which is very important for this task as we want to produce as little false negatives as possible. This is due to the fact that there is a high cost associated with a false negative i.e. there is room for error in terms of false positives as the patient is not at risk but will be told they are, however if a patient is told they are not at risk when they are in fact at risk this could lead to complications. In essence, it is better for a patient to know that they may be at risk, regardless of if they actually are! \n",
    "\n",
    "The linear regression model has the worst performance across the board, while the logistic and random forest perform almost the exact same. By means of oversampling we are able to tune the model training such that it predicts the positive class in higher quantities. While this model does produce quite a few false positives as a result, this is a trade off we must deal with in order to ensure that false negatives are as low as possible. The metrics of this model can be seen below when used for predictions of the test set. We obtain a very high recall of 84%, but quite a low precision of 24%. However, we are willing to make this trade off in order to ensure that patients are rarely categorized as 'not at risk' when they very well could be. "
   ]
  },
  {
   "cell_type": "code",
   "execution_count": 147,
   "metadata": {},
   "outputs": [
    {
     "name": "stdout",
     "output_type": "stream",
     "text": [
      "==================== Final Model on test set  =======================\n",
      "Accuracy:  0.8954575818303273\n",
      "Confusion matrix: \n",
      " [[2591  298]\n",
      " [  15   90]]\n",
      "Classification report:\n",
      "                precision    recall  f1-score   support\n",
      "\n",
      "           0       0.99      0.90      0.94      2889\n",
      "           1       0.23      0.86      0.37       105\n",
      "\n",
      "    accuracy                           0.90      2994\n",
      "   macro avg       0.61      0.88      0.65      2994\n",
      "weighted avg       0.97      0.90      0.92      2994\n",
      "\n"
     ]
    }
   ],
   "source": [
    "from imblearn.over_sampling import SMOTE\n",
    "y = df_balance[\"death_yn\"]\n",
    "x = df_balance.drop([\"death_yn\"],1)\n",
    "x_train, x_test, y_train, y_test = train_test_split(x, y, test_size=0.3,random_state=5)\n",
    "SMOTE = SMOTE()\n",
    "X_SMOTE, y_SMOTE = SMOTE.fit_resample(x_train, y_train)\n",
    "Final_Model = LogisticRegression().fit(X_SMOTE, y_SMOTE)\n",
    "Final_test_predictions = Final_Model.predict(x_test)\n",
    "print(\"==================== Final Model on test set  =======================\")\n",
    "print(\"Accuracy: \", metrics.accuracy_score(y_test, Final_test_predictions))\n",
    "print(\"Confusion matrix: \\n\", metrics.confusion_matrix(y_test, Final_test_predictions))\n",
    "print(\"Classification report:\\n \", metrics.classification_report(y_test, Final_test_predictions))"
   ]
  },
  {
   "cell_type": "markdown",
   "metadata": {},
   "source": [
    "## 5.3 Model Evaluation\n",
    "\n",
    "### Evaluation on the test dataset provided \n",
    "\n",
    "We must modify the test dataset such that it complys with our model, this involves transforming the data generally in the same way that the training data was transformed originally. This process can be seen below."
   ]
  },
  {
   "cell_type": "code",
   "execution_count": 129,
   "metadata": {},
   "outputs": [],
   "source": [
    "#read in the dataset\n",
    "test_df = pd.read_csv('24032021-covid19-cdc-deathyn-recent-10k .csv')"
   ]
  },
  {
   "cell_type": "code",
   "execution_count": 130,
   "metadata": {},
   "outputs": [],
   "source": [
    "#Select all columns of type 'object'\n",
    "object_columns = test_df.select_dtypes(['object']).columns\n",
    "object_columns\n",
    "#Convert selected columns to type 'category'\n",
    "for column in object_columns:\n",
    "    test_df[column] = test_df[column].astype('category')"
   ]
  },
  {
   "cell_type": "code",
   "execution_count": 131,
   "metadata": {},
   "outputs": [],
   "source": [
    "#replacing all missing values with NaN\n",
    "test_df  = test_df.replace('Missing', np.NaN)"
   ]
  },
  {
   "cell_type": "code",
   "execution_count": 132,
   "metadata": {},
   "outputs": [],
   "source": [
    "#data imputation - replace all NaN values with 'Unknown'\n",
    "test_df['hosp_yn'] = test_df['hosp_yn'].fillna('Unknown') \n",
    "test_df['medcond_yn'] = test_df['medcond_yn'].fillna('Unknown') \n",
    "test_df['icu_yn'] = test_df['icu_yn'].fillna('Unknown') "
   ]
  },
  {
   "cell_type": "code",
   "execution_count": 133,
   "metadata": {},
   "outputs": [],
   "source": [
    "#drop all unused columns\n",
    "test_df = test_df.drop(['cdc_case_earliest_dt','cdc_report_dt','pos_spec_dt','onset_dt','current_status','race_ethnicity_combined'], axis = 1) "
   ]
  },
  {
   "cell_type": "code",
   "execution_count": 134,
   "metadata": {},
   "outputs": [],
   "source": [
    "#data imputation - replace all NaN values with 'Unknown'\n",
    "test_df = test_df[test_df['age_group'].notna()]\n",
    "test_df = test_df[test_df['sex'].notna()]"
   ]
  },
  {
   "cell_type": "code",
   "execution_count": 135,
   "metadata": {},
   "outputs": [
    {
     "data": {
      "text/html": [
       "<div>\n",
       "<style scoped>\n",
       "    .dataframe tbody tr th:only-of-type {\n",
       "        vertical-align: middle;\n",
       "    }\n",
       "\n",
       "    .dataframe tbody tr th {\n",
       "        vertical-align: top;\n",
       "    }\n",
       "\n",
       "    .dataframe thead th {\n",
       "        text-align: right;\n",
       "    }\n",
       "</style>\n",
       "<table border=\"1\" class=\"dataframe\">\n",
       "  <thead>\n",
       "    <tr style=\"text-align: right;\">\n",
       "      <th></th>\n",
       "      <th>%missing</th>\n",
       "    </tr>\n",
       "  </thead>\n",
       "  <tbody>\n",
       "    <tr>\n",
       "      <th>sex</th>\n",
       "      <td>0.0</td>\n",
       "    </tr>\n",
       "    <tr>\n",
       "      <th>age_group</th>\n",
       "      <td>0.0</td>\n",
       "    </tr>\n",
       "    <tr>\n",
       "      <th>hosp_yn</th>\n",
       "      <td>0.0</td>\n",
       "    </tr>\n",
       "    <tr>\n",
       "      <th>icu_yn</th>\n",
       "      <td>0.0</td>\n",
       "    </tr>\n",
       "    <tr>\n",
       "      <th>death_yn</th>\n",
       "      <td>0.0</td>\n",
       "    </tr>\n",
       "    <tr>\n",
       "      <th>medcond_yn</th>\n",
       "      <td>0.0</td>\n",
       "    </tr>\n",
       "  </tbody>\n",
       "</table>\n",
       "</div>"
      ],
      "text/plain": [
       "            %missing\n",
       "sex              0.0\n",
       "age_group        0.0\n",
       "hosp_yn          0.0\n",
       "icu_yn           0.0\n",
       "death_yn         0.0\n",
       "medcond_yn       0.0"
      ]
     },
     "execution_count": 135,
     "metadata": {},
     "output_type": "execute_result"
    }
   ],
   "source": [
    "# Prepare %missing column\n",
    "missing  = 100 * (test_df.isnull().sum()/df.shape[0])\n",
    "# store the values in a dataframe\n",
    "missing = pd.DataFrame(missing, columns=['%missing'])\n",
    "missing"
   ]
  },
  {
   "cell_type": "code",
   "execution_count": 136,
   "metadata": {},
   "outputs": [],
   "source": [
    "#converting categorical data into dummy or indicator variables \n",
    "variables = ['age_group','hosp_yn','icu_yn','medcond_yn','sex']\n",
    "for col in variables:\n",
    "    dummies = pd.get_dummies(test_df[col],prefix = col, drop_first=True)\n",
    "    test_df = pd.concat([test_df,dummies], axis = 1)"
   ]
  },
  {
   "cell_type": "code",
   "execution_count": 137,
   "metadata": {},
   "outputs": [],
   "source": [
    "#dropping unused columns\n",
    "test_df = test_df.drop(variables, axis=1)"
   ]
  },
  {
   "cell_type": "code",
   "execution_count": 138,
   "metadata": {},
   "outputs": [],
   "source": [
    "#mapping the target feature to binary digits, 1 for yes and 0 for no. \n",
    "test_df['death_yn'] = test_df['death_yn'].map({'Yes': 1, 'No': 0})"
   ]
  },
  {
   "cell_type": "code",
   "execution_count": 139,
   "metadata": {},
   "outputs": [],
   "source": [
    "#creating variables and target feature \n",
    "x_testdf = test_df.drop('death_yn',axis=1)\n",
    "y_testdf = test_df['death_yn']"
   ]
  },
  {
   "cell_type": "code",
   "execution_count": 140,
   "metadata": {},
   "outputs": [],
   "source": [
    "#drop columns that are not in original dataset\n",
    "x_testdf = x_testdf.drop('sex_Other',axis=1)"
   ]
  },
  {
   "cell_type": "markdown",
   "metadata": {},
   "source": [
    "The dataframe is now prepped and ready to be passed into our final model."
   ]
  },
  {
   "cell_type": "code",
   "execution_count": 141,
   "metadata": {},
   "outputs": [
    {
     "name": "stdout",
     "output_type": "stream",
     "text": [
      "==================== Test Data =======================\n",
      "Accuracy:  0.8929537937255688\n",
      "Confusion matrix: \n",
      " [[8812 1045]\n",
      " [  23   97]]\n",
      "Classification report:\n",
      "                precision    recall  f1-score   support\n",
      "\n",
      "           0       1.00      0.89      0.94      9857\n",
      "           1       0.08      0.81      0.15       120\n",
      "\n",
      "    accuracy                           0.89      9977\n",
      "   macro avg       0.54      0.85      0.55      9977\n",
      "weighted avg       0.99      0.89      0.93      9977\n",
      "\n",
      "======================================================\n"
     ]
    }
   ],
   "source": [
    "Final_predictions = Final_Model.predict(x_testdf)\n",
    "\n",
    "print(\"==================== Test Data =======================\")\n",
    "print(\"Accuracy: \", metrics.accuracy_score(y_testdf, Final_predictions))\n",
    "print(\"Confusion matrix: \\n\", metrics.confusion_matrix(y_testdf, Final_predictions))\n",
    "print(\"Classification report:\\n \", metrics.classification_report(y_testdf, Final_predictions))\n",
    "print(\"======================================================\")"
   ]
  },
  {
   "cell_type": "markdown",
   "metadata": {},
   "source": [
    "Just for some comparison, if we compare this with the logistic model that has not been trained on oversampled data we can see a total of 86 people who died from covid-19 would not have been categorized as high risk by this model, this number of false negatives is more than halved in our oversampled model. Of course the number of false positives is far lower than the oversampled model, but this is the trade off that we must allow for given the nature of what we are predicting. We want to ensure that patients who are at risk know they are at risk, regardless of whether they truely are or not. "
   ]
  },
  {
   "cell_type": "code",
   "execution_count": 142,
   "metadata": {},
   "outputs": [
    {
     "name": "stdout",
     "output_type": "stream",
     "text": [
      "==================== Test Data =======================\n",
      "Accuracy:  0.9865691089505864\n",
      "Confusion matrix: \n",
      " [[9809   48]\n",
      " [  86   34]]\n",
      "Classification report:\n",
      "                precision    recall  f1-score   support\n",
      "\n",
      "           0       0.99      1.00      0.99      9857\n",
      "           1       0.41      0.28      0.34       120\n",
      "\n",
      "    accuracy                           0.99      9977\n",
      "   macro avg       0.70      0.64      0.66      9977\n",
      "weighted avg       0.98      0.99      0.99      9977\n",
      "\n",
      "======================================================\n"
     ]
    }
   ],
   "source": [
    "Final_predictions2 = LogReg.predict(x_testdf)\n",
    "print(\"==================== Test Data =======================\")\n",
    "print(\"Accuracy: \", metrics.accuracy_score(y_testdf, Final_predictions2))\n",
    "print(\"Confusion matrix: \\n\", metrics.confusion_matrix(y_testdf, Final_predictions2))\n",
    "print(\"Classification report:\\n \", metrics.classification_report(y_testdf, Final_predictions2))\n",
    "print(\"======================================================\")"
   ]
  },
  {
   "cell_type": "markdown",
   "metadata": {},
   "source": [
    "**Summary of results:**\n",
    "\n",
    "Ideally we would like a model that has both high recall and high precision. However, we have found that this is quite difficult to achieve due to the imbalanced nature of the data set. while we could have produced a model that produced roughly equal but low precision and recall, it was decided that due to the nature of the prediction that it would be better to have the model tuned such that the recall is greater than precision. As explained previously we want to keep the amount of false negatives predicted by the model as low as possible. The purpose of the model is to predict how at risk a patient is if they are infected with covid-19. As such, we accept the lower cost of additional worry that more False Positives might entail before risk of death as a result of covid-19 is ruled out. In other words, we want to minimise False Negatives at the risk of increasing False Positives."
   ]
  },
  {
   "cell_type": "markdown",
   "metadata": {},
   "source": [
    "## 5.4 Conclusions\n",
    "- 3 predictive models have been evaluated in this notebook. The linear regression model proved to be the worst at producing predictions of the three, while the random forest and logistic regression models performed similarly, with the logistic model being marginally better \n",
    "- The large majority of the features in the dataset have been found to have little impact on the target feature, with only the top few having any significant impact (hospilization, old age, ICU admission, sex etc.)\n",
    "- It was difficult to optimize the models, a number of techniques were tried but none seemed to produce any significant improvements form the baseline model used. While resampling the training data did improve recall significantly, it consequently brought down the precision of the model.\n",
    "- In the end it was decided that a trade off would have to be made between precision and recall, and due to the nature of the problem it was decided that recall would be prioritized.\n",
    "- While there is most definitely room for improvements with this model, given that we were working with such an imbalanced dataset it was no easy task to produce a well balanced model.\n",
    "- For future work perhaps it would be worth while deriving some new features that could be of use, particularly datetime features that could properly capture the trends in death rates throughout the year. As well as this we could re-evaluate each model on the whole dataset and perhaps some additional evaluation measures could be incorporated such as ROC and AUC such that we could get a better idea of how well the classifier is performing. \n",
    "\n",
    "\n",
    "\n",
    "\n"
   ]
  }
 ],
 "metadata": {
  "kernelspec": {
   "display_name": "Python 3",
   "language": "python",
   "name": "python3"
  },
  "language_info": {
   "codemirror_mode": {
    "name": "ipython",
    "version": 3
   },
   "file_extension": ".py",
   "mimetype": "text/x-python",
   "name": "python",
   "nbconvert_exporter": "python",
   "pygments_lexer": "ipython3",
   "version": "3.8.3"
  }
 },
 "nbformat": 4,
 "nbformat_minor": 4
}
